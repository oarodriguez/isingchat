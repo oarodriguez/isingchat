{
 "cells": [
  {
   "cell_type": "markdown",
   "metadata": {},
   "source": [
    "# Analytical correlation function for near neighbor"
   ]
  },
  {
   "cell_type": "markdown",
   "metadata": {},
   "source": [
    "### Function definitions"
   ]
  },
  {
   "cell_type": "code",
   "execution_count": 10,
   "metadata": {},
   "outputs": [],
   "source": [
    "import sys \n",
    "# sys.path\n",
    "# sys.path.append('C:\\\\Users\\\\MHJGuillermo\\\\PycharmProjects\\\\Doctorado\\\\Ising\\\\Varios_vecinos\\\\venv\\\\src')"
   ]
  },
  {
   "cell_type": "code",
   "execution_count": 11,
   "metadata": {},
   "outputs": [],
   "source": [
    "import numpy as np\n",
    "import scipy\n",
    "import style\n",
    "from scipy.sparse import csr_matrix, coo_matrix\n",
    "from scipy.linalg import eig as get_eigs\n",
    "import math\n",
    "from matplotlib import pyplot, rcParams\n",
    "from matplotlib.axes import Axes, GridSpec\n",
    "from matplotlib.figure import Figure"
   ]
  },
  {
   "cell_type": "code",
   "execution_count": 12,
   "metadata": {},
   "outputs": [],
   "source": [
    "def theta_funct(J: float, h: float, T: float):\n",
    "    \"\"\" Return the theta angule function for one-dimensional Ising chain with near neighbor interaction \n",
    "    \n",
    "    Args:\n",
    "        J: A float number. Interchange energy\n",
    "        h: A float number. Magnetic field\n",
    "        T: A float number. Temperature\n",
    "\n",
    "    Returns:\n",
    "        A float number\n",
    "\n",
    "    Raises:\n",
    "    \"\"\"\n",
    "    return math.atan((math.exp(-2*J/T))/(math.sinh(h/T)))\n",
    "\n",
    "def lambda_p(J: float, h: float, T: float):\n",
    "    \"\"\" Return the theta angule function for one-dimensional Ising chain with near neighbor interaction \n",
    "    \n",
    "    Args:\n",
    "        J: A float number. Interchange energy\n",
    "        h: A float number. Magnetic field\n",
    "        T: A float number. Temperature\n",
    "\n",
    "    Returns:\n",
    "        A float number\n",
    "\n",
    "    Raises:\n",
    "    \"\"\"\n",
    "    return math.exp(J/T)*math.cosh(h/J)+math.sqrt(math.exp(-2*J/T)+math.exp(2*J/T)*(math.sinh(h/T)**2))\n",
    "\n",
    "def lambda_m(J: float, h: float, T: float):\n",
    "    \"\"\" Return the theta angule function for one-dimensional Ising chain with near neighbor interaction \n",
    "    \n",
    "    Args:\n",
    "        J: A float number. Interchange energy\n",
    "        h: A float number. Magnetic field\n",
    "        T: A float number. Temperature\n",
    "\n",
    "    Returns:\n",
    "        A float number\n",
    "\n",
    "    Raises:\n",
    "    \"\"\"\n",
    "    return math.exp(J/T)*math.cosh(h/J)-math.sqrt(math.exp(-2*J/T)+math.exp(2*J/T)*(math.sinh(h/T)**2))\n",
    "\n",
    "def cor_funct_two_neighbors(J: float, h: float, T: float, r: int):\n",
    "    \"\"\" Return the theta angule function for one-dimensional Ising chain with near neighbor interaction \n",
    "    \n",
    "    Args:\n",
    "        J: A float number. Interchange energy\n",
    "        h: A float number. Magnetic field\n",
    "        T: A float number. Temperature\n",
    "        r: An int number. Number of distance between spins\n",
    "\n",
    "    Returns:\n",
    "        A float number\n",
    "\n",
    "    Raises:\n",
    "    \"\"\"\n",
    "    return (math.cos(theta_funct(J,h,T))**2 + ((lambda_m(J,h,T)/lambda_p(J,h,T))**r)*(math.sin(theta_funct(J,h,T))**2))\n",
    "\n",
    "def lenght_corr_two_neighbors(J: float, h: float, T: float, r: int):\n",
    "    \"\"\" Return the theta angule function for one-dimensional Ising chain with near neighbor interaction \n",
    "    \n",
    "    Args:\n",
    "        J: A float number. Interchange energy\n",
    "        h: A float number. Magnetic field\n",
    "        T: A float number. Temperature\n",
    "        r: An int number. Number of distance between spins\n",
    "\n",
    "    Returns:\n",
    "        A float number\n",
    "\n",
    "    Raises:\n",
    "    \"\"\"\n",
    "    return -(r/math.log(cor_funct_two_neighbors(J,h,T,r)))"
   ]
  },
  {
   "cell_type": "markdown",
   "metadata": {},
   "source": [
    "## Plots"
   ]
  },
  {
   "cell_type": "code",
   "execution_count": 13,
   "metadata": {},
   "outputs": [],
   "source": [
    "jota = 1\n",
    "mag_field = 1\n",
    "tem = 1\n",
    "theta = theta_funct(jota,mag_field,tem)\n",
    "eigen_p = np.array([math.cos(theta/2),math.sin(theta/2)])\n",
    "eigen_m = np.array([-math.sin(theta/2),math.cos(theta/2)])"
   ]
  },
  {
   "cell_type": "code",
   "execution_count": 16,
   "metadata": {},
   "outputs": [
    {
     "data": {
      "text/plain": [
       "Text(0, 0.5, '$C(r)$')"
      ]
     },
     "execution_count": 16,
     "metadata": {},
     "output_type": "execute_result"
    },
    {
     "data": {
      "image/png": "[encoded data removed]",
      "text/plain": [
       "<Figure size 900x600 with 1 Axes>"
      ]
     },
     "metadata": {},
     "output_type": "display_data"
    }
   ],
   "source": [
    "# Load the default style.\n",
    "# style.use(\"default\")\n",
    "# rcParams[\"text.usetex\"] = False\n",
    "\n",
    "# fig1: Figure = pyplot.figure(figsize=(4, 9), dpi=150)\n",
    "# grid_spec = GridSpec(3, 1)\n",
    "\n",
    "x = np.arange(0,30,1)\n",
    "y = []\n",
    "for r in x:\n",
    "    y.append(cor_funct_two_neighbors(jota,mag_field,tem,r))\n",
    "pyplot.plot(x, y, 'o', color='black')\n",
    "# pyplot.semilogy(x, y, 'o', color='black')\n",
    "pyplot.rc('text', usetex=True)\n",
    "pyplot.rc('font', family='serif')\n",
    "# text_figure = '$k_BT/J={}$, $h/J={}$'.format(tem,mag_field)\n",
    "# pyplot.text(10, 0.6, text_figure,style='italic',\n",
    "#         bbox={'facecolor': 'white', 'alpha': 0.5, 'pad': 10})\n",
    "pyplot.title('Correlation function')\n",
    "pyplot.xlabel('$r$')\n",
    "pyplot.ylabel('$C(r)$')"
   ]
  },
  {
   "cell_type": "code",
   "execution_count": 8,
   "metadata": {},
   "outputs": [
    {
     "name": "stderr",
     "output_type": "stream",
     "text": [
      "C:\\Users\\MHJGuillermo\\AppData\\Local\\Programs\\Python\\Python37\\lib\\site-packages\\ipykernel_launcher.py:76: RuntimeWarning: invalid value encountered in true_divide\n"
     ]
    },
    {
     "data": {
      "text/plain": [
       "Text(0, 0.5, 'C(r)')"
      ]
     },
     "execution_count": 8,
     "metadata": {},
     "output_type": "execute_result"
    },
    {
     "data": {
      "image/png": "[encoded data removed]",
      "text/plain": [
       "<Figure size 432x288 with 1 Axes>"
      ]
     },
     "metadata": {
      "needs_background": "light"
     },
     "output_type": "display_data"
    }
   ],
   "source": [
    "x = np.arange(0,30,1)\n",
    "y = []\n",
    "tem = 1\n",
    "for r in x:\n",
    "    y.append(lenght_corr_two_neighbors(jota,mag_field,tem,r))\n",
    "pyplot.plot(x, y, 'o', color='black')\n",
    "pyplot.rc('text', usetex=True)\n",
    "pyplot.rc('font', family='serif')\n",
    "pyplot.title('Lenght Correlation function')\n",
    "text_figure = '$k_BT/J={}$, $h/J={}$'.format(tem,mag_field)\n",
    "pyplot.text(15, 500, text_figure,style='italic',\n",
    "        bbox={'facecolor': 'white', 'alpha': 0.5, 'pad': 10})\n",
    "pyplot.xlabel('r')\n",
    "pyplot.ylabel('C(r)')\n",
    "\n",
    "# list_non_img_eigen = A_eigenvalues.imag == 0\n",
    "# if False in list_non_img_eigen:\n",
    "#     print('all is ok')"
   ]
  }
 ],
 "metadata": {
  "kernelspec": {
   "display_name": "Python 3.7.3 64-bit",
   "language": "python",
   "name": "python37364bit1e360056847e4522a208851a69c485d0"
  },
  "language_info": {
   "codemirror_mode": {
    "name": "ipython",
    "version": 3
   },
   "file_extension": ".py",
   "mimetype": "text/x-python",
   "name": "python",
   "nbconvert_exporter": "python",
   "pygments_lexer": "ipython3",
   "version": "3.7.3"
  }
 },
 "nbformat": 4,
 "nbformat_minor": 4
}
