{
 "cells": [
  {
   "cell_type": "markdown",
   "metadata": {},
   "source": [
    "# Exp with finite-size"
   ]
  },
  {
   "cell_type": "code",
   "execution_count": 28,
   "metadata": {},
   "outputs": [],
   "source": [
    "from isingchat import ising\n",
    "import numpy as np\n",
    "import scipy"
   ]
  },
  {
   "cell_type": "code",
   "execution_count": 29,
   "metadata": {},
   "outputs": [],
   "source": [
    "temp = 1\n",
    "mag_field = 0\n",
    "interactions=1/np.array([1,2])**2\n",
    "num_neighbors = 2\n",
    "num_tm_eigvals = None"
   ]
  },
  {
   "cell_type": "code",
   "execution_count": 9,
   "metadata": {},
   "outputs": [
    {
     "data": {
      "text/plain": [
       "array([1.  , 0.25])"
      ]
     },
     "execution_count": 9,
     "metadata": {},
     "output_type": "execute_result"
    }
   ],
   "source": [
    "interactions"
   ]
  },
  {
   "cell_type": "code",
   "execution_count": 30,
   "metadata": {},
   "outputs": [],
   "source": [
    "\"\"\"Calculate the Helmholtz free energy for a finite chain.\"\"\"\n",
    "nnz_elems, nnz_rows, nnz_cols = ising._csr_finite_log_transfer_matrix_parts_fast(\n",
    "    temp, mag_field, interactions, num_neighbors\n",
    ")\n",
    "\n",
    "# Normalize nonzero matrix elements.\n",
    "max_w_log_elem = np.max(nnz_elems)\n",
    "nnz_elems -= max_w_log_elem\n",
    "norm_nnz_elems = np.exp(nnz_elems)\n",
    "# Construct the sparse matrix.\n",
    "num_rows = 2 ** num_neighbors\n",
    "w_shape = (num_rows, num_rows)\n",
    "w_matrix = ising.csr_matrix(\n",
    "    (norm_nnz_elems, (nnz_rows, nnz_cols)), shape=w_shape\n",
    ")\n",
    "# Strictly, we should calculate all the eigenvalues and calculate the\n",
    "# Free energy according to F. A, Kassan-ogly (2001),\n",
    "#   https://www.tandfonline.com/doi/abs/10.1080/0141159010822758.\n",
    "# However, in practice, the contribution of the second largest and\n",
    "# subsequent eigenvalues to the partition function decreases fast, so it\n",
    "# is sufficient to calculate only a few of the largest eigenvalues.\n",
    "if num_tm_eigvals is None:\n",
    "    num_eigvals = min(num_neighbors ** 2, num_rows - 2)\n",
    "else:\n",
    "    num_eigvals = min(num_tm_eigvals, num_rows - 2)\n",
    "# For three or two interactions we take all eigenvalues\n",
    "if len(interactions) <= 3:\n",
    "    w_matrix_dense = w_matrix.todense()\n",
    "    w_all_norm_eigvals: np.ndarray = scipy.linalg.eig(w_matrix_dense)\n",
    "    w_norm_eigvals = w_all_norm_eigvals[0]\n",
    "else:\n",
    "    w_norm_eigvals: np.ndarray = ising.sparse_eigs(\n",
    "        w_matrix, k=num_eigvals, which=\"LM\", return_eigenvectors=False\n",
    "    )"
   ]
  },
  {
   "cell_type": "code",
   "execution_count": 24,
   "metadata": {},
   "outputs": [],
   "source": [
    "eigenvals= ising.sparse_eigs(\n",
    "        w_matrix, k=num_eigvals, which=\"LM\", return_eigenvectors=False\n",
    "    )"
   ]
  },
  {
   "cell_type": "code",
   "execution_count": 25,
   "metadata": {},
   "outputs": [
    {
     "data": {
      "text/plain": [
       "array([1.+0.j, 1.+0.j])"
      ]
     },
     "execution_count": 25,
     "metadata": {},
     "output_type": "execute_result"
    }
   ],
   "source": [
    "eigenvals"
   ]
  },
  {
   "cell_type": "code",
   "execution_count": 16,
   "metadata": {},
   "outputs": [
    {
     "name": "stdout",
     "output_type": "stream",
     "text": [
      "  (0, 0)\t1.0\n",
      "  (1, 2)\t0.1353352832366127\n",
      "  (2, 1)\t0.1353352832366127\n",
      "  (3, 3)\t1.0\n",
      "\n",
      "\n",
      "[ 0.13533528+0.j -0.13533528+0.j  1.        +0.j  1.        +0.j]\n"
     ]
    }
   ],
   "source": [
    "print(w_matrix)\n",
    "print(\"\\n\")\n",
    "print(w_norm_eigvals)"
   ]
  },
  {
   "cell_type": "code",
   "execution_count": 31,
   "metadata": {},
   "outputs": [
    {
     "data": {
      "text/plain": [
       "array([ 0.13533528, -0.13533528,  1.        ,  1.        ])"
      ]
     },
     "execution_count": 31,
     "metadata": {},
     "output_type": "execute_result"
    }
   ],
   "source": [
    "w_norm_eigvals.real"
   ]
  },
  {
   "cell_type": "code",
   "execution_count": 26,
   "metadata": {},
   "outputs": [],
   "source": [
    "eigvals_norms: np.ndarray = np.abs(w_norm_eigvals)\n",
    "max_eigval_norm_idx = eigvals_norms.argmax()\n",
    "max_eigval_norm = eigvals_norms[max_eigval_norm_idx]\n",
    "reduced_eigvals = w_norm_eigvals.real / max_eigval_norm\n",
    "reduced_eigvals_contrib = np.sum(reduced_eigvals ** (num_neighbors))\n",
    "\n",
    "helm_free_erg = -temp * (\n",
    "    max_w_log_elem\n",
    "    + np.log(max_eigval_norm)\n",
    "    + np.log(reduced_eigvals_contrib.real) / num_neighbors\n",
    ")"
   ]
  },
  {
   "cell_type": "code",
   "execution_count": 27,
   "metadata": {},
   "outputs": [
    {
     "data": {
      "text/plain": [
       "-1.6056485542388774"
      ]
     },
     "execution_count": 27,
     "metadata": {},
     "output_type": "execute_result"
    }
   ],
   "source": [
    "helm_free_erg"
   ]
  },
  {
   "cell_type": "code",
   "execution_count": null,
   "metadata": {},
   "outputs": [],
   "source": []
  }
 ],
 "metadata": {
  "kernelspec": {
   "display_name": "Python 3",
   "language": "python",
   "name": "python3"
  },
  "language_info": {
   "codemirror_mode": {
    "name": "ipython",
    "version": 3
   },
   "file_extension": ".py",
   "mimetype": "text/x-python",
   "name": "python",
   "nbconvert_exporter": "python",
   "pygments_lexer": "ipython3",
   "version": "3.7.3"
  }
 },
 "nbformat": 4,
 "nbformat_minor": 4
}
