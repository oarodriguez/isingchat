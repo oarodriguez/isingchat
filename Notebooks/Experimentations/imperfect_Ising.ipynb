{
 "cells": [
  {
   "cell_type": "markdown",
   "metadata": {},
   "source": [
    "# Exp with imperfection"
   ]
  },
  {
   "cell_type": "code",
   "execution_count": 34,
   "metadata": {},
   "outputs": [],
   "source": [
    "from isingchat import ising\n",
    "import numpy as np\n",
    "import scipy"
   ]
  },
  {
   "cell_type": "code",
   "execution_count": 45,
   "metadata": {},
   "outputs": [],
   "source": [
    "temp = 1\n",
    "mag_field = 0\n",
    "interactions=1/np.array([1,2])**2\n",
    "interactions_2=1/np.array([1,2])**2\n",
    "num_neighbors = 2"
   ]
  },
  {
   "cell_type": "code",
   "execution_count": 28,
   "metadata": {},
   "outputs": [
    {
     "data": {
      "text/plain": [
       "array([0.44444444, 0.16      ])"
      ]
     },
     "execution_count": 28,
     "metadata": {},
     "output_type": "execute_result"
    }
   ],
   "source": [
    "interactions_2"
   ]
  },
  {
   "cell_type": "code",
   "execution_count": 46,
   "metadata": {},
   "outputs": [
    {
     "name": "stdout",
     "output_type": "stream",
     "text": [
      "  (0, 0)\t1.0\n",
      "  (0, 1)\t0.6065306597126334\n",
      "  (1, 2)\t0.1353352832366127\n",
      "  (1, 3)\t0.0820849986238988\n",
      "  (2, 0)\t0.0820849986238988\n",
      "  (2, 1)\t0.1353352832366127\n",
      "  (3, 2)\t0.6065306597126334\n",
      "  (3, 3)\t1.0\n"
     ]
    }
   ],
   "source": [
    "nnz_elems, nnz_rows, nnz_cols = ising._csr_log_transfer_matrix_parts_fast(\n",
    "    temp, mag_field, interactions, num_neighbors\n",
    ")\n",
    "\n",
    "# Normalize nonzero matrix elements.\n",
    "max_w_log_elem_1 = np.max(nnz_elems)\n",
    "nnz_elems -= max_w_log_elem_1\n",
    "norm_nnz_elems = np.exp(nnz_elems)\n",
    "# Construct the sparse matrix.\n",
    "num_rows = 2 ** num_neighbors\n",
    "w_shape = (num_rows, num_rows)\n",
    "w_matrix_1 = ising.csr_matrix(\n",
    "    (norm_nnz_elems, (nnz_rows, nnz_cols)), shape=w_shape\n",
    ")\n",
    "\n",
    "print(w_matrix_1)\n"
   ]
  },
  {
   "cell_type": "code",
   "execution_count": 38,
   "metadata": {},
   "outputs": [
    {
     "data": {
      "text/plain": [
       "0.41111229050718745"
      ]
     },
     "execution_count": 38,
     "metadata": {},
     "output_type": "execute_result"
    }
   ],
   "source": [
    "np.exp((-1/1.5**2+1/2.5**2))/np.exp(1/1.5**2+1/2.5**2)"
   ]
  },
  {
   "cell_type": "code",
   "execution_count": 47,
   "metadata": {
    "pycharm": {
     "name": "#%%\n"
    }
   },
   "outputs": [
    {
     "name": "stdout",
     "output_type": "stream",
     "text": [
      "  (0, 0)\t1.0\n",
      "  (0, 1)\t0.6065306597126334\n",
      "  (1, 2)\t0.1353352832366127\n",
      "  (1, 3)\t0.0820849986238988\n",
      "  (2, 0)\t0.0820849986238988\n",
      "  (2, 1)\t0.1353352832366127\n",
      "  (3, 2)\t0.6065306597126334\n",
      "  (3, 3)\t1.0\n"
     ]
    }
   ],
   "source": [
    "# Second matrix\n",
    "nnz_elems, nnz_rows, nnz_cols = ising._csr_log_transfer_matrix_parts_fast(\n",
    "    temp, mag_field, interactions_2, num_neighbors\n",
    ")\n",
    "\n",
    "# Normalize nonzero matrix elements.\n",
    "max_w_log_elem_2 = np.max(nnz_elems)\n",
    "nnz_elems -= max_w_log_elem_2\n",
    "norm_nnz_elems = np.exp(nnz_elems)\n",
    "# Construct the sparse matrix.\n",
    "num_rows = 2 ** num_neighbors\n",
    "w_shape = (num_rows, num_rows)\n",
    "w_matrix_2 = ising.csr_matrix(\n",
    "    (norm_nnz_elems, (nnz_rows, nnz_cols)), shape=w_shape\n",
    ")\n",
    "print(w_matrix_2)\n"
   ]
  },
  {
   "cell_type": "code",
   "execution_count": 64,
   "metadata": {},
   "outputs": [
    {
     "name": "stdout",
     "output_type": "stream",
     "text": [
      "  (0, 3)\t0.049787068367863944\n",
      "  (0, 2)\t0.0820849986238988\n",
      "  (0, 1)\t0.6065306597126334\n",
      "  (0, 0)\t1.0\n",
      "  (1, 3)\t0.0820849986238988\n",
      "  (1, 2)\t0.049787068367863944\n",
      "  (1, 1)\t0.018315638888734182\n",
      "  (1, 0)\t0.011108996538242308\n",
      "  (2, 3)\t0.011108996538242308\n",
      "  (2, 2)\t0.018315638888734182\n",
      "  (2, 1)\t0.049787068367863944\n",
      "  (2, 0)\t0.0820849986238988\n",
      "  (3, 3)\t1.0\n",
      "  (3, 2)\t0.6065306597126334\n",
      "  (3, 1)\t0.0820849986238988\n",
      "  (3, 0)\t0.049787068367863944\n"
     ]
    }
   ],
   "source": [
    "w_matrix = w_matrix_1*w_matrix_2\n",
    "print(w_matrix)"
   ]
  },
  {
   "cell_type": "code",
   "execution_count": 65,
   "metadata": {},
   "outputs": [],
   "source": [
    "from scipy.sparse.linalg import eigs as sparse_eigs\n",
    "# Evaluate the largest eigenvalue only.\n",
    "num_eigvals = 1\n",
    "w_norm_eigvals: np.ndarray\n",
    "# noinspection PyTypeChecker\n",
    "w_norm_eigvals, _ = sparse_eigs(\n",
    "    w_matrix, k=num_eigvals, which=\"LM\", return_eigenvectors=True\n",
    ")\n",
    "max_eigval = w_norm_eigvals.real[0]\n",
    "# In the thermodynamic limit, the number of spins is infinity.\n",
    "# Accordingly, only the largest reduced eigenvalue contributes.\n",
    "cellunit = 2\n",
    "helm_free_erg_tl = -(temp / cellunit) * (\n",
    "    max_w_log_elem_1 + max_w_log_elem_2\n",
    "    + np.log(max_eigval)\n",
    ")"
   ]
  },
  {
   "cell_type": "code",
   "execution_count": 66,
   "metadata": {},
   "outputs": [
    {
     "data": {
      "text/plain": [
       "1.1113042731259941"
      ]
     },
     "execution_count": 66,
     "metadata": {},
     "output_type": "execute_result"
    }
   ],
   "source": [
    "max_eigval"
   ]
  },
  {
   "cell_type": "code",
   "execution_count": 53,
   "metadata": {},
   "outputs": [
    {
     "data": {
      "text/plain": [
       "1.25"
      ]
     },
     "execution_count": 53,
     "metadata": {},
     "output_type": "execute_result"
    }
   ],
   "source": [
    "max_w_log_elem_2"
   ]
  },
  {
   "cell_type": "code",
   "execution_count": 54,
   "metadata": {},
   "outputs": [],
   "source": [
    "w_norm_eigvals_1, _ = sparse_eigs(\n",
    "    w_matrix_1, k=num_eigvals, which=\"LM\", return_eigenvectors=True\n",
    ")\n",
    "max_eigval_1 = w_norm_eigvals_1.real[0]"
   ]
  },
  {
   "cell_type": "code",
   "execution_count": 60,
   "metadata": {},
   "outputs": [
    {
     "data": {
      "text/plain": [
       "1.1113042731259937"
      ]
     },
     "execution_count": 60,
     "metadata": {},
     "output_type": "execute_result"
    }
   ],
   "source": [
    "max_eigval_1**2"
   ]
  },
  {
   "cell_type": "code",
   "execution_count": null,
   "metadata": {},
   "outputs": [],
   "source": []
  }
 ],
 "metadata": {
  "kernelspec": {
   "display_name": "Python 3",
   "language": "python",
   "name": "python3"
  },
  "language_info": {
   "codemirror_mode": {
    "name": "ipython",
    "version": 3
   },
   "file_extension": ".py",
   "mimetype": "text/x-python",
   "name": "python",
   "nbconvert_exporter": "python",
   "pygments_lexer": "ipython3",
   "version": "3.7.3"
  }
 },
 "nbformat": 4,
 "nbformat_minor": 4
}
