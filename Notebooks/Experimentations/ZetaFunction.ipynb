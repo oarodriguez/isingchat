{
 "cells": [
  {
   "cell_type": "markdown",
   "metadata": {},
   "source": [
    "# Plot Zeta function"
   ]
  },
  {
   "cell_type": "code",
   "execution_count": 1,
   "metadata": {},
   "outputs": [],
   "source": [
    "import sys\n",
    "sys.path.append('C:\\\\Users\\\\MHJGuillermo\\\\PycharmProjects\\\\Doctorado\\\\Ising\\\\Varios_vecinos\\\\venv\\\\src')"
   ]
  },
  {
   "cell_type": "code",
   "execution_count": 3,
   "metadata": {},
   "outputs": [
    {
     "name": "stdout",
     "output_type": "stream",
     "text": [
      "Populating the interactive namespace from numpy and matplotlib\n"
     ]
    },
    {
     "name": "stderr",
     "output_type": "stream",
     "text": [
      "C:\\Users\\MHJGuillermo\\AppData\\Local\\Programs\\Python\\Python37\\lib\\site-packages\\IPython\\core\\magics\\pylab.py:160: UserWarning: pylab import has clobbered these variables: ['style', 'interp']\n",
      "`%matplotlib` prevents importing * from pylab and numpy\n",
      "  \"\\n`%matplotlib` prevents importing * from pylab and numpy\"\n"
     ]
    }
   ],
   "source": [
    "%pylab inline\n",
    "\n",
    "from pathlib import Path\n",
    "\n",
    "import h5py\n",
    "import numpy as np\n",
    "import style\n",
    "from ising.io import read_ising_config\n",
    "from matplotlib import pyplot, rcParams\n",
    "from matplotlib.axes import Axes, GridSpec\n",
    "from matplotlib.figure import Figure\n",
    "from ruamel.yaml import YAML\n",
    "from scipy import interpolate as interp\n",
    "from scipy.optimize import curve_fit\n",
    "from scipy.signal import savgol_filter\n",
    "from scipy.special import zeta, polygamma, factorial\n",
    "import pandas as pd\n",
    "import json\n",
    "\n",
    "import os\n",
    "import re\n",
    "\n",
    "yaml = YAML()"
   ]
  },
  {
   "cell_type": "code",
   "execution_count": 9,
   "metadata": {},
   "outputs": [
    {
     "data": {
      "image/png": "[encoded data removed]",
      "text/plain": [
       "<Figure size 600x1350 with 1 Axes>"
      ]
     },
     "metadata": {},
     "output_type": "display_data"
    }
   ],
   "source": [
    "# Load the default style.\n",
    "style.use(\"default\")\n",
    "rcParams[\"text.usetex\"] = False\n",
    "\n",
    "fig1: Figure = pyplot.figure(figsize=(4, 9), dpi=150)\n",
    "grid_spec = GridSpec(3, 1)\n",
    "\n",
    "# Specific heat subplot.\n",
    "ax: Axes = fig1.add_subplot(grid_spec[0, 0])\n",
    "\n",
    "# data\n",
    "x_data = np.arange(1,2,0.1)\n",
    "y_data = zeta(x_data)\n",
    "\n",
    "ax.plot(x_data, y_data, marker=\"o\", lw=1)\n",
    "\n",
    "ax.set_xlabel(r\"$x$\")\n",
    "ax.set_ylabel(r\"$\\zeta(x)$\")\n",
    "\n",
    "pyplot.draw()\n",
    "\n",
    "pyplot.show()"
   ]
  },
  {
   "cell_type": "code",
   "execution_count": 8,
   "metadata": {},
   "outputs": [
    {
     "data": {
      "text/plain": [
       "array([        inf, 10.58444846,  5.59158244,  3.93194921,  3.10554728,\n",
       "        2.61237535,  2.28576567,  2.05428876,  1.88222962,  1.74974644])"
      ]
     },
     "execution_count": 8,
     "metadata": {},
     "output_type": "execute_result"
    }
   ],
   "source": [
    "y_data"
   ]
  },
  {
   "cell_type": "code",
   "execution_count": null,
   "metadata": {},
   "outputs": [],
   "source": []
  }
 ],
 "metadata": {
  "kernelspec": {
   "display_name": "Python 3.7.3 64-bit",
   "language": "python",
   "name": "python37364bit1e360056847e4522a208851a69c485d0"
  },
  "language_info": {
   "codemirror_mode": {
    "name": "ipython",
    "version": 3
   },
   "file_extension": ".py",
   "mimetype": "text/x-python",
   "name": "python",
   "nbconvert_exporter": "python",
   "pygments_lexer": "ipython3",
   "version": "3.7.3"
  }
 },
 "nbformat": 4,
 "nbformat_minor": 4
}
