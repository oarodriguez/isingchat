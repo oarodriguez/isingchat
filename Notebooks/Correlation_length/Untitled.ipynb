{
 "cells": [
  {
   "cell_type": "markdown",
   "metadata": {},
   "source": [
    "# Correlation length calculous"
   ]
  },
  {
   "cell_type": "code",
   "execution_count": 1,
   "metadata": {},
   "outputs": [
    {
     "name": "stdout",
     "output_type": "stream",
     "text": [
      "Populating the interactive namespace from numpy and matplotlib\n"
     ]
    }
   ],
   "source": [
    "%pylab inline\n",
    "\n",
    "from pathlib import Path\n",
    "\n",
    "import h5py\n",
    "import numpy as np\n",
    "from isingchat import style\n",
    "from isingchat.io import read_ising_config\n",
    "from matplotlib import pyplot, rcParams\n",
    "from matplotlib.axes import Axes, GridSpec\n",
    "from matplotlib.figure import Figure\n",
    "from ruamel.yaml import YAML\n",
    "from scipy import interpolate as interp\n",
    "from scipy.signal import savgol_filter\n",
    "import pandas as pd\n",
    "import json\n",
    "\n",
    "import os\n",
    "import re\n",
    "\n",
    "yaml = YAML()"
   ]
  },
  {
   "cell_type": "code",
   "execution_count": null,
   "metadata": {},
   "outputs": [],
   "source": [
    "data_path = Path('C:\\\\Users\\\\MHJGuillermo\\\\PycharmProjects\\\\Doctorado\\\\Ising\\\\isingchat\\\\data\\\\src\\\\cor_length\\\\regular\\\\infinite-size')\n",
    "nv = 2\n",
    "p = 1.0\n",
    "file = 'p_{}\\\\p-{}_nv-{}_h-0.yml'.format(p,nv)\n",
    "config_file = Path(os.path.join(data_path,file)).resolve()\n",
    "energy_file = config_file.with_suffix(\".free-energy.h5\")\n",
    "print(file)\n",
    "print(energy_file)\n",
    "\n",
    "sub_string = re.search('alpha-{}_nv-(.+?)_h-0.yml'.format(alpha), file)\n",
    "if sub_string:\n",
    "    found = sub_string.group(1)\n",
    "    nv = int(found)\n",
    "\n",
    "with config_file.open() as cfp:\n",
    "    config_info = yaml.load(cfp)\n",
    "config_data = read_ising_config(config_info)\n",
    "\n",
    "with h5py.File(str(energy_file)) as h5fp:\n",
    "    data_energy = h5fp[\"/free-energy\"][()]"
   ]
  }
 ],
 "metadata": {
  "kernelspec": {
   "display_name": "Python 3",
   "language": "python",
   "name": "python3"
  },
  "language_info": {
   "codemirror_mode": {
    "name": "ipython",
    "version": 3
   },
   "file_extension": ".py",
   "mimetype": "text/x-python",
   "name": "python",
   "nbconvert_exporter": "python",
   "pygments_lexer": "ipython3",
   "version": "3.7.3"
  }
 },
 "nbformat": 4,
 "nbformat_minor": 4
}
