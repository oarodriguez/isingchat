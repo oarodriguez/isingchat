{
 "cells": [
  {
   "cell_type": "markdown",
   "metadata": {},
   "source": [
    "# Fit using log zeta generilize"
   ]
  },
  {
   "cell_type": "code",
   "execution_count": 1,
   "metadata": {},
   "outputs": [],
   "source": [
    "import sys\n",
    "sys.path.append('C:\\\\Users\\\\MHJGuillermo\\\\PycharmProjects\\\\Doctorado\\\\Ising\\\\Varios_vecinos\\\\venv\\\\src')"
   ]
  },
  {
   "cell_type": "code",
   "execution_count": 2,
   "metadata": {},
   "outputs": [
    {
     "name": "stderr",
     "output_type": "stream",
     "text": [
      "In C:\\Users\\MHJGuillermo\\AppData\\Local\\Programs\\Python\\Python37\\lib\\site-packages\\matplotlib\\mpl-data\\stylelib\\_classic_test.mplstyle: \n",
      "The text.latex.preview rcparam was deprecated in Matplotlib 3.3 and will be removed two minor releases later.\n",
      "In C:\\Users\\MHJGuillermo\\AppData\\Local\\Programs\\Python\\Python37\\lib\\site-packages\\matplotlib\\mpl-data\\stylelib\\_classic_test.mplstyle: \n",
      "The mathtext.fallback_to_cm rcparam was deprecated in Matplotlib 3.3 and will be removed two minor releases later.\n",
      "In C:\\Users\\MHJGuillermo\\AppData\\Local\\Programs\\Python\\Python37\\lib\\site-packages\\matplotlib\\mpl-data\\stylelib\\_classic_test.mplstyle: Support for setting the 'mathtext.fallback_to_cm' rcParam is deprecated since 3.3 and will be removed two minor releases later; use 'mathtext.fallback : 'cm' instead.\n",
      "In C:\\Users\\MHJGuillermo\\AppData\\Local\\Programs\\Python\\Python37\\lib\\site-packages\\matplotlib\\mpl-data\\stylelib\\_classic_test.mplstyle: \n",
      "The validate_bool_maybe_none function was deprecated in Matplotlib 3.3 and will be removed two minor releases later.\n",
      "In C:\\Users\\MHJGuillermo\\AppData\\Local\\Programs\\Python\\Python37\\lib\\site-packages\\matplotlib\\mpl-data\\stylelib\\_classic_test.mplstyle: \n",
      "The savefig.jpeg_quality rcparam was deprecated in Matplotlib 3.3 and will be removed two minor releases later.\n",
      "In C:\\Users\\MHJGuillermo\\AppData\\Local\\Programs\\Python\\Python37\\lib\\site-packages\\matplotlib\\mpl-data\\stylelib\\_classic_test.mplstyle: \n",
      "The keymap.all_axes rcparam was deprecated in Matplotlib 3.3 and will be removed two minor releases later.\n",
      "In C:\\Users\\MHJGuillermo\\AppData\\Local\\Programs\\Python\\Python37\\lib\\site-packages\\matplotlib\\mpl-data\\stylelib\\_classic_test.mplstyle: \n",
      "The animation.avconv_path rcparam was deprecated in Matplotlib 3.3 and will be removed two minor releases later.\n",
      "In C:\\Users\\MHJGuillermo\\AppData\\Local\\Programs\\Python\\Python37\\lib\\site-packages\\matplotlib\\mpl-data\\stylelib\\_classic_test.mplstyle: \n",
      "The animation.avconv_args rcparam was deprecated in Matplotlib 3.3 and will be removed two minor releases later.\n"
     ]
    },
    {
     "name": "stdout",
     "output_type": "stream",
     "text": [
      "Populating the interactive namespace from numpy and matplotlib\n"
     ]
    }
   ],
   "source": [
    "%pylab inline\n",
    "\n",
    "from pathlib import Path\n",
    "\n",
    "import h5py\n",
    "import numpy as np\n",
    "import style\n",
    "from ising.io import read_ising_config\n",
    "from matplotlib import pyplot, rcParams\n",
    "from matplotlib.axes import Axes, GridSpec\n",
    "from matplotlib.figure import Figure\n",
    "from ruamel.yaml import YAML\n",
    "from scipy import interpolate as interp\n",
    "# from scipy.optimize import curve_fit\n",
    "from scipy.optimize import least_squares, differential_evolution, minimize\n",
    "from scipy.signal import savgol_filter\n",
    "import pandas as pd\n",
    "import json\n",
    "\n",
    "import os\n",
    "import re\n",
    "\n",
    "yaml = YAML()"
   ]
  },
  {
   "cell_type": "markdown",
   "metadata": {},
   "source": [
    "## Model\n",
    "El modelo a utilizar es:\n",
    "$$ \\frac{1}{T} = a_1 \\left(\\frac{1}{series(n_v,p,z=a_3,a=a_2)}\\right) $$ \n",
    "con\n",
    "$$ series(n_v,p,z,a) = \\sum_{i=0}^{n_v-1} \\frac{z^i}{(i+a)^p}  $$ \n",
    "\n"
   ]
  },
  {
   "cell_type": "code",
   "execution_count": 16,
   "metadata": {},
   "outputs": [],
   "source": [
    "def serie_divergente(n: int,p: float, z: float=1, a: float=1):\n",
    "    res = 0\n",
    "    for i in np.arange(0,n,1):\n",
    "        res = res + z**i/((i+a)**p)\n",
    "    return res\n",
    "\n",
    "\n",
    "def model_function(x: float,coefs):\n",
    "    a1,a2,a3 = coefs\n",
    "    return a1*(1/serie_divergente(1/x,p,z=a3,a=a2))\n",
    "\n",
    "\n",
    "def get_extrapol_function(model_function, coefs, ):\n",
    "    def extrapol_funct(x):\n",
    "        return model_function(x, coefs)\n",
    "    return extrapol_funct"
   ]
  },
  {
   "cell_type": "code",
   "execution_count": 25,
   "metadata": {},
   "outputs": [],
   "source": [
    "def residuals_func(coefs,x,fi,fi_err=None):\n",
    "    \"\"\"Calculate the residuals for the least squares minimization routine.\n",
    "    \n",
    "    This function returns a value with the difference between the expected value\n",
    "    of the model, which we set to zero for all x and y, and the predictions of the\n",
    "    model.\n",
    "    Args:\n",
    "        coefs: Tuple: Parameters to be adjusted of the model\n",
    "        x: float: Independent variable\n",
    "        fi: float: Experimental value to adjust, also call y_i\n",
    "        fi_err: Error for the experimental value, also call y_err_i\n",
    "    Returns:\n",
    "        residuals: float: Difference of the model evaluation and expected value\n",
    "    \"\"\"\n",
    "    # We want the model to be almost zero, i.e., that the coefficients and data\n",
    "    # satisfy the conic equation.\n",
    "    if fi_err is not None:\n",
    "        residuals = fi - model_function(\n",
    "            x,\n",
    "            coefs\n",
    "        ) / fi_err\n",
    "        \n",
    "        return residuals\n",
    "    else:\n",
    "        residuals = fi - model_function(\n",
    "            x,\n",
    "            coefs\n",
    "        )\n",
    "        \n",
    "        return residuals\n",
    "\n",
    "\n",
    "def get_residuals_func_sum_sqr(x_data,y_data,y_data_err=None):\n",
    "    def residuals_func_sum_sqr(coefs):\n",
    "        \"\"\"Calculate the sum of the squared residuals.\"\"\"\n",
    "        result = 0\n",
    "        num_el = len(x_data)\n",
    "        for index in range(num_el):\n",
    "            if y_data_err is not None:\n",
    "                result = result + residuals_func(coefs,x_data[index],y_data[index],y_data_err[index])**2\n",
    "            else:\n",
    "                result = result + residuals_func(coefs,x_data[index],y_data[index])**2\n",
    "        return result\n",
    "\n",
    "    return residuals_func_sum_sqr"
   ]
  },
  {
   "cell_type": "markdown",
   "metadata": {},
   "source": [
    "## Read files"
   ]
  },
  {
   "cell_type": "code",
   "execution_count": 18,
   "metadata": {},
   "outputs": [],
   "source": [
    "# get inv_temp\n",
    "data_path = Path(\"../../data/regular/infinite-size\").resolve()\n",
    "file = 'regular_all_inv_Tc.csv'\n",
    "df_all_tc = pd.read_csv(os.path.join(data_path,file))\n",
    "# get uncert inv_temp\n",
    "file_err = 'regular_all_inv_Tc_uncertainty.csv'\n",
    "df_all_tc_err = pd.read_csv(os.path.join(data_path,file_err))"
   ]
  },
  {
   "cell_type": "code",
   "execution_count": 19,
   "metadata": {},
   "outputs": [],
   "source": [
    "df_params = pd.DataFrame(index=[\"a1\",\"a2\",\"a3\",\"a1_er\",\"a2_er\",\"a3_er\"])\n",
    "df_extrapol_val = pd.DataFrame(index=[\"infty\",\"1\"])"
   ]
  },
  {
   "cell_type": "code",
   "execution_count": 29,
   "metadata": {
    "scrolled": true
   },
   "outputs": [
    {
     "name": "stdout",
     "output_type": "stream",
     "text": [
      "      fun: 0.005422672783548568\n",
      " hess_inv: array([[ 17.67831886, -60.27929515,   2.52327323],\n",
      "       [-60.27929515, 208.13419144,  -8.45535549],\n",
      "       [  2.52327323,  -8.45535549,   0.388822  ]])\n",
      "      jac: array([ 3.84700252e-06,  8.41449946e-07, -5.09381061e-06])\n",
      "  message: 'Optimization terminated successfully.'\n",
      "     nfev: 115\n",
      "      nit: 17\n",
      "     njev: 23\n",
      "   status: 0\n",
      "  success: True\n",
      "        x: array([0.634375  , 1.75929511, 1.02483014])\n"
     ]
    },
    {
     "data": {
      "image/png": "[encoded data removed]",
      "text/plain": [
       "<Figure size 600x1350 with 1 Axes>"
      ]
     },
     "metadata": {},
     "output_type": "display_data"
    },
    {
     "name": "stdout",
     "output_type": "stream",
     "text": [
      "---------------------------------------------\n",
      "params: [0.634375   1.75929511 1.02483014]\n",
      "---------------------------------------------\n",
      "min:3.3656053328728845e-10 at 0.001\n",
      "\n",
      "\n",
      "[ 17.67831886 -60.27929515   2.52327323]\n",
      "[-60.27929515 208.13419144  -8.45535549]\n",
      "[ 2.52327323 -8.45535549  0.388822  ]\n",
      "Uncertainty: [0.04204559294771622, 0.14426856602783428, 0.00623555932950736]\n"
     ]
    }
   ],
   "source": [
    "epsilon = 0.0001\n",
    "tol = 0.0001 # tolerance by minimize \n",
    "COLUMNS = [\"P1.0\",\"P1.05\",\"P1.1\",\"P1.2\",\"P1.3\",\"P1.4\",\"P1.5\",\"P1.6\",\"P1.7\",\"P1.8\",\"P1.9\",\"P2.0\"]\n",
    "path_save_graph = Path(\"../../graphs/\").resolve()\n",
    "file_name_base = 'inv_Tc_vs_inv_nv_inv_zeta_gen_3_parms_witherr'\n",
    "for COLUMN in COLUMNS:\n",
    "    p = float(COLUMN.replace(\"P\",\"\"))\n",
    "    file_graph = file_name_base + '_{}.png'.format(COLUMN)\n",
    "    # Get the data in arrays\n",
    "    df_part = df_all_tc[[\"1/nv\",COLUMN]]\n",
    "    df_part = df_part.dropna()\n",
    "    x_data = df_part['1/nv'].values\n",
    "    y_data = df_part[COLUMN].values\n",
    "    y_data_err = df_all_tc_err[COLUMN].dropna().values\n",
    "#     # add value at nv=1\n",
    "#     x_data = np.concatenate([x_data,[1]])\n",
    "#     y_data = np.concatenate([y_data,[1.19968]])\n",
    "#     if COLUMN == 'P1.0':\n",
    "#         #add value at nv=infty\n",
    "#         x_data = np.insert(x_data,0,0)\n",
    "#         y_data = np.insert(y_data,0,0)\n",
    "        \n",
    "    # fit \n",
    "#     funct_to_min = get_residuals_func_sum_sqr(x_data,y_data,y_data_err)\n",
    "    funct_to_min = get_residuals_func_sum_sqr(x_data,y_data)\n",
    "    best_fit_result = minimize(funct_to_min, x0=(1, 1, 1),tol=tol)\n",
    "    print(best_fit_result)\n",
    "\n",
    "    extrapol_funct = get_extrapol_function(model_function, best_fit_result.x)\n",
    "    \n",
    "    # define the point for graph\n",
    "    x_extrapol = np.linspace(0.001, 1, 2048)\n",
    "    y_extrapol = []\n",
    "    for x_ext in x_extrapol:\n",
    "        y_extrapol.append(extrapol_funct(x_ext))\n",
    "\n",
    "    # Load the default style.\n",
    "    style.use(\"default\")\n",
    "    rcParams[\"text.usetex\"] = False\n",
    "\n",
    "    fig1: Figure = pyplot.figure(figsize=(4, 9), dpi=150)\n",
    "    grid_spec = GridSpec(3, 1)\n",
    "\n",
    "    # Specific heat subplot.\n",
    "    ax: Axes = fig1.add_subplot(grid_spec[0, 0])\n",
    "\n",
    "    ax.plot(x_extrapol, y_extrapol, lw=1.5)\n",
    "    ax.plot(x_data, y_data, marker=\"o\", lw=0)\n",
    "\n",
    "    ax.set_xlabel(r\"$1/n_v$\")\n",
    "    ax.set_ylabel(r\"$J/k_BT_c$\")\n",
    "    # add text\n",
    "    ax.text(0, 1, r\"$\\frac{J}{k_BT} = a_1 \\frac{1}{n_v} + a_2 \\left(\\frac{1}{g(n_v,p,1,a3)}\\right)$\")\n",
    "\n",
    "    ax.set_title(COLUMN)\n",
    "    pyplot.draw()\n",
    "#     print('Save graph {}'.format(os.path.join(path_save_graph,file_graph)))\n",
    "#     pyplot.savefig(os.path.join(path_save_graph,file_graph))\n",
    "    pyplot.show()\n",
    "    print(\"---------------------------------------------\")\n",
    "    print(\"params: {}\".format(best_fit_result.x))\n",
    "    print(\"---------------------------------------------\")\n",
    "    df_extrapol_val[COLUMN] = [extrapol_funct(0+epsilon),extrapol_funct(1)]  \n",
    "    print(\"min:{} at {}\".format(np.nanmin(y_extrapol),x_extrapol[np.nanargmin(y_extrapol)]))    \n",
    "    print(\"\\n\")\n",
    "    \n",
    "    # For errors\n",
    "    uncertainty = []\n",
    "    tmp_i = np.zeros(len(best_fit_result.x))\n",
    "    for i in range(len(best_fit_result.x)):\n",
    "        tmp_i[i] = 1.0\n",
    "        hess_inv = np.dot(best_fit_result.hess_inv,tmp_i)\n",
    "        print(hess_inv)\n",
    "        uncertainty.append(np.sqrt(max(1, abs(best_fit_result.fun)) * tol * hess_inv[i]))\n",
    "        tmp_i[i] = 0\n",
    "    print('Uncertainty: {}'.format(uncertainty))\n",
    "        \n",
    "    df_params[COLUMN] = [*best_fit_result.x,*uncertainty]\n",
    "\n",
    "        \n",
    "    break\n"
   ]
  },
  {
   "cell_type": "code",
   "execution_count": 20,
   "metadata": {},
   "outputs": [
    {
     "data": {
      "text/plain": [
       "0.5608535941793719"
      ]
     },
     "execution_count": 20,
     "metadata": {},
     "output_type": "execute_result"
    }
   ],
   "source": [
    "df_extrapol_val[\"P2.0\"]['infty']"
   ]
  },
  {
   "cell_type": "code",
   "execution_count": 17,
   "metadata": {},
   "outputs": [],
   "source": [
    "from scipy.special import zeta\n",
    "COLUMNS = [\"P1.0\",\"P1.1\",\"P1.2\",\"P1.3\",\"P1.4\",\"P1.5\",\"P1.6\",\"P1.7\",\"P1.8\",\"P1.9\",\"P2.0\"]\n",
    "for COLUMN in COLUMNS:\n",
    "    p = float(COLUMN.replace(\"P\",\"\"))\n",
    "    df_extrapol_val[COLUMN]['infty'] = df_params[COLUMN]['a1']*(1/zeta(p,df_params[COLUMN]['a2']))"
   ]
  },
  {
   "cell_type": "markdown",
   "metadata": {},
   "source": [
    "## Save params"
   ]
  },
  {
   "cell_type": "code",
   "execution_count": 15,
   "metadata": {},
   "outputs": [
    {
     "data": {
      "text/plain": [
       "'inv_Tc_vs_inv_nv_extrapol_linear_and_zeta_funct_2_parms'"
      ]
     },
     "execution_count": 15,
     "metadata": {},
     "output_type": "execute_result"
    }
   ],
   "source": [
    "file_name_base"
   ]
  },
  {
   "cell_type": "code",
   "execution_count": 18,
   "metadata": {},
   "outputs": [
    {
     "name": "stdout",
     "output_type": "stream",
     "text": [
      "        P1.0      P1.1      P1.2      P1.3      P1.4      P1.5      P1.6  \\\n",
      "a1  0.475182  0.470120  0.464363  0.460189  0.456606  0.454045  0.452435   \n",
      "a2  2.511984  2.333799  2.197470  2.083652  1.988467  1.905841  1.834061   \n",
      "\n",
      "        P1.7      P1.8      P1.9      P2.0  \n",
      "a1  0.452568  0.453964  0.456338  0.459997  \n",
      "a2  1.768204  1.708750  1.655520  1.606323  \n",
      "Exporting to csv files the params adjusted C:\\Users\\MHJGuillermo\\PycharmProjects\\Doctorado\\Ising\\Varios_vecinos\\venv\\data\\Extrapolation\\inv_Tc_vs_inv_nv_extrapol_linear_and_zeta_funct_2_parms_params_curves.csv\n",
      "           P1.0      P1.1      P1.2      P1.3      P1.4      P1.5      P1.6  \\\n",
      "infty  0.000000  0.050016  0.103578  0.159431  0.216220  0.273057  0.329248   \n",
      "1      1.193649  1.194205  1.194441  1.195113  1.195273  1.194617  1.194037   \n",
      "\n",
      "           P1.7      P1.8      P1.9      P2.0  \n",
      "infty  0.384394  0.437917  0.489453  0.538634  \n",
      "1      1.192583  1.190812  1.189219  1.186917  \n",
      "Exporting to csv files the extrapolation values adjusted C:\\Users\\MHJGuillermo\\PycharmProjects\\Doctorado\\Ising\\Varios_vecinos\\venv\\data\\Extrapolation\\inv_Tc_vs_inv_nv_extrapol_linear_and_zeta_funct_2_parms_extrapol_values.csv\n"
     ]
    }
   ],
   "source": [
    "# Define tha path and name for the csv files\n",
    "file_params = os.path.join(data_path,'Extrapolation',file_name_base+'_params_curves.csv')\n",
    "file_extrapol_values = os.path.join(data_path,'Extrapolation',file_name_base+'_extrapol_values.csv')\n",
    "print(df_params)\n",
    "print(\"Exporting to csv files the params adjusted {}\".format(file_params))\n",
    "df_params.to_csv(file_params)\n",
    "print(df_extrapol_val)\n",
    "print(\"Exporting to csv files the extrapolation values adjusted {}\".format(file_extrapol_values))\n",
    "df_extrapol_val.to_csv(file_extrapol_values)"
   ]
  },
  {
   "cell_type": "markdown",
   "metadata": {},
   "source": [
    "## Plot extrapol values"
   ]
  },
  {
   "cell_type": "code",
   "execution_count": 19,
   "metadata": {},
   "outputs": [
    {
     "name": "stderr",
     "output_type": "stream",
     "text": [
      "C:\\Users\\MHJGuillermo\\AppData\\Local\\Programs\\Python\\Python37\\lib\\site-packages\\ipykernel_launcher.py:4: RuntimeWarning: divide by zero encountered in true_divide\n",
      "  after removing the cwd from sys.path.\n"
     ]
    },
    {
     "name": "stdout",
     "output_type": "stream",
     "text": [
      "Save graph C:\\Users\\MHJGuillermo\\PycharmProjects\\Doctorado\\Ising\\Varios_vecinos\\venv\\graphs\\Extrapolation\\inv_Tc_vs_inv_nv_extrapol_linear_and_zeta_funct_2_parms_all_p.png\n"
     ]
    },
    {
     "data": {
      "image/png": "[encoded data removed]",
      "text/plain": [
       "<Figure size 600x1350 with 1 Axes>"
      ]
     },
     "metadata": {},
     "output_type": "display_data"
    }
   ],
   "source": [
    "file_extrapol_graph = os.path.join(path_save_graph,'Extrapolation',file_name_base+'_all_p.png')\n",
    "# data \n",
    "x_data = np.arange(1,2.1,0.1)\n",
    "y_data = 1/df_extrapol_val.loc['infty'].values\n",
    "\n",
    "# # data for squared \n",
    "# y_data = np.sqrt(y_data)\n",
    "\n",
    "# Load the default style.\n",
    "style.use(\"default\")\n",
    "rcParams[\"text.usetex\"] = False\n",
    "\n",
    "fig1: Figure = pyplot.figure(figsize=(4, 9), dpi=150)\n",
    "grid_spec = GridSpec(3, 1)\n",
    "\n",
    "# Specific heat subplot.\n",
    "ax: Axes = fig1.add_subplot(grid_spec[0, 0])\n",
    "\n",
    "ax.plot(x_data, y_data, marker=\"o\", lw=1)\n",
    "\n",
    "ax.set_xlabel(r\"$p$\")\n",
    "ax.set_ylabel(r\"$k_BT_c/J$\")\n",
    "ax.axvline(x=1,linestyle='--')\n",
    "\n",
    "pyplot.draw()\n",
    "\n",
    "print('Save graph {}'.format(file_extrapol_graph))\n",
    "pyplot.savefig(file_extrapol_graph)\n",
    "\n",
    "pyplot.show()"
   ]
  },
  {
   "cell_type": "code",
   "execution_count": null,
   "metadata": {},
   "outputs": [],
   "source": []
  }
 ],
 "metadata": {
  "kernelspec": {
   "display_name": "Python 3.7.3 64-bit",
   "language": "python",
   "name": "python37364bit1e360056847e4522a208851a69c485d0"
  },
  "language_info": {
   "codemirror_mode": {
    "name": "ipython",
    "version": 3
   },
   "file_extension": ".py",
   "mimetype": "text/x-python",
   "name": "python",
   "nbconvert_exporter": "python",
   "pygments_lexer": "ipython3",
   "version": "3.7.3"
  }
 },
 "nbformat": 4,
 "nbformat_minor": 4
}
