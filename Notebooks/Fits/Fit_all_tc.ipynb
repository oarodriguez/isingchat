{
 "cells": [
  {
   "cell_type": "markdown",
   "metadata": {},
   "source": [
    "# Fit plot Tc"
   ]
  },
  {
   "cell_type": "code",
   "execution_count": 7,
   "metadata": {},
   "outputs": [],
   "source": [
    "import sys\n",
    "sys.path.append('C:\\\\Users\\\\MHJGuillermo\\\\PycharmProjects\\\\Doctorado\\\\Ising\\\\Varios_vecinos\\\\venv\\\\src')"
   ]
  },
  {
   "cell_type": "code",
   "execution_count": 8,
   "metadata": {},
   "outputs": [
    {
     "name": "stdout",
     "output_type": "stream",
     "text": [
      "Populating the interactive namespace from numpy and matplotlib\n"
     ]
    }
   ],
   "source": [
    "%pylab inline\n",
    "\n",
    "from pathlib import Path\n",
    "\n",
    "import h5py\n",
    "import numpy as np\n",
    "import style\n",
    "from ising.io import read_ising_config\n",
    "from matplotlib import pyplot, rcParams\n",
    "from matplotlib.axes import Axes, GridSpec\n",
    "from matplotlib.figure import Figure\n",
    "from ruamel.yaml import YAML\n",
    "from scipy import interpolate as interp\n",
    "from scipy.optimize import curve_fit\n",
    "from scipy.signal import savgol_filter\n",
    "import pandas as pd\n",
    "import json\n",
    "\n",
    "import os\n",
    "import re\n",
    "\n",
    "yaml = YAML()"
   ]
  },
  {
   "cell_type": "markdown",
   "metadata": {},
   "source": [
    "### Read files"
   ]
  },
  {
   "cell_type": "code",
   "execution_count": 9,
   "metadata": {},
   "outputs": [],
   "source": [
    "data_path = Path(\"../../../data/Extrapolation\").resolve()\n",
    "file_one = 'inv_Tc_vs_inv_nv_extrapol_hiperbolic_3_parms_extrapol_values.csv'\n",
    "file_two = 'inv_Tc_vs_inv_nv_extrapol_hiperbolic_3_parms_with_nv-1_extrapol_values.csv'\n",
    "df_e_v = pd.read_csv(os.path.join(data_path,file_one),index_col=0)\n",
    "df_e_v_with_one = pd.read_csv(os.path.join(data_path,file_two),index_col=0)"
   ]
  },
  {
   "cell_type": "code",
   "execution_count": 10,
   "metadata": {},
   "outputs": [],
   "source": [
    "y_data = 1/df_e_v.loc['infty'].values\n",
    "y_data_with_one = 1/df_e_v_with_one.loc['infty'].values"
   ]
  },
  {
   "cell_type": "code",
   "execution_count": 11,
   "metadata": {},
   "outputs": [
    {
     "data": {
      "image/png": "[encoded data removed]",
      "text/plain": [
       "<Figure size 600x1350 with 1 Axes>"
      ]
     },
     "metadata": {},
     "output_type": "display_data"
    }
   ],
   "source": [
    "file_name_base = 'inv_Tc_vs_inv_nv_extrapol_hiperbolic_3_parms'\n",
    "path_save_graph = Path(\"../../graphs/\").resolve()\n",
    "file_extrapol_graph = os.path.join(path_save_graph,'Extrapolation',file_name_base+'all_p_two_graphs_semi_log.png')\n",
    "# data \n",
    "x_data = np.arange(1,2.1,0.1)\n",
    "\n",
    "# Load the default style.\n",
    "style.use(\"default\")\n",
    "rcParams[\"text.usetex\"] = False\n",
    "\n",
    "fig1: Figure = pyplot.figure(figsize=(4, 9), dpi=150)\n",
    "grid_spec = GridSpec(3, 1)\n",
    "\n",
    "# Specific heat subplot.\n",
    "ax: Axes = fig1.add_subplot(grid_spec[0, 0])\n",
    "\n",
    "# ax.plot(x_data, y_data, marker=\"o\", lw=0,color='C0',label='adjust without nv=1')\n",
    "# ax.plot(x_data, y_data_with_one, marker=\"s\", lw=0,color='C1', label='adjust with nv=1')\n",
    "ax.semilogx(x_data, y_data, marker=\"o\", lw=0,color='C0',label='adjust without nv=1')\n",
    "ax.semilogx(x_data, y_data_with_one, marker=\"s\", lw=0,color='C1', label='adjust with nv=1')\n",
    "\n",
    "ax.legend()\n",
    "\n",
    "\n",
    "ax.set_xlabel(r\"$p$\")\n",
    "ax.set_ylabel(r\"$k_BT_c/J$\")\n",
    "\n",
    "pyplot.draw()\n",
    "\n",
    "# print('Save graph {}'.format(file_extrapol_graph))\n",
    "# pyplot.savefig(file_extrapol_graph)\n",
    "\n",
    "pyplot.show()"
   ]
  },
  {
   "cell_type": "code",
   "execution_count": 6,
   "metadata": {},
   "outputs": [
    {
     "data": {
      "text/plain": [
       "array([1.        , 0.5       , 0.33333333, 0.25      , 0.2       ,\n",
       "       0.16666667, 0.14285714, 0.125     , 0.11111111, 0.1       ,\n",
       "       0.09090909, 0.08333333, 0.07692308, 0.07142857, 0.06666667,\n",
       "       0.0625    , 0.05882353, 0.05555556, 0.05263158, 0.05      ,\n",
       "       0.04761905, 0.04545455, 0.04347826, 0.04166667, 0.04      ])"
      ]
     },
     "execution_count": 6,
     "metadata": {},
     "output_type": "execute_result"
    }
   ],
   "source": [
    "import numpy as np\n",
    "1/np.arange(1,26,1)"
   ]
  },
  {
   "cell_type": "code",
   "execution_count": null,
   "metadata": {},
   "outputs": [],
   "source": []
  }
 ],
 "metadata": {
  "kernelspec": {
   "display_name": "Python 3.7.3 64-bit",
   "language": "python",
   "name": "python37364bit1e360056847e4522a208851a69c485d0"
  },
  "language_info": {
   "codemirror_mode": {
    "name": "ipython",
    "version": 3
   },
   "file_extension": ".py",
   "mimetype": "text/x-python",
   "name": "python",
   "nbconvert_exporter": "python",
   "pygments_lexer": "ipython3",
   "version": "3.7.3"
  }
 },
 "nbformat": 4,
 "nbformat_minor": 4
}
