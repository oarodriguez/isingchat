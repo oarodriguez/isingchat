{
 "cells": [
  {
   "cell_type": "markdown",
   "metadata": {},
   "source": [
    "# Fit plot Tc"
   ]
  },
  {
   "cell_type": "code",
   "execution_count": 1,
   "metadata": {},
   "outputs": [],
   "source": [
    "import sys\n",
    "sys.path.append('C:\\\\Users\\\\MHJGuillermo\\\\PycharmProjects\\\\Doctorado\\\\Ising\\\\Varios_vecinos\\\\venv\\\\src')"
   ]
  },
  {
   "cell_type": "code",
   "execution_count": 2,
   "metadata": {},
   "outputs": [
    {
     "name": "stdout",
     "output_type": "stream",
     "text": [
      "Populating the interactive namespace from numpy and matplotlib\n"
     ]
    }
   ],
   "source": [
    "%pylab inline\n",
    "\n",
    "from pathlib import Path\n",
    "\n",
    "import h5py\n",
    "import numpy as np\n",
    "import style\n",
    "from ising.io import read_ising_config\n",
    "from matplotlib import pyplot, rcParams\n",
    "from matplotlib.axes import Axes, GridSpec\n",
    "from matplotlib.figure import Figure\n",
    "from ruamel.yaml import YAML\n",
    "from scipy import interpolate as interp\n",
    "from scipy.optimize import curve_fit\n",
    "from scipy.signal import savgol_filter\n",
    "import pandas as pd\n",
    "import json\n",
    "\n",
    "import os\n",
    "import re\n",
    "\n",
    "yaml = YAML()"
   ]
  },
  {
   "cell_type": "markdown",
   "metadata": {},
   "source": [
    "## Model\n",
    "El modelo a utilizar es:\n",
    "$$ \\frac{1}{T_c} = \\frac{a_1}{log(a_2 p)} $$ "
   ]
  },
  {
   "cell_type": "code",
   "execution_count": 22,
   "metadata": {},
   "outputs": [],
   "source": [
    "from scipy.special import zeta\n",
    "def model_function(x: float,a1: float,a2: float,a3: float):\n",
    "    return a1*(np.sqrt(-np.log(a2-a3*x)))\n",
    "\n",
    "def get_extrapol_function(model_function,a1,a2,a3):\n",
    "    def extrapol_funct(x):\n",
    "        return model_function(x,a1,a2,a3)\n",
    "    return extrapol_funct"
   ]
  },
  {
   "cell_type": "markdown",
   "metadata": {},
   "source": [
    "### Read files"
   ]
  },
  {
   "cell_type": "code",
   "execution_count": 23,
   "metadata": {},
   "outputs": [],
   "source": [
    "# read data\n",
    "data_path = Path(\"../../../data/Extrapolation\").resolve()\n",
    "file_one = 'inv_Tc_vs_inv_nv_sqrt_and_log_4_parms_extrapol_values.csv'\n",
    "df_e_v = pd.read_csv(os.path.join(data_path,file_one),index_col=0)\n",
    "# dataframe to keep params\n",
    "df_params = pd.DataFrame(index=[\"a1\",\"a2\",\"a3\"])"
   ]
  },
  {
   "cell_type": "code",
   "execution_count": 27,
   "metadata": {},
   "outputs": [
    {
     "name": "stdout",
     "output_type": "stream",
     "text": [
      "[0.         0.1338497  0.17472287 0.21654523 0.2623363  0.30888695\n",
      " 0.35564198 0.40296176 0.4501864  0.49918823 0.54786208]\n"
     ]
    },
    {
     "name": "stderr",
     "output_type": "stream",
     "text": [
      "C:\\Users\\MHJGuillermo\\AppData\\Local\\Programs\\Python\\Python37\\lib\\site-packages\\ipykernel_launcher.py:3: RuntimeWarning: invalid value encountered in log\n",
      "  This is separate from the ipykernel package so we can avoid doing imports until\n",
      "C:\\Users\\MHJGuillermo\\AppData\\Local\\Programs\\Python\\Python37\\lib\\site-packages\\ipykernel_launcher.py:3: RuntimeWarning: invalid value encountered in sqrt\n",
      "  This is separate from the ipykernel package so we can avoid doing imports until\n"
     ]
    },
    {
     "data": {
      "image/png": "[encoded data removed]",
      "text/plain": [
       "<Figure size 600x1350 with 1 Axes>"
      ]
     },
     "metadata": {},
     "output_type": "display_data"
    }
   ],
   "source": [
    "file_name_base = 'inv_Tc_vs_p_inv_log_3_parms'\n",
    "# data \n",
    "x_data = np.arange(1,2.1,0.1)\n",
    "y_data = df_e_v.loc['infty'].values\n",
    "y_data[0] = 0\n",
    "print(y_data)\n",
    "# fit \n",
    "(a1,a2,a3), _= curve_fit(f=model_function,xdata=x_data,ydata=y_data,maxfev=10000,p0=[0.2,2.2,1.2],\n",
    "#                                bounds=([-2], [2])\n",
    "                           )\n",
    "df_params[\"sqrt_log\"] = [a1,a2,a3]\n",
    "extrapol_funct = get_extrapol_function(model_function, a1,a2,a3)\n",
    "\n",
    "# define the point for graph\n",
    "x_extrapol = np.linspace(1, 2, 2048)\n",
    "y_extrapol = extrapol_funct(x_extrapol)\n",
    "\n",
    "# Load the default style.\n",
    "style.use(\"default\")\n",
    "rcParams[\"text.usetex\"] = False\n",
    "\n",
    "fig1: Figure = pyplot.figure(figsize=(4, 9), dpi=150)\n",
    "grid_spec = GridSpec(3, 1)\n",
    "\n",
    "# Specific heat subplot.\n",
    "ax: Axes = fig1.add_subplot(grid_spec[0, 0])\n",
    "\n",
    "ax.plot(x_data, y_data, marker=\"o\", lw=0,color='C0')\n",
    "ax.plot(x_extrapol, y_extrapol, lw=1)\n",
    "\n",
    "# # ticks configuration\n",
    "# ax.xaxis.set_major_locator(plt.MultipleLocator(0.2))\n",
    "# ax.xaxis.set_minor_locator(plt.MultipleLocator(0.1))\n",
    "# for tick in ax.xaxis.get_major_ticks():\n",
    "#     tick.label.set_fontsize(14) \n",
    "\n",
    "# ax.yaxis.set_major_locator(plt.MultipleLocator(0.1))\n",
    "# ax.yaxis.set_minor_locator(plt.MultipleLocator(0.05))\n",
    "# for tick in ax.yaxis.get_major_ticks():\n",
    "#     tick.label.set_fontsize(14)\n",
    "\n",
    "ax.set_xlabel(r\"$p$\")\n",
    "ax.set_ylabel(r\"$J/k_BT_c$\")\n",
    "# add text\n",
    "# ax.text(1, 0.4, r\"$\\frac{J}{k_BT} = a_1 \\frac{1}{\\ln{(a_2p)}}$\")\n",
    "\n",
    "pyplot.draw()\n",
    "pyplot.show()"
   ]
  },
  {
   "cell_type": "code",
   "execution_count": 24,
   "metadata": {},
   "outputs": [
    {
     "name": "stdout",
     "output_type": "stream",
     "text": [
      "    sqrt_log\n",
      "a1  0.322158\n",
      "a2  1.090309\n",
      "Exporting to csv files the params adjusted C:\\Users\\MHJGuillermo\\PycharmProjects\\Doctorado\\Ising\\Varios_vecinos\\venv\\data\\Extrapolation\\inv_Tc_vs_p_inv_log_zeta_2_parms_params_curves.csv\n"
     ]
    }
   ],
   "source": [
    "# Define tha path and name for the csv files\n",
    "file_params = os.path.join(data_path,file_name_base+'_params_curves.csv')\n",
    "print(df_params)\n",
    "print(\"Exporting to csv files the params adjusted {}\".format(file_params))"
   ]
  }
 ],
 "metadata": {
  "kernelspec": {
   "display_name": "Python 3.7.3 64-bit",
   "language": "python",
   "name": "python37364bit1e360056847e4522a208851a69c485d0"
  },
  "language_info": {
   "codemirror_mode": {
    "name": "ipython",
    "version": 3
   },
   "file_extension": ".py",
   "mimetype": "text/x-python",
   "name": "python",
   "nbconvert_exporter": "python",
   "pygments_lexer": "ipython3",
   "version": "3.7.3"
  }
 },
 "nbformat": 4,
 "nbformat_minor": 4
}
