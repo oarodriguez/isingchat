{
 "cells": [
  {
   "cell_type": "markdown",
   "metadata": {},
   "source": [
    "# Fit using sqrt and log with power law"
   ]
  },
  {
   "cell_type": "code",
   "execution_count": 1,
   "metadata": {},
   "outputs": [],
   "source": [
    "import sys\n",
    "sys.path.append('C:\\\\Users\\\\MHJGuillermo\\\\PycharmProjects\\\\Doctorado\\\\Ising\\\\Varios_vecinos\\\\venv\\\\src')"
   ]
  },
  {
   "cell_type": "code",
   "execution_count": 2,
   "metadata": {},
   "outputs": [
    {
     "name": "stdout",
     "output_type": "stream",
     "text": [
      "Populating the interactive namespace from numpy and matplotlib\n"
     ]
    }
   ],
   "source": [
    "%pylab inline\n",
    "\n",
    "from pathlib import Path\n",
    "\n",
    "import h5py\n",
    "import numpy as np\n",
    "import style\n",
    "from ising.io import read_ising_config\n",
    "from matplotlib import pyplot, rcParams\n",
    "from matplotlib.axes import Axes, GridSpec\n",
    "from matplotlib.figure import Figure\n",
    "from ruamel.yaml import YAML\n",
    "from scipy import interpolate as interp\n",
    "from scipy.optimize import curve_fit\n",
    "from scipy.optimize import least_squares, differential_evolution, minimize\n",
    "from scipy.signal import savgol_filter\n",
    "import pandas as pd\n",
    "import json\n",
    "\n",
    "import os\n",
    "import re\n",
    "\n",
    "yaml = YAML()"
   ]
  },
  {
   "cell_type": "markdown",
   "metadata": {},
   "source": [
    "## Model\n",
    "El modelo a utilizar es:\n",
    "$$ \\frac{1}{T} = a_1 + \\sqrt{-\\ln(1 + a_2x + a_3x^{a_4})} $$ "
   ]
  },
  {
   "cell_type": "code",
   "execution_count": 3,
   "metadata": {},
   "outputs": [],
   "source": [
    "def model_function(x: float,a1: float,a2: float,a3: float,a4: float):\n",
    "    return a1 + np.sqrt(-np.log(1+a2*x+a3*x**a4))"
   ]
  },
  {
   "cell_type": "code",
   "execution_count": 4,
   "metadata": {},
   "outputs": [],
   "source": [
    "def get_extrapol_function(model_function,a1,a2,a3,a4):\n",
    "    def extrapol_funct(x):\n",
    "        return model_function(x,a1,a2,a3,a4)\n",
    "    return extrapol_funct"
   ]
  },
  {
   "cell_type": "markdown",
   "metadata": {},
   "source": [
    "## Read files"
   ]
  },
  {
   "cell_type": "code",
   "execution_count": 5,
   "metadata": {},
   "outputs": [],
   "source": [
    "data_path = Path(\"../../../data/\").resolve()\n",
    "file = 'all_inv_Tc.csv'\n",
    "df_all_tc = pd.read_csv(os.path.join(data_path,file))"
   ]
  },
  {
   "cell_type": "code",
   "execution_count": 6,
   "metadata": {},
   "outputs": [
    {
     "data": {
      "text/html": [
       "<div>\n",
       "<style scoped>\n",
       "    .dataframe tbody tr th:only-of-type {\n",
       "        vertical-align: middle;\n",
       "    }\n",
       "\n",
       "    .dataframe tbody tr th {\n",
       "        vertical-align: top;\n",
       "    }\n",
       "\n",
       "    .dataframe thead th {\n",
       "        text-align: right;\n",
       "    }\n",
       "</style>\n",
       "<table border=\"1\" class=\"dataframe\">\n",
       "  <thead>\n",
       "    <tr style=\"text-align: right;\">\n",
       "      <th></th>\n",
       "      <th>1/nv</th>\n",
       "      <th>P1.0</th>\n",
       "      <th>P1.1</th>\n",
       "      <th>P1.2</th>\n",
       "      <th>P1.3</th>\n",
       "      <th>P1.4</th>\n",
       "      <th>P1.5</th>\n",
       "      <th>P1.6</th>\n",
       "      <th>P1.7</th>\n",
       "      <th>P1.8</th>\n",
       "      <th>P1.9</th>\n",
       "      <th>P2.0</th>\n",
       "    </tr>\n",
       "  </thead>\n",
       "  <tbody>\n",
       "    <tr>\n",
       "      <th>0</th>\n",
       "      <td>0.500000</td>\n",
       "      <td>0.662721</td>\n",
       "      <td>0.680297</td>\n",
       "      <td>0.700150</td>\n",
       "      <td>0.717028</td>\n",
       "      <td>0.734866</td>\n",
       "      <td>0.751727</td>\n",
       "      <td>0.770168</td>\n",
       "      <td>0.786703</td>\n",
       "      <td>0.803441</td>\n",
       "      <td>0.820681</td>\n",
       "      <td>0.835529</td>\n",
       "    </tr>\n",
       "    <tr>\n",
       "      <th>1</th>\n",
       "      <td>0.333333</td>\n",
       "      <td>0.505386</td>\n",
       "      <td>0.528284</td>\n",
       "      <td>0.546419</td>\n",
       "      <td>0.574539</td>\n",
       "      <td>0.597153</td>\n",
       "      <td>0.619581</td>\n",
       "      <td>0.642793</td>\n",
       "      <td>0.665299</td>\n",
       "      <td>0.687169</td>\n",
       "      <td>0.709461</td>\n",
       "      <td>0.732735</td>\n",
       "    </tr>\n",
       "    <tr>\n",
       "      <th>2</th>\n",
       "      <td>0.250000</td>\n",
       "      <td>0.425707</td>\n",
       "      <td>0.450768</td>\n",
       "      <td>0.472832</td>\n",
       "      <td>0.501265</td>\n",
       "      <td>0.528284</td>\n",
       "      <td>0.555318</td>\n",
       "      <td>0.580268</td>\n",
       "      <td>0.606328</td>\n",
       "      <td>0.631346</td>\n",
       "      <td>0.656782</td>\n",
       "      <td>0.680642</td>\n",
       "    </tr>\n",
       "    <tr>\n",
       "      <th>3</th>\n",
       "      <td>0.200000</td>\n",
       "      <td>0.375812</td>\n",
       "      <td>0.402337</td>\n",
       "      <td>0.429970</td>\n",
       "      <td>0.456688</td>\n",
       "      <td>0.485307</td>\n",
       "      <td>0.512765</td>\n",
       "      <td>0.541671</td>\n",
       "      <td>0.569954</td>\n",
       "      <td>0.598822</td>\n",
       "      <td>0.626314</td>\n",
       "      <td>0.653388</td>\n",
       "    </tr>\n",
       "    <tr>\n",
       "      <th>4</th>\n",
       "      <td>0.166667</td>\n",
       "      <td>0.341083</td>\n",
       "      <td>0.368523</td>\n",
       "      <td>0.396765</td>\n",
       "      <td>0.424721</td>\n",
       "      <td>0.455167</td>\n",
       "      <td>0.486573</td>\n",
       "      <td>0.515543</td>\n",
       "      <td>0.545704</td>\n",
       "      <td>0.574864</td>\n",
       "      <td>0.605612</td>\n",
       "      <td>0.634517</td>\n",
       "    </tr>\n",
       "    <tr>\n",
       "      <th>5</th>\n",
       "      <td>0.142857</td>\n",
       "      <td>0.315105</td>\n",
       "      <td>0.343136</td>\n",
       "      <td>0.372431</td>\n",
       "      <td>0.401683</td>\n",
       "      <td>0.432891</td>\n",
       "      <td>0.463020</td>\n",
       "      <td>0.495621</td>\n",
       "      <td>0.527741</td>\n",
       "      <td>0.560164</td>\n",
       "      <td>0.590963</td>\n",
       "      <td>0.622788</td>\n",
       "    </tr>\n",
       "    <tr>\n",
       "      <th>6</th>\n",
       "      <td>0.125000</td>\n",
       "      <td>0.294999</td>\n",
       "      <td>0.323355</td>\n",
       "      <td>0.353053</td>\n",
       "      <td>0.383836</td>\n",
       "      <td>0.415381</td>\n",
       "      <td>0.447872</td>\n",
       "      <td>0.480460</td>\n",
       "      <td>0.513612</td>\n",
       "      <td>0.546888</td>\n",
       "      <td>0.579394</td>\n",
       "      <td>0.611867</td>\n",
       "    </tr>\n",
       "    <tr>\n",
       "      <th>7</th>\n",
       "      <td>0.111111</td>\n",
       "      <td>0.278617</td>\n",
       "      <td>0.307334</td>\n",
       "      <td>0.337482</td>\n",
       "      <td>0.368796</td>\n",
       "      <td>0.401333</td>\n",
       "      <td>0.434561</td>\n",
       "      <td>0.468367</td>\n",
       "      <td>0.502578</td>\n",
       "      <td>0.536848</td>\n",
       "      <td>0.570911</td>\n",
       "      <td>0.604637</td>\n",
       "    </tr>\n",
       "    <tr>\n",
       "      <th>8</th>\n",
       "      <td>0.100000</td>\n",
       "      <td>0.265052</td>\n",
       "      <td>0.293982</td>\n",
       "      <td>0.324509</td>\n",
       "      <td>0.356434</td>\n",
       "      <td>0.389497</td>\n",
       "      <td>0.423546</td>\n",
       "      <td>0.458147</td>\n",
       "      <td>0.493491</td>\n",
       "      <td>0.528531</td>\n",
       "      <td>0.563834</td>\n",
       "      <td>0.598451</td>\n",
       "    </tr>\n",
       "    <tr>\n",
       "      <th>9</th>\n",
       "      <td>0.090909</td>\n",
       "      <td>0.253624</td>\n",
       "      <td>0.282715</td>\n",
       "      <td>0.313452</td>\n",
       "      <td>0.345748</td>\n",
       "      <td>0.379390</td>\n",
       "      <td>0.414121</td>\n",
       "      <td>0.449594</td>\n",
       "      <td>0.485589</td>\n",
       "      <td>0.521795</td>\n",
       "      <td>0.558070</td>\n",
       "      <td>0.593677</td>\n",
       "    </tr>\n",
       "    <tr>\n",
       "      <th>10</th>\n",
       "      <td>0.083333</td>\n",
       "      <td>0.243836</td>\n",
       "      <td>0.273006</td>\n",
       "      <td>0.304025</td>\n",
       "      <td>0.336650</td>\n",
       "      <td>0.370632</td>\n",
       "      <td>0.405909</td>\n",
       "      <td>0.442069</td>\n",
       "      <td>0.479055</td>\n",
       "      <td>0.516202</td>\n",
       "      <td>0.553168</td>\n",
       "      <td>0.589829</td>\n",
       "    </tr>\n",
       "    <tr>\n",
       "      <th>11</th>\n",
       "      <td>0.076923</td>\n",
       "      <td>0.235314</td>\n",
       "      <td>0.264539</td>\n",
       "      <td>0.295681</td>\n",
       "      <td>0.328677</td>\n",
       "      <td>0.363072</td>\n",
       "      <td>0.398986</td>\n",
       "      <td>0.435717</td>\n",
       "      <td>0.473240</td>\n",
       "      <td>0.511047</td>\n",
       "      <td>0.549088</td>\n",
       "      <td>0.586449</td>\n",
       "    </tr>\n",
       "    <tr>\n",
       "      <th>12</th>\n",
       "      <td>0.071429</td>\n",
       "      <td>0.227773</td>\n",
       "      <td>0.257064</td>\n",
       "      <td>0.288391</td>\n",
       "      <td>0.321577</td>\n",
       "      <td>0.356434</td>\n",
       "      <td>0.392672</td>\n",
       "      <td>0.429997</td>\n",
       "      <td>0.468367</td>\n",
       "      <td>0.506934</td>\n",
       "      <td>0.545430</td>\n",
       "      <td>0.583523</td>\n",
       "    </tr>\n",
       "    <tr>\n",
       "      <th>13</th>\n",
       "      <td>0.066667</td>\n",
       "      <td>0.221058</td>\n",
       "      <td>0.250382</td>\n",
       "      <td>0.281859</td>\n",
       "      <td>0.315166</td>\n",
       "      <td>0.350334</td>\n",
       "      <td>0.387041</td>\n",
       "      <td>0.424953</td>\n",
       "      <td>0.463720</td>\n",
       "      <td>0.503081</td>\n",
       "      <td>0.542323</td>\n",
       "      <td>0.581243</td>\n",
       "    </tr>\n",
       "    <tr>\n",
       "      <th>14</th>\n",
       "      <td>0.050000</td>\n",
       "      <td>0.196186</td>\n",
       "      <td>0.225484</td>\n",
       "      <td>0.257245</td>\n",
       "      <td>0.291363</td>\n",
       "      <td>0.327667</td>\n",
       "      <td>0.365970</td>\n",
       "      <td>0.405861</td>\n",
       "      <td>0.447055</td>\n",
       "      <td>0.488900</td>\n",
       "      <td>0.531150</td>\n",
       "      <td>0.572876</td>\n",
       "    </tr>\n",
       "    <tr>\n",
       "      <th>15</th>\n",
       "      <td>0.040000</td>\n",
       "      <td>0.179755</td>\n",
       "      <td>NaN</td>\n",
       "      <td>NaN</td>\n",
       "      <td>NaN</td>\n",
       "      <td>NaN</td>\n",
       "      <td>NaN</td>\n",
       "      <td>NaN</td>\n",
       "      <td>NaN</td>\n",
       "      <td>NaN</td>\n",
       "      <td>NaN</td>\n",
       "      <td>NaN</td>\n",
       "    </tr>\n",
       "  </tbody>\n",
       "</table>\n",
       "</div>"
      ],
      "text/plain": [
       "        1/nv      P1.0      P1.1      P1.2      P1.3      P1.4      P1.5  \\\n",
       "0   0.500000  0.662721  0.680297  0.700150  0.717028  0.734866  0.751727   \n",
       "1   0.333333  0.505386  0.528284  0.546419  0.574539  0.597153  0.619581   \n",
       "2   0.250000  0.425707  0.450768  0.472832  0.501265  0.528284  0.555318   \n",
       "3   0.200000  0.375812  0.402337  0.429970  0.456688  0.485307  0.512765   \n",
       "4   0.166667  0.341083  0.368523  0.396765  0.424721  0.455167  0.486573   \n",
       "5   0.142857  0.315105  0.343136  0.372431  0.401683  0.432891  0.463020   \n",
       "6   0.125000  0.294999  0.323355  0.353053  0.383836  0.415381  0.447872   \n",
       "7   0.111111  0.278617  0.307334  0.337482  0.368796  0.401333  0.434561   \n",
       "8   0.100000  0.265052  0.293982  0.324509  0.356434  0.389497  0.423546   \n",
       "9   0.090909  0.253624  0.282715  0.313452  0.345748  0.379390  0.414121   \n",
       "10  0.083333  0.243836  0.273006  0.304025  0.336650  0.370632  0.405909   \n",
       "11  0.076923  0.235314  0.264539  0.295681  0.328677  0.363072  0.398986   \n",
       "12  0.071429  0.227773  0.257064  0.288391  0.321577  0.356434  0.392672   \n",
       "13  0.066667  0.221058  0.250382  0.281859  0.315166  0.350334  0.387041   \n",
       "14  0.050000  0.196186  0.225484  0.257245  0.291363  0.327667  0.365970   \n",
       "15  0.040000  0.179755       NaN       NaN       NaN       NaN       NaN   \n",
       "\n",
       "        P1.6      P1.7      P1.8      P1.9      P2.0  \n",
       "0   0.770168  0.786703  0.803441  0.820681  0.835529  \n",
       "1   0.642793  0.665299  0.687169  0.709461  0.732735  \n",
       "2   0.580268  0.606328  0.631346  0.656782  0.680642  \n",
       "3   0.541671  0.569954  0.598822  0.626314  0.653388  \n",
       "4   0.515543  0.545704  0.574864  0.605612  0.634517  \n",
       "5   0.495621  0.527741  0.560164  0.590963  0.622788  \n",
       "6   0.480460  0.513612  0.546888  0.579394  0.611867  \n",
       "7   0.468367  0.502578  0.536848  0.570911  0.604637  \n",
       "8   0.458147  0.493491  0.528531  0.563834  0.598451  \n",
       "9   0.449594  0.485589  0.521795  0.558070  0.593677  \n",
       "10  0.442069  0.479055  0.516202  0.553168  0.589829  \n",
       "11  0.435717  0.473240  0.511047  0.549088  0.586449  \n",
       "12  0.429997  0.468367  0.506934  0.545430  0.583523  \n",
       "13  0.424953  0.463720  0.503081  0.542323  0.581243  \n",
       "14  0.405861  0.447055  0.488900  0.531150  0.572876  \n",
       "15       NaN       NaN       NaN       NaN       NaN  "
      ]
     },
     "execution_count": 6,
     "metadata": {},
     "output_type": "execute_result"
    }
   ],
   "source": [
    "df_all_tc"
   ]
  },
  {
   "cell_type": "code",
   "execution_count": 7,
   "metadata": {},
   "outputs": [],
   "source": [
    "df_params = pd.DataFrame(index=[\"a1\",\"a2\",\"a3\",\"a4\"])\n",
    "df_extrapol_val = pd.DataFrame(index=[\"infty\",\"1\"])"
   ]
  },
  {
   "cell_type": "code",
   "execution_count": 37,
   "metadata": {},
   "outputs": [
    {
     "name": "stderr",
     "output_type": "stream",
     "text": [
      "C:\\Users\\MHJGuillermo\\AppData\\Local\\Programs\\Python\\Python37\\lib\\site-packages\\ipykernel_launcher.py:2: RuntimeWarning: invalid value encountered in sqrt\n",
      "  \n"
     ]
    },
    {
     "data": {
      "image/png": "[encoded data removed]",
      "text/plain": [
       "<Figure size 600x1350 with 1 Axes>"
      ]
     },
     "metadata": {},
     "output_type": "display_data"
    },
    {
     "name": "stdout",
     "output_type": "stream",
     "text": [
      "a1: 0.03304900076168375\n",
      "a2: -1.9999702058193793\n",
      "a3: 1.2624245923637696\n",
      "a4: 0.9304913027491307\n",
      "Extrapolation:\n",
      "0.03304900076168375 at 1/nv=0\n",
      "1.1896292952482448 at 1/nv=1\n",
      "min:0.03304900076168375 at 0.0\n",
      "\n",
      "\n"
     ]
    }
   ],
   "source": [
    "COLUMNS = [\"P1.0\",\"P1.1\",\"P1.2\",\"P1.3\",\"P1.4\",\"P1.5\",\"P1.6\",\"P1.7\",\"P1.8\",\"P1.9\",\"P2.0\"]\n",
    "path_save_graph = Path(\"../../graphs/\").resolve()\n",
    "file_name_base = 'inv_Tc_vs_inv_nv_sqrt_and_log_with_power_law_4_parms'\n",
    "for COLUMN in COLUMNS:\n",
    "    file_graph = file_name_base + '_{}.png'.format(COLUMN)\n",
    "    # Get the data in arrays\n",
    "    df_part = df_all_tc[[\"1/nv\",COLUMN]]\n",
    "    df_part = df_part.dropna()\n",
    "    x_data = df_part['1/nv'].values\n",
    "    y_data = df_part[COLUMN].values\n",
    "    # add value at nv=1\n",
    "    x_data = np.concatenate([x_data,[1]])\n",
    "    y_data = np.concatenate([y_data,[1.19968]])\n",
    "#     if COLUMN == 'P1.0':\n",
    "#         #add value at nv=infty\n",
    "#         x_data = np.insert(x_data,0,0.01)\n",
    "#         y_data = np.insert(y_data,0,0.01)\n",
    "\n",
    "#     # for square\n",
    "#     y_data = y_data**2    \n",
    "\n",
    "    # fit \n",
    "    (a1,a2,a3,a4), _= curve_fit(f=model_function,xdata=x_data,ydata=y_data,maxfev=10000,p0=[0,-1.5,1,1],\n",
    "                               bounds=([-0.5, -2 ,0,-1], [0.5, -1, 3, 2]))\n",
    "    df_params[COLUMN] = [a1,a2,a3,a4]\n",
    "    extrapol_funct = get_extrapol_function(model_function, a1,a2,a3,a4)\n",
    "\n",
    "    # define the point for graph\n",
    "    x_extrapol = np.linspace(0, 1, 2048)\n",
    "    y_extrapol = extrapol_funct(x_extrapol)\n",
    "\n",
    "    # Load the default style.\n",
    "    style.use(\"default\")\n",
    "    rcParams[\"text.usetex\"] = False\n",
    "\n",
    "    fig1: Figure = pyplot.figure(figsize=(4, 9), dpi=150)\n",
    "    grid_spec = GridSpec(3, 1)\n",
    "\n",
    "    # Specific heat subplot.\n",
    "    ax: Axes = fig1.add_subplot(grid_spec[0, 0])\n",
    "\n",
    "    ax.plot(x_extrapol, y_extrapol, lw=1.5)\n",
    "    ax.plot(x_data, y_data, marker=\"o\", lw=0)\n",
    "\n",
    "    ax.set_xlabel(r\"$1/n_v$\")\n",
    "    ax.set_ylabel(r\"$J/k_BT_c$\")\n",
    "    # add text\n",
    "    ax.text(0, 1, r\"$\\frac{J}{k_BT} = a_1 + \\sqrt{-\\ln{(1 + a_2x-a_3x^{a_3})}}$\")\n",
    "\n",
    "    ax.set_title(COLUMN)\n",
    "    pyplot.draw()\n",
    "#     print('Save graph {}'.format(os.path.join(path_save_graph,file_graph)))\n",
    "#     pyplot.savefig(os.path.join(path_save_graph,file_graph))\n",
    "    pyplot.show()\n",
    "    print(\"a1: {}\\na2: {}\\na3: {}\\na4: {}\".format(a1,a2,a3,a4))\n",
    "    print(\"Extrapolation:\\n{} at 1/nv=0\\n{} at 1/nv=1\".format(extrapol_funct(0),extrapol_funct(1)))\n",
    "    df_extrapol_val[COLUMN] = [extrapol_funct(0),extrapol_funct(1)]  \n",
    "    print(\"min:{} at {}\".format(np.nanmin(y_extrapol),x_extrapol[np.nanargmin(y_extrapol)]))    \n",
    "    print(\"\\n\")\n",
    "    break\n"
   ]
  },
  {
   "cell_type": "code",
   "execution_count": 81,
   "metadata": {},
   "outputs": [
    {
     "data": {
      "text/plain": [
       "0.5359269860565828"
      ]
     },
     "execution_count": 81,
     "metadata": {},
     "output_type": "execute_result"
    }
   ],
   "source": [
    "df_extrapol_val"
   ]
  },
  {
   "cell_type": "code",
   "execution_count": 72,
   "metadata": {},
   "outputs": [],
   "source": [
    "from scipy.special import zeta\n",
    "COLUMNS = [\"P1.0\",\"P1.1\",\"P1.2\",\"P1.3\",\"P1.4\",\"P1.5\",\"P1.6\",\"P1.7\",\"P1.8\",\"P1.9\",\"P2.0\"]\n",
    "for COLUMN in COLUMNS:\n",
    "    p = float(COLUMN.replace(\"P\",\"\"))\n",
    "    df_extrapol_val[COLUMN]['infty'] = df_params[COLUMN]['a1']*(1/zeta(p,df_params[COLUMN]['a2']))"
   ]
  },
  {
   "cell_type": "markdown",
   "metadata": {},
   "source": [
    "## Save params"
   ]
  },
  {
   "cell_type": "code",
   "execution_count": 21,
   "metadata": {},
   "outputs": [
    {
     "data": {
      "text/plain": [
       "'inv_Tc_vs_inv_nv_sqrt_and_log_3_parms_new'"
      ]
     },
     "execution_count": 21,
     "metadata": {},
     "output_type": "execute_result"
    }
   ],
   "source": [
    "file_name_base"
   ]
  },
  {
   "cell_type": "code",
   "execution_count": 22,
   "metadata": {},
   "outputs": [
    {
     "name": "stdout",
     "output_type": "stream",
     "text": [
      "        P1.0      P1.1      P1.2      P1.3      P1.4      P1.5      P1.6  \\\n",
      "a1  0.939769  0.911871  0.943034  0.980252  1.007151  1.021950  1.029854   \n",
      "a2  1.007834  0.981732  0.965738  0.949757  0.931099  0.909039  0.884197   \n",
      "a3 -0.810955 -0.804827 -0.767693 -0.726148 -0.689008 -0.656808 -0.626648   \n",
      "\n",
      "        P1.7      P1.8      P1.9      P2.0  \n",
      "a1  1.021900  1.002108  0.975988  0.936500  \n",
      "a2  0.853074  0.815354  0.771570  0.716729  \n",
      "a3 -0.600974 -0.576835 -0.551012 -0.523159  \n",
      "Exporting to csv files the params adjusted C:\\Users\\MHJGuillermo\\PycharmProjects\\Doctorado\\Ising\\Varios_vecinos\\venv\\data\\Extrapolation\\inv_Tc_vs_inv_nv_sqrt_and_log_3_parms_new_params_curves.csv\n",
      "           P1.0      P1.1      P1.2      P1.3      P1.4      P1.5      P1.6  \\\n",
      "infty       NaN  0.123816  0.176079  0.222561  0.269099  0.315595  0.361294   \n",
      "1      1.198036  1.200121  1.200011  1.199700  1.199500  1.199392  1.199480   \n",
      "\n",
      "           P1.7      P1.8      P1.9      P2.0  \n",
      "infty  0.407364  0.452763  0.497015  0.540465  \n",
      "1      1.199559  1.199731  1.199948  1.200079  \n",
      "Exporting to csv files the extrapolation values adjusted C:\\Users\\MHJGuillermo\\PycharmProjects\\Doctorado\\Ising\\Varios_vecinos\\venv\\data\\Extrapolation\\inv_Tc_vs_inv_nv_sqrt_and_log_3_parms_new_extrapol_values.csv\n"
     ]
    }
   ],
   "source": [
    "# Define tha path and name for the csv files\n",
    "file_params = os.path.join(data_path,'Extrapolation',file_name_base+'_params_curves.csv')\n",
    "file_extrapol_values = os.path.join(data_path,'Extrapolation',file_name_base+'_extrapol_values.csv')\n",
    "print(df_params)\n",
    "print(\"Exporting to csv files the params adjusted {}\".format(file_params))\n",
    "df_params.to_csv(file_params)\n",
    "print(df_extrapol_val)\n",
    "print(\"Exporting to csv files the extrapolation values adjusted {}\".format(file_extrapol_values))\n",
    "df_extrapol_val.to_csv(file_extrapol_values)"
   ]
  },
  {
   "cell_type": "markdown",
   "metadata": {},
   "source": [
    "## Plot extrapol values"
   ]
  },
  {
   "cell_type": "code",
   "execution_count": 78,
   "metadata": {},
   "outputs": [
    {
     "name": "stderr",
     "output_type": "stream",
     "text": [
      "C:\\Users\\MHJGuillermo\\AppData\\Local\\Programs\\Python\\Python37\\lib\\site-packages\\ipykernel_launcher.py:4: RuntimeWarning: divide by zero encountered in true_divide\n",
      "  after removing the cwd from sys.path.\n"
     ]
    },
    {
     "name": "stdout",
     "output_type": "stream",
     "text": [
      "Save graph C:\\Users\\MHJGuillermo\\PycharmProjects\\Doctorado\\Ising\\Varios_vecinos\\venv\\graphs\\Extrapolation\\inv_Tc_vs_inv_nv_extrapol_linear_and_zeta_funct_5_parms_all_p.png\n"
     ]
    },
    {
     "data": {
      "image/png": "[encoded data removed]",
      "text/plain": [
       "<Figure size 600x1350 with 1 Axes>"
      ]
     },
     "metadata": {},
     "output_type": "display_data"
    }
   ],
   "source": [
    "file_extrapol_graph = os.path.join(path_save_graph,'Extrapolation',file_name_base+'_all_p.png')\n",
    "# data \n",
    "x_data = np.arange(1,2.1,0.1)\n",
    "y_data = 1/df_extrapol_val.loc['infty'].values\n",
    "\n",
    "# # data for squared \n",
    "# y_data = np.sqrt(y_data)\n",
    "\n",
    "# Load the default style.\n",
    "style.use(\"default\")\n",
    "rcParams[\"text.usetex\"] = False\n",
    "\n",
    "fig1: Figure = pyplot.figure(figsize=(4, 9), dpi=150)\n",
    "grid_spec = GridSpec(3, 1)\n",
    "\n",
    "# Specific heat subplot.\n",
    "ax: Axes = fig1.add_subplot(grid_spec[0, 0])\n",
    "\n",
    "ax.plot(x_data, y_data, marker=\"o\", lw=1)\n",
    "\n",
    "ax.set_xlabel(r\"$p$\")\n",
    "ax.set_ylabel(r\"$k_BT_c/J$\")\n",
    "ax.axvline(x=1,linestyle='--')\n",
    "\n",
    "pyplot.draw()\n",
    "\n",
    "print('Save graph {}'.format(file_extrapol_graph))\n",
    "pyplot.savefig(file_extrapol_graph)\n",
    "\n",
    "pyplot.show()"
   ]
  },
  {
   "cell_type": "code",
   "execution_count": null,
   "metadata": {},
   "outputs": [],
   "source": []
  }
 ],
 "metadata": {
  "kernelspec": {
   "display_name": "Python 3.7.3 64-bit",
   "language": "python",
   "name": "python37364bit1e360056847e4522a208851a69c485d0"
  },
  "language_info": {
   "codemirror_mode": {
    "name": "ipython",
    "version": 3
   },
   "file_extension": ".py",
   "mimetype": "text/x-python",
   "name": "python",
   "nbconvert_exporter": "python",
   "pygments_lexer": "ipython3",
   "version": "3.7.3"
  }
 },
 "nbformat": 4,
 "nbformat_minor": 4
}
