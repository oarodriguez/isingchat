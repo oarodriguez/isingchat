{
 "cells": [
  {
   "cell_type": "markdown",
   "metadata": {},
   "source": [
    "# Calculate numerical value for nv=1"
   ]
  },
  {
   "cell_type": "code",
   "execution_count": 3,
   "metadata": {},
   "outputs": [],
   "source": [
    "import sys\n",
    "sys.path.append('C:\\\\Users\\\\MHJGuillermo\\\\PycharmProjects\\\\Doctorado\\\\Ising\\\\Varios_vecinos\\\\venv\\\\src')"
   ]
  },
  {
   "cell_type": "code",
   "execution_count": 4,
   "metadata": {},
   "outputs": [
    {
     "name": "stdout",
     "output_type": "stream",
     "text": [
      "Populating the interactive namespace from numpy and matplotlib\n"
     ]
    }
   ],
   "source": [
    "%pylab inline\n",
    "\n",
    "from pathlib import Path\n",
    "\n",
    "import h5py\n",
    "import numpy as np\n",
    "import style\n",
    "from ising.io import read_ising_config\n",
    "from matplotlib import pyplot, rcParams\n",
    "from matplotlib.axes import Axes, GridSpec\n",
    "from matplotlib.figure import Figure\n",
    "from ruamel.yaml import YAML\n",
    "from scipy import interpolate as interp\n",
    "from scipy.optimize import curve_fit\n",
    "from scipy.signal import savgol_filter\n",
    "import pandas as pd\n",
    "import json\n",
    "\n",
    "import os\n",
    "import re\n",
    "\n",
    "yaml = YAML()"
   ]
  },
  {
   "cell_type": "markdown",
   "metadata": {},
   "source": [
    "Adimensional $$T = k_BT/J$$ and $$f/J$$"
   ]
  },
  {
   "cell_type": "code",
   "execution_count": 2,
   "metadata": {},
   "outputs": [],
   "source": [
    "def free_energy(T: float,h: float):\n",
    "    return -T*np.log(np.exp(1/T)*np.cosh(h/T) + np.sqrt(np.exp(2/T)*np.sinh(h/T)**2 + np.exp(-2/T)))\n",
    "\n",
    "def specific_heat(T: float, h: float):\n",
    "    epsilon = 0.001\n",
    "    return -T*(free_energy(T+epsilon,h) - 2*free_energy(T,h) + free_energy(T-epsilon,h))/(epsilon**2)"
   ]
  },
  {
   "cell_type": "code",
   "execution_count": 9,
   "metadata": {},
   "outputs": [
    {
     "name": "stdout",
     "output_type": "stream",
     "text": [
      "C_V max.: 0.607135\n",
      "Temp. at C_V max.: 2.0723058\n"
     ]
    },
    {
     "data": {
      "image/png": "[encoded data removed]",
      "text/plain": [
       "<Figure size 600x1350 with 1 Axes>"
      ]
     },
     "metadata": {
      "needs_background": "light"
     },
     "output_type": "display_data"
    }
   ],
   "source": [
    "# define the point for graph\n",
    "x_data = np.linspace(0.01, 5, 2048)\n",
    "y_data = specific_heat(x_data,1)\n",
    "\n",
    "fig1: Figure = pyplot.figure(figsize=(4, 9), dpi=150)\n",
    "grid_spec = GridSpec(3, 1)\n",
    "\n",
    "# Specific heat subplot.\n",
    "ax: Axes = fig1.add_subplot(grid_spec[0, 0])\n",
    "\n",
    "ax.plot(x_data, y_data, marker=\"o\", lw=0)\n",
    "\n",
    "ax.set_xlabel(r\"$1/n_v$\")\n",
    "ax.set_ylabel(r\"$J/k_BT_c$\")\n",
    "\n",
    "cv_max_idx = np.argmax(y_data)\n",
    "temp_cv_max, cv_max = x_data[cv_max_idx], y_data[cv_max_idx]\n",
    "\n",
    "print(f\"C_V max.: {cv_max:.8G}\")\n",
    "print(f\"Temp. at C_V max.: {temp_cv_max:.8G}\")\n",
    "\n",
    "pyplot.draw()"
   ]
  },
  {
   "cell_type": "code",
   "execution_count": 10,
   "metadata": {},
   "outputs": [
    {
     "data": {
      "text/plain": [
       "0.48255426395081263"
      ]
     },
     "execution_count": 10,
     "metadata": {},
     "output_type": "execute_result"
    }
   ],
   "source": [
    "1/2.0723058"
   ]
  },
  {
   "cell_type": "code",
   "execution_count": null,
   "metadata": {},
   "outputs": [],
   "source": []
  }
 ],
 "metadata": {
  "kernelspec": {
   "display_name": "Python 3.7.3 64-bit",
   "language": "python",
   "name": "python37364bit1e360056847e4522a208851a69c485d0"
  },
  "language_info": {
   "codemirror_mode": {
    "name": "ipython",
    "version": 3
   },
   "file_extension": ".py",
   "mimetype": "text/x-python",
   "name": "python",
   "nbconvert_exporter": "python",
   "pygments_lexer": "ipython3",
   "version": "3.7.3"
  }
 },
 "nbformat": 4,
 "nbformat_minor": 4
}
