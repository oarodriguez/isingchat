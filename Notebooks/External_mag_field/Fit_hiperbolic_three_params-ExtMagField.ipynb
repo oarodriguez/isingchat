{
 "cells": [
  {
   "cell_type": "markdown",
   "metadata": {},
   "source": [
    "# Fit using hiperbolic function"
   ]
  },
  {
   "cell_type": "code",
   "execution_count": 10,
   "metadata": {},
   "outputs": [],
   "source": [
    "import sys\n",
    "sys.path.append('C:\\\\Users\\\\MHJGuillermo\\\\PycharmProjects\\\\Doctorado\\\\Ising\\\\Varios_vecinos\\\\venv\\\\src')"
   ]
  },
  {
   "cell_type": "code",
   "execution_count": 11,
   "metadata": {},
   "outputs": [
    {
     "name": "stdout",
     "output_type": "stream",
     "text": [
      "Populating the interactive namespace from numpy and matplotlib\n"
     ]
    },
    {
     "name": "stderr",
     "output_type": "stream",
     "text": [
      "C:\\Users\\MHJGuillermo\\AppData\\Local\\Programs\\Python\\Python37\\lib\\site-packages\\IPython\\core\\magics\\pylab.py:160: UserWarning: pylab import has clobbered these variables: ['style', 'interp']\n",
      "`%matplotlib` prevents importing * from pylab and numpy\n",
      "  \"\\n`%matplotlib` prevents importing * from pylab and numpy\"\n"
     ]
    }
   ],
   "source": [
    "%pylab inline\n",
    "\n",
    "from pathlib import Path\n",
    "\n",
    "import h5py\n",
    "import numpy as np\n",
    "import style\n",
    "from ising.io import read_ising_config\n",
    "from matplotlib import pyplot, rcParams\n",
    "from matplotlib.axes import Axes, GridSpec\n",
    "from matplotlib.figure import Figure\n",
    "from ruamel.yaml import YAML\n",
    "from scipy import interpolate as interp\n",
    "from scipy.optimize import curve_fit\n",
    "from scipy.signal import savgol_filter\n",
    "import pandas as pd\n",
    "import json\n",
    "\n",
    "import os\n",
    "import re\n",
    "\n",
    "yaml = YAML()"
   ]
  },
  {
   "cell_type": "markdown",
   "metadata": {},
   "source": [
    "## Model"
   ]
  },
  {
   "cell_type": "code",
   "execution_count": 12,
   "metadata": {},
   "outputs": [],
   "source": [
    "def model_function(x: float,a1: float,a2: float,a3: float):\n",
    "    return a1*np.sqrt((x+a2)**2 + a3)"
   ]
  },
  {
   "cell_type": "code",
   "execution_count": 13,
   "metadata": {},
   "outputs": [],
   "source": [
    "def get_extrapol_function(model_function,a1,a2,a3):\n",
    "    def extrapol_funct(x):\n",
    "        return model_function(x,a1,a2,a3)\n",
    "    return extrapol_funct"
   ]
  },
  {
   "cell_type": "markdown",
   "metadata": {},
   "source": [
    "## Read files"
   ]
  },
  {
   "cell_type": "code",
   "execution_count": 14,
   "metadata": {},
   "outputs": [],
   "source": [
    "data_path = Path(\"../../../data/h-1\").resolve()\n",
    "file = 'all_inv_Tc_h-1.csv'\n",
    "df_all_tc = pd.read_csv(os.path.join(data_path,file))"
   ]
  },
  {
   "cell_type": "code",
   "execution_count": 15,
   "metadata": {},
   "outputs": [
    {
     "data": {
      "text/html": [
       "<div>\n",
       "<style scoped>\n",
       "    .dataframe tbody tr th:only-of-type {\n",
       "        vertical-align: middle;\n",
       "    }\n",
       "\n",
       "    .dataframe tbody tr th {\n",
       "        vertical-align: top;\n",
       "    }\n",
       "\n",
       "    .dataframe thead th {\n",
       "        text-align: right;\n",
       "    }\n",
       "</style>\n",
       "<table border=\"1\" class=\"dataframe\">\n",
       "  <thead>\n",
       "    <tr style=\"text-align: right;\">\n",
       "      <th></th>\n",
       "      <th>1/nv</th>\n",
       "      <th>P2.0</th>\n",
       "    </tr>\n",
       "  </thead>\n",
       "  <tbody>\n",
       "    <tr>\n",
       "      <th>0</th>\n",
       "      <td>1.000000</td>\n",
       "      <td>0.482330</td>\n",
       "    </tr>\n",
       "    <tr>\n",
       "      <th>1</th>\n",
       "      <td>0.500000</td>\n",
       "      <td>0.407525</td>\n",
       "    </tr>\n",
       "    <tr>\n",
       "      <th>2</th>\n",
       "      <td>0.333333</td>\n",
       "      <td>0.378513</td>\n",
       "    </tr>\n",
       "    <tr>\n",
       "      <th>3</th>\n",
       "      <td>0.250000</td>\n",
       "      <td>0.362943</td>\n",
       "    </tr>\n",
       "    <tr>\n",
       "      <th>4</th>\n",
       "      <td>0.200000</td>\n",
       "      <td>0.353541</td>\n",
       "    </tr>\n",
       "    <tr>\n",
       "      <th>5</th>\n",
       "      <td>0.166667</td>\n",
       "      <td>0.346949</td>\n",
       "    </tr>\n",
       "    <tr>\n",
       "      <th>6</th>\n",
       "      <td>0.142857</td>\n",
       "      <td>0.342308</td>\n",
       "    </tr>\n",
       "    <tr>\n",
       "      <th>7</th>\n",
       "      <td>0.125000</td>\n",
       "      <td>0.338823</td>\n",
       "    </tr>\n",
       "    <tr>\n",
       "      <th>8</th>\n",
       "      <td>0.111111</td>\n",
       "      <td>0.336042</td>\n",
       "    </tr>\n",
       "    <tr>\n",
       "      <th>9</th>\n",
       "      <td>0.100000</td>\n",
       "      <td>0.333850</td>\n",
       "    </tr>\n",
       "    <tr>\n",
       "      <th>10</th>\n",
       "      <td>0.090909</td>\n",
       "      <td>0.331955</td>\n",
       "    </tr>\n",
       "    <tr>\n",
       "      <th>11</th>\n",
       "      <td>0.083333</td>\n",
       "      <td>0.330481</td>\n",
       "    </tr>\n",
       "    <tr>\n",
       "      <th>12</th>\n",
       "      <td>0.076923</td>\n",
       "      <td>0.329285</td>\n",
       "    </tr>\n",
       "    <tr>\n",
       "      <th>13</th>\n",
       "      <td>0.071429</td>\n",
       "      <td>0.328097</td>\n",
       "    </tr>\n",
       "    <tr>\n",
       "      <th>14</th>\n",
       "      <td>0.066667</td>\n",
       "      <td>0.327180</td>\n",
       "    </tr>\n",
       "    <tr>\n",
       "      <th>15</th>\n",
       "      <td>0.050000</td>\n",
       "      <td>0.324303</td>\n",
       "    </tr>\n",
       "  </tbody>\n",
       "</table>\n",
       "</div>"
      ],
      "text/plain": [
       "        1/nv      P2.0\n",
       "0   1.000000  0.482330\n",
       "1   0.500000  0.407525\n",
       "2   0.333333  0.378513\n",
       "3   0.250000  0.362943\n",
       "4   0.200000  0.353541\n",
       "5   0.166667  0.346949\n",
       "6   0.142857  0.342308\n",
       "7   0.125000  0.338823\n",
       "8   0.111111  0.336042\n",
       "9   0.100000  0.333850\n",
       "10  0.090909  0.331955\n",
       "11  0.083333  0.330481\n",
       "12  0.076923  0.329285\n",
       "13  0.071429  0.328097\n",
       "14  0.066667  0.327180\n",
       "15  0.050000  0.324303"
      ]
     },
     "execution_count": 15,
     "metadata": {},
     "output_type": "execute_result"
    }
   ],
   "source": [
    "df_all_tc"
   ]
  },
  {
   "cell_type": "code",
   "execution_count": 16,
   "metadata": {},
   "outputs": [],
   "source": [
    "df_params_conicas = pd.DataFrame(index=[\"a1\",\"a2\",\"a3\"])\n",
    "df_extrapol_val = pd.DataFrame(index=[\"infty\",\"1\"])"
   ]
  },
  {
   "cell_type": "code",
   "execution_count": 17,
   "metadata": {},
   "outputs": [
    {
     "data": {
      "image/png": "[encoded data removed]",
      "text/plain": [
       "<Figure size 600x1350 with 1 Axes>"
      ]
     },
     "metadata": {},
     "output_type": "display_data"
    },
    {
     "name": "stdout",
     "output_type": "stream",
     "text": [
      "model_funt = (0.122)*((x+4.089)^2+-10.000^2)\n",
      "Extrapolation:\n",
      "0.31543375858539435 at 1/nv=0\n",
      "0.485124714701027 at 1/nv=1\n",
      "min:0.31543375858539435 at 0.0\n",
      "\n",
      "\n"
     ]
    }
   ],
   "source": [
    "COLUMNS = [\"P2.0\"]\n",
    "path_save_graph = Path(\"../../../graphs/h-1\").resolve()\n",
    "file_name_base = 'inv_Tc_vs_inv_nv_extrapol_hiperbolic_3_parms_v2'\n",
    "for COLUMN in COLUMNS:\n",
    "    file_graph = file_name_base + '_{}.png'.format(COLUMN)\n",
    "    # Get the data in arrays\n",
    "    df_part = df_all_tc[[\"1/nv\",COLUMN]]\n",
    "    df_part = df_part.dropna()\n",
    "    x_data = df_part['1/nv'].values\n",
    "    y_data = df_part[COLUMN].values\n",
    "#     # add value at nv=1\n",
    "#     x_data = np.concatenate([x_data,[1]])\n",
    "#     y_data = np.concatenate([y_data,[1.19968]])\n",
    "#     #add value at nv=infty\n",
    "#     x_data = np.insert(x_data,0,0)\n",
    "#     y_data = np.insert(y_data,0,0)\n",
    "\n",
    "#     # for square\n",
    "#     y_data = y_data**2    \n",
    "\n",
    "    # fit \n",
    "    (a1,a2,a3), _= curve_fit(f=model_function,xdata=x_data,ydata=y_data,maxfev =10000,p0=[1,1,1],bounds = ((-10,-10,-10),(10,10,10)))\n",
    "    df_params_conicas[COLUMN] = [a1,a2,a3]\n",
    "    extrapol_funct = get_extrapol_function(model_function, a1, a2, a3)\n",
    "\n",
    "    # define the point for graph\n",
    "    x_extrapol = np.linspace(0, 1, 2048)\n",
    "    y_extrapol = extrapol_funct(x_extrapol)\n",
    "\n",
    "    # Load the default style.\n",
    "    style.use(\"default\")\n",
    "    rcParams[\"text.usetex\"] = False\n",
    "\n",
    "    fig1: Figure = pyplot.figure(figsize=(4, 9), dpi=150)\n",
    "    grid_spec = GridSpec(3, 1)\n",
    "\n",
    "    # Specific heat subplot.\n",
    "    ax: Axes = fig1.add_subplot(grid_spec[0, 0])\n",
    "\n",
    "    ax.plot(x_extrapol, y_extrapol, lw=1.5)\n",
    "    ax.plot(x_data, y_data, marker=\"o\", lw=0)\n",
    "\n",
    "    ax.set_xlabel(r\"$1/n_v$\")\n",
    "    ax.set_ylabel(r\"$J/k_BT_c$\")\n",
    "\n",
    "    ax.set_title(COLUMN)\n",
    "    pyplot.draw()\n",
    "#     print('Save graph {}'.format(os.path.join(path_save_graph,file_graph)))\n",
    "#     pyplot.savefig(os.path.join(path_save_graph,file_graph))\n",
    "    pyplot.show()\n",
    "    print(\"model_funt = ({:.3f})*((x+{:.3f})^2+{:.3f}^2)\".format(a1,a2,a3))\n",
    "    print(\"Extrapolation:\\n{} at 1/nv=0\\n{} at 1/nv=1\".format(extrapol_funct(0),extrapol_funct(1)))\n",
    "    df_extrapol_val[COLUMN] = [extrapol_funct(0),extrapol_funct(1)]  \n",
    "    print(\"min:{} at {}\".format(np.nanmin(y_extrapol),x_extrapol[np.nanargmin(y_extrapol)]))    \n",
    "    print(\"\\n\")\n"
   ]
  },
  {
   "cell_type": "markdown",
   "metadata": {},
   "source": [
    "## Save params"
   ]
  },
  {
   "cell_type": "code",
   "execution_count": 19,
   "metadata": {},
   "outputs": [
    {
     "name": "stdout",
     "output_type": "stream",
     "text": [
      "         P2.0\n",
      "a1   0.090188\n",
      "a2   8.100728\n",
      "a3 -53.543186\n",
      "Exporting to csv files the params adjusted C:\\Users\\MHJGuillermo\\PycharmProjects\\Doctorado\\Ising\\Varios_vecinos\\venv\\data\\h-1\\Extrapolation\\inv_Tc_vs_inv_nv_extrapol_hiperbolic_3_parms_v2_params_curves.csv\n",
      "           P2.0\n",
      "infty  0.313441\n",
      "1      0.488015\n",
      "Exporting to csv files the extrapolation values adjusted C:\\Users\\MHJGuillermo\\PycharmProjects\\Doctorado\\Ising\\Varios_vecinos\\venv\\data\\h-1\\Extrapolation\\inv_Tc_vs_inv_nv_extrapol_hiperbolic_3_parms_v2_extrapol_values.csv\n"
     ]
    }
   ],
   "source": [
    "# Define tha path and name for the csv files\n",
    "file_params = os.path.join(data_path,'Extrapolation',file_name_base+'_params_curves.csv')\n",
    "file_extrapol_values = os.path.join(data_path,'Extrapolation',file_name_base+'_extrapol_values.csv')\n",
    "print(df_params_conicas)\n",
    "print(\"Exporting to csv files the params adjusted {}\".format(file_params))\n",
    "df_params_conicas.to_csv(file_params)\n",
    "print(df_extrapol_val)\n",
    "print(\"Exporting to csv files the extrapolation values adjusted {}\".format(file_extrapol_values))\n",
    "df_extrapol_val.to_csv(file_extrapol_values)"
   ]
  },
  {
   "cell_type": "markdown",
   "metadata": {},
   "source": [
    "## Plot extrapol values"
   ]
  },
  {
   "cell_type": "code",
   "execution_count": 12,
   "metadata": {},
   "outputs": [
    {
     "name": "stdout",
     "output_type": "stream",
     "text": [
      "Save graph C:\\Users\\MHJGuillermo\\PycharmProjects\\Doctorado\\Ising\\Varios_vecinos\\venv\\graphs\\Extrapolation\\square_inv_Tc_vs_inv_nv_extrapol_parabolic_3_parms_with_nv-1_v2_all_p.png\n"
     ]
    },
    {
     "data": {
      "image/png": "[encoded data removed]",
      "text/plain": [
       "<Figure size 600x1350 with 1 Axes>"
      ]
     },
     "metadata": {},
     "output_type": "display_data"
    }
   ],
   "source": [
    "file_extrapol_graph = os.path.join(path_save_graph,'Extrapolation',file_name_base+'_all_p.png')\n",
    "# data \n",
    "x_data = np.arange(1,2.1,0.1)\n",
    "y_data = 1/df_extrapol_val.loc['infty'].values\n",
    "\n",
    "# data for squared \n",
    "y_data = np.sqrt(y_data)\n",
    "\n",
    "# Load the default style.\n",
    "style.use(\"default\")\n",
    "rcParams[\"text.usetex\"] = False\n",
    "\n",
    "fig1: Figure = pyplot.figure(figsize=(4, 9), dpi=150)\n",
    "grid_spec = GridSpec(3, 1)\n",
    "\n",
    "# Specific heat subplot.\n",
    "ax: Axes = fig1.add_subplot(grid_spec[0, 0])\n",
    "\n",
    "ax.plot(x_data, y_data, marker=\"o\", lw=0)\n",
    "\n",
    "ax.set_xlabel(r\"$p$\")\n",
    "ax.set_ylabel(r\"$k_BT_c/J$\")\n",
    "\n",
    "pyplot.draw()\n",
    "\n",
    "print('Save graph {}'.format(file_extrapol_graph))\n",
    "pyplot.savefig(file_extrapol_graph)\n",
    "\n",
    "pyplot.show()"
   ]
  },
  {
   "cell_type": "code",
   "execution_count": null,
   "metadata": {},
   "outputs": [],
   "source": []
  }
 ],
 "metadata": {
  "kernelspec": {
   "display_name": "Python 3.7.3 64-bit",
   "language": "python",
   "name": "python37364bit1e360056847e4522a208851a69c485d0"
  },
  "language_info": {
   "codemirror_mode": {
    "name": "ipython",
    "version": 3
   },
   "file_extension": ".py",
   "mimetype": "text/x-python",
   "name": "python",
   "nbconvert_exporter": "python",
   "pygments_lexer": "ipython3",
   "version": "3.7.3"
  }
 },
 "nbformat": 4,
 "nbformat_minor": 4
}
