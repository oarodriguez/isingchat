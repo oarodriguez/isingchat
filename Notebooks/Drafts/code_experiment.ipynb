{
 "cells": [
  {
   "cell_type": "code",
   "execution_count": 1,
   "metadata": {},
   "outputs": [],
   "source": [
    "import sys\n",
    "sys.path.append('C:\\\\Users\\\\MHJGuillermo\\\\PycharmProjects\\\\Doctorado\\\\Ising\\\\isingchat\\\\venv\\\\src')"
   ]
  },
  {
   "cell_type": "code",
   "execution_count": 2,
   "metadata": {},
   "outputs": [
    {
     "name": "stdout",
     "output_type": "stream",
     "text": [
      "Populating the interactive namespace from numpy and matplotlib\n"
     ]
    }
   ],
   "source": [
    "%pylab inline\n",
    "\n",
    "import h5py\n",
    "import numpy as np\n",
    "from isingchat.io import read_ising_config\n",
    "from isingchat import ising\n",
    "from matplotlib import pyplot, rcParams\n",
    "from matplotlib.axes import Axes, GridSpec\n",
    "from matplotlib.figure import Figure\n",
    "from ruamel.yaml import YAML\n",
    "from scipy import interpolate as interp\n",
    "from scipy.optimize import curve_fit\n",
    "from scipy.signal import savgol_filter\n",
    "import pandas as pd\n",
    "import json\n",
    "\n",
    "import os\n",
    "import re\n"
   ]
  },
  {
   "cell_type": "code",
   "execution_count": 3,
   "metadata": {},
   "outputs": [
    {
     "name": "stdout",
     "output_type": "stream",
     "text": [
      "eigenvals: [ 1.24263681+0.j          0.9073365 +0.j         -0.21486628+0.30057257j\n",
      " -0.21486628-0.30057257j  0.34436658+0.j         -0.07620259+0.14002203j\n",
      " -0.07620259-0.14002203j  0.08779787+0.j        ]\n",
      "eigenvect: [[ 0.6349682 +0.00000000e+00j  0.66984521+0.00000000e+00j\n",
      "  -0.32195334-7.96551384e-02j -0.32195334+7.96551384e-02j\n",
      "  -0.52747865+0.00000000e+00j -0.32034058-4.16787121e-02j\n",
      "  -0.32034058+4.16787121e-02j -0.35330694+0.00000000e+00j]\n",
      " [ 0.18200825+0.00000000e+00j -0.07332728+0.00000000e+00j\n",
      "   0.49035011+0.00000000e+00j  0.49035011-0.00000000e+00j\n",
      "   0.40855298+0.00000000e+00j  0.41416995+2.88657986e-15j\n",
      "   0.41416995-2.88657986e-15j  0.38073751+0.00000000e+00j]\n",
      " [ 0.13534078+0.00000000e+00j  0.07658179+0.00000000e+00j\n",
      "  -0.30003658+8.93917416e-02j -0.30003658-8.93917416e-02j\n",
      "   0.2306671 +0.00000000e+00j  0.15002194+2.93362693e-01j\n",
      "   0.15002194-2.93362693e-01j  0.33631997+0.00000000e+00j]\n",
      " [ 0.21300531+0.00000000e+00j -0.20016428+0.00000000e+00j\n",
      "   0.18074255+1.37394225e-01j  0.18074255-1.37394225e-01j\n",
      "  -0.0405391 +0.00000000e+00j -0.22926498-2.50952915e-01j\n",
      "  -0.22926498+2.50952915e-01j -0.34220174+0.00000000e+00j]\n",
      " [ 0.21300531+0.00000000e+00j  0.20016428+0.00000000e+00j\n",
      "  -0.18074255-1.37394225e-01j -0.18074255+1.37394225e-01j\n",
      "  -0.0405391 +0.00000000e+00j -0.22926498-2.50952915e-01j\n",
      "  -0.22926498+2.50952915e-01j  0.34220174+0.00000000e+00j]\n",
      " [ 0.13534078+0.00000000e+00j -0.07658179+0.00000000e+00j\n",
      "   0.30003658-8.93917416e-02j  0.30003658+8.93917416e-02j\n",
      "   0.2306671 +0.00000000e+00j  0.15002194+2.93362693e-01j\n",
      "   0.15002194-2.93362693e-01j -0.33631997+0.00000000e+00j]\n",
      " [ 0.18200825+0.00000000e+00j  0.07332728+0.00000000e+00j\n",
      "  -0.49035011-1.94289029e-16j -0.49035011+1.94289029e-16j\n",
      "   0.40855298+0.00000000e+00j  0.41416995+0.00000000e+00j\n",
      "   0.41416995-0.00000000e+00j -0.38073751+0.00000000e+00j]\n",
      " [ 0.6349682 +0.00000000e+00j -0.66984521+0.00000000e+00j\n",
      "   0.32195334+7.96551384e-02j  0.32195334-7.96551384e-02j\n",
      "  -0.52747865+0.00000000e+00j -0.32034058-4.16787121e-02j\n",
      "  -0.32034058+4.16787121e-02j  0.35330694+0.00000000e+00j]]\n"
     ]
    }
   ],
   "source": [
    "from isingchat.ising import _csr_log_transfer_matrix_parts_fast,csr_matrix,eigvals,_csr_finite_log_transfer_matrix_parts_fast\n",
    "from scipy import linalg\n",
    "temp = 3\n",
    "mag_field = 0\n",
    "interactions = np.array([1.0, 0.5,0.25])\n",
    "num_neighbors = 3\n",
    "\n",
    "nnz_elems, nnz_rows, nnz_cols = _csr_log_transfer_matrix_parts_fast(\n",
    "    temp, mag_field, interactions, num_neighbors\n",
    ")\n",
    "\n",
    "# Normalize nonzero matrix elements.\n",
    "max_w_log_elem = np.max(nnz_elems)\n",
    "nnz_elems -= max_w_log_elem\n",
    "norm_nnz_elems = np.exp(nnz_elems)\n",
    "# Construct the sparse matrix.\n",
    "num_rows = 2 ** num_neighbors\n",
    "w_shape = (num_rows, num_rows)\n",
    "w_matrix = csr_matrix(\n",
    "    (norm_nnz_elems, (nnz_rows, nnz_cols)), shape=w_shape\n",
    ")\n",
    "# Strictly, we should calculate all the eigenvalues and calculate the\n",
    "# Free energy according to F. A, Kassan-ogly (2001),\n",
    "#   https://www.tandfonline.com/doi/abs/10.1080/0141159010822758.\n",
    "eigenval, eigenvect = linalg.eig(w_matrix.todense())\n",
    "print(\"eigenvals: {}\\neigenvect: {}\".format(eigenval,eigenvect))\n"
   ]
  },
  {
   "cell_type": "code",
   "execution_count": 4,
   "metadata": {},
   "outputs": [
    {
     "name": "stdout",
     "output_type": "stream",
     "text": [
      "[[ 0.21300531+0.00000000e+00j -0.20016428+0.00000000e+00j\n",
      "   0.18074255+1.37394225e-01j  0.18074255-1.37394225e-01j\n",
      "  -0.0405391 +0.00000000e+00j -0.22926498-2.50952915e-01j\n",
      "  -0.22926498+2.50952915e-01j -0.34220174+0.00000000e+00j]\n",
      " [ 0.13534078+0.00000000e+00j -0.07658179+0.00000000e+00j\n",
      "   0.30003658-8.93917416e-02j  0.30003658+8.93917416e-02j\n",
      "   0.2306671 +0.00000000e+00j  0.15002194+2.93362693e-01j\n",
      "   0.15002194-2.93362693e-01j -0.33631997+0.00000000e+00j]\n",
      " [ 0.13534078+0.00000000e+00j  0.07658179+0.00000000e+00j\n",
      "  -0.30003658+8.93917416e-02j -0.30003658-8.93917416e-02j\n",
      "   0.2306671 +0.00000000e+00j  0.15002194+2.93362693e-01j\n",
      "   0.15002194-2.93362693e-01j  0.33631997+0.00000000e+00j]\n",
      " [ 0.21300531+0.00000000e+00j  0.20016428+0.00000000e+00j\n",
      "  -0.18074255-1.37394225e-01j -0.18074255+1.37394225e-01j\n",
      "  -0.0405391 +0.00000000e+00j -0.22926498-2.50952915e-01j\n",
      "  -0.22926498+2.50952915e-01j  0.34220174+0.00000000e+00j]\n",
      " [ 0.18200825+0.00000000e+00j -0.07332728+0.00000000e+00j\n",
      "   0.49035011+0.00000000e+00j  0.49035011-0.00000000e+00j\n",
      "   0.40855298+0.00000000e+00j  0.41416995+2.88657986e-15j\n",
      "   0.41416995-2.88657986e-15j  0.38073751+0.00000000e+00j]\n",
      " [ 0.18200825+0.00000000e+00j  0.07332728+0.00000000e+00j\n",
      "  -0.49035011-1.94289029e-16j -0.49035011+1.94289029e-16j\n",
      "   0.40855298+0.00000000e+00j  0.41416995+0.00000000e+00j\n",
      "   0.41416995-0.00000000e+00j -0.38073751+0.00000000e+00j]\n",
      " [ 0.6349682 +0.00000000e+00j  0.66984521+0.00000000e+00j\n",
      "  -0.32195334-7.96551384e-02j -0.32195334+7.96551384e-02j\n",
      "  -0.52747865+0.00000000e+00j -0.32034058-4.16787121e-02j\n",
      "  -0.32034058+4.16787121e-02j -0.35330694+0.00000000e+00j]\n",
      " [ 0.6349682 +0.00000000e+00j -0.66984521+0.00000000e+00j\n",
      "   0.32195334+7.96551384e-02j  0.32195334-7.96551384e-02j\n",
      "  -0.52747865+0.00000000e+00j -0.32034058-4.16787121e-02j\n",
      "  -0.32034058+4.16787121e-02j  0.35330694+0.00000000e+00j]]\n"
     ]
    }
   ],
   "source": [
    "# order_eig = np.array([eigenvect[:,3],eigenvect[:,5],\n",
    "#                        eigenvect[:,2],eigenvect[:,4],\n",
    "#                       eigenvect[:,1],eigenvect[:,6],\n",
    "#                       eigenvect[:,0],eigenvect[:,7],\n",
    "#                     ])\n",
    "order_eig = np.array([eigenvect[3],eigenvect[5],\n",
    "                       eigenvect[2],eigenvect[4],\n",
    "                      eigenvect[1],eigenvect[6],\n",
    "                      eigenvect[0],eigenvect[7],\n",
    "                    ])\n",
    "# order_eig_val = np.array([eigenval[3],eigenval[5],\n",
    "#                        eigenval[2],eigenval[4],\n",
    "#                       eigenval[1],eigenval[6],\n",
    "#                       eigenval[0],eigenval[7],\n",
    "#                     ])\n",
    "# # order_eig = np.array([eigenvect[1],eigenvect[2],\n",
    "# #                       eigenvect[0],eigenvect[3]])\n",
    "print(order_eig)\n",
    "# print(order_eig_val)"
   ]
  },
  {
   "cell_type": "code",
   "execution_count": 5,
   "metadata": {},
   "outputs": [
    {
     "name": "stdout",
     "output_type": "stream",
     "text": [
      "sigma_gen: [[ 1.  0.  0.  0.  0.  0.  0.  0.]\n",
      " [ 0.  1.  0.  0.  0.  0.  0.  0.]\n",
      " [ 0.  0.  1.  0.  0.  0.  0.  0.]\n",
      " [ 0.  0.  0.  1.  0.  0.  0.  0.]\n",
      " [ 0.  0.  0.  0. -1.  0.  0.  0.]\n",
      " [ 0.  0.  0.  0.  0. -1.  0.  0.]\n",
      " [ 0.  0.  0.  0.  0.  0. -1.  0.]\n",
      " [ 0.  0.  0.  0.  0.  0.  0. -1.]]\n"
     ]
    },
    {
     "data": {
      "text/plain": [
       "matrix([[ 6.95088653e-16-3.31891497e-17j,\n",
       "          4.72844666e-01-1.87482868e-18j,\n",
       "          2.17412463e-02+9.26111617e-02j,\n",
       "          2.17412463e-02-9.26111617e-02j,\n",
       "          1.48116646e-16-1.19762313e-17j,\n",
       "          4.33017767e-16+2.85718615e-16j,\n",
       "          4.32897086e-16-2.93585059e-16j,\n",
       "         -7.50918720e-04-4.25799309e-18j],\n",
       "        [ 1.54964667e+00-8.92662178e-17j,\n",
       "         -1.19154153e-15-9.14780989e-18j,\n",
       "         -6.34573672e-16+3.74932634e-16j,\n",
       "         -6.36740858e-16-2.58791964e-16j,\n",
       "         -1.84329523e-01-2.08408706e-17j,\n",
       "          2.21392279e-02+1.86379832e-02j,\n",
       "          2.21392279e-02-1.86379832e-02j,\n",
       "         -3.40792583e-16+3.48547508e-17j],\n",
       "        [ 3.33077352e-01-1.36438007e+00j,\n",
       "         -7.88136835e-16+6.35238464e-16j,\n",
       "          2.59179562e-15-1.22043914e-15j,\n",
       "          3.09115849e-15-4.15527447e-16j,\n",
       "          1.25181274e-01-4.44077312e-01j,\n",
       "          1.39839259e-01-1.12010954e-01j,\n",
       "          1.37801551e-01+2.84270129e-01j,\n",
       "         -1.49149894e-15+1.37237596e-15j],\n",
       "        [ 3.33077352e-01+1.36438007e+00j,\n",
       "         -9.41057167e-16-1.62864346e-16j,\n",
       "          2.52502609e-15+2.37011355e-16j,\n",
       "          1.89157988e-15+5.42322687e-16j,\n",
       "          1.25181274e-01+4.44077312e-01j,\n",
       "          1.37801551e-01-2.84270129e-01j,\n",
       "          1.39839259e-01+1.12010954e-01j,\n",
       "         -1.42044686e-15-1.27855772e-15j],\n",
       "        [-2.50202752e-16+1.40001345e-17j,\n",
       "         -1.28326806e+00+9.39700898e-17j,\n",
       "          1.38344157e-01+6.99477177e-01j,\n",
       "          1.38344157e-01-6.99477177e-01j,\n",
       "          2.01572940e-15-2.16471131e-17j,\n",
       "          7.72769367e-16+1.98565683e-15j,\n",
       "          7.19612621e-16-1.95368319e-15j,\n",
       "          1.50431259e-01+1.95953871e-17j],\n",
       "        [ 4.31234054e-16-5.28423720e-18j,\n",
       "          4.40512495e-01-3.00687994e-01j,\n",
       "          5.61788302e-01+4.70821959e-01j,\n",
       "          4.76124033e-01+1.20151108e+00j,\n",
       "          2.93689790e-16+2.69459120e-16j,\n",
       "         -1.87459790e-15+1.37909660e-15j,\n",
       "          3.04076576e-15-1.58901526e-15j,\n",
       "          3.85608664e-01-3.17052138e-01j],\n",
       "        [ 2.36945025e-16-5.36963610e-17j,\n",
       "          4.40512495e-01+3.00687994e-01j,\n",
       "          4.76124033e-01-1.20151108e+00j,\n",
       "          5.61788302e-01-4.70821959e-01j,\n",
       "          7.16451855e-17-4.77625937e-16j,\n",
       "          2.90895148e-15+1.25164625e-15j,\n",
       "         -2.32560130e-15-1.34530419e-15j,\n",
       "          3.85608664e-01+3.17052138e-01j],\n",
       "        [-8.14456156e-02-2.59100310e-18j,\n",
       "         -1.90590735e-17-1.97590191e-17j,\n",
       "          2.23880997e-17-1.28541679e-16j,\n",
       "          5.14691843e-17+9.30080595e-17j,\n",
       "          7.15115499e-01-6.31907912e-18j,\n",
       "          7.34501208e-01+5.13958143e-01j,\n",
       "          7.34501208e-01-5.13958143e-01j,\n",
       "         -8.92343532e-16-3.40999312e-17j]])"
      ]
     },
     "execution_count": 5,
     "metadata": {},
     "output_type": "execute_result"
    }
   ],
   "source": [
    "from isingchat.ising import z_projection_gen\n",
    "sigma_z = z_projection_gen(2)\n",
    "print(\"sigma_gen: {}\".format(sigma_z.todense()))\n",
    "\n",
    "# unitary_mat = np.matrix.transpose(eigenvect)\n",
    "# unitary_mat = order_eig\n",
    "unitary_mat = eigenvect\n",
    "inverse_unitary_mat = linalg.inv(unitary_mat)\n",
    "np.dot(np.dot(inverse_unitary_mat,w_matrix.todense()),unitary_mat)\n",
    "np.dot(np.dot(inverse_unitary_mat,sigma_z.todense()),unitary_mat)"
   ]
  },
  {
   "cell_type": "code",
   "execution_count": 8,
   "metadata": {},
   "outputs": [
    {
     "data": {
      "text/plain": [
       "array([-0.21486628-0.30057257j, -0.21486628+0.30057257j,\n",
       "       -0.07620259-0.14002203j, -0.07620259+0.14002203j,\n",
       "        0.08779787+0.j        ,  0.34436658+0.j        ,\n",
       "        0.9073365 +0.j        ,  1.24263681+0.j        ])"
      ]
     },
     "execution_count": 8,
     "metadata": {},
     "output_type": "execute_result"
    }
   ],
   "source": [
    "eigenval.sort()\n",
    "eigenval"
   ]
  },
  {
   "cell_type": "code",
   "execution_count": 9,
   "metadata": {},
   "outputs": [],
   "source": [
    "def correlation_function(r):\n",
    "    return (eigenval[0]/eigenval[-1])**r"
   ]
  },
  {
   "cell_type": "code",
   "execution_count": 13,
   "metadata": {},
   "outputs": [
    {
     "name": "stderr",
     "output_type": "stream",
     "text": [
      "C:\\Users\\MHJGuillermo\\PycharmProjects\\Doctorado\\Ising\\isingchat\\lib\\site-packages\\matplotlib\\cbook\\__init__.py:1289: ComplexWarning: Casting complex values to real discards the imaginary part\n",
      "  return np.asarray(x, float)\n"
     ]
    },
    {
     "data": {
      "text/plain": [
       "[<matplotlib.lines.Line2D at 0x1c8eb7cd390>]"
      ]
     },
     "execution_count": 13,
     "metadata": {},
     "output_type": "execute_result"
    },
    {
     "data": {
      "image/png": "[encoded data removed]",
      "text/plain": [
       "<Figure size 600x1350 with 1 Axes>"
      ]
     },
     "metadata": {},
     "output_type": "display_data"
    }
   ],
   "source": [
    "# Load the default style.\n",
    "style.use(\"default\")\n",
    "rcParams[\"text.usetex\"] = False\n",
    "\n",
    "fig1: Figure = pyplot.figure(figsize=(4, 9), dpi=150)\n",
    "grid_spec = GridSpec(3, 1)\n",
    "\n",
    "# Specific heat subplot.\n",
    "ax: Axes = fig1.add_subplot(grid_spec[0, 0])\n",
    "\n",
    "x_data = np.arange(0,10,1)\n",
    "y_data = correlation_function(x_data)\n",
    "ax.plot(x_data, y_data, marker=\"o\", lw=0,color='C0',label='adjust without nv=1')"
   ]
  },
  {
   "cell_type": "code",
   "execution_count": null,
   "metadata": {},
   "outputs": [],
   "source": []
  }
 ],
 "metadata": {
  "kernelspec": {
   "display_name": "Python 3",
   "language": "python",
   "name": "python3"
  },
  "language_info": {
   "codemirror_mode": {
    "name": "ipython",
    "version": 3
   },
   "file_extension": ".py",
   "mimetype": "text/x-python",
   "name": "python",
   "nbconvert_exporter": "python",
   "pygments_lexer": "ipython3",
   "version": "3.7.3"
  }
 },
 "nbformat": 4,
 "nbformat_minor": 4
}
