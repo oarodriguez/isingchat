{
 "cells": [
  {
   "cell_type": "markdown",
   "metadata": {},
   "source": [
    "# Explorer eigenvals"
   ]
  },
  {
   "cell_type": "code",
   "execution_count": 1,
   "metadata": {},
   "outputs": [
    {
     "name": "stdout",
     "output_type": "stream",
     "text": [
      "Populating the interactive namespace from numpy and matplotlib\n"
     ]
    }
   ],
   "source": [
    "%pylab inline\n",
    "\n",
    "import h5py\n",
    "import numpy as np\n",
    "from isingchat.io import read_ising_config\n",
    "from isingchat import ising\n",
    "from matplotlib import pyplot, rcParams\n",
    "from matplotlib.axes import Axes, GridSpec\n",
    "from matplotlib.figure import Figure\n",
    "from ruamel.yaml import YAML\n",
    "from scipy import interpolate as interp\n",
    "from scipy.optimize import curve_fit\n",
    "from scipy.signal import savgol_filter\n",
    "import pandas as pd\n",
    "import json\n",
    "\n",
    "import os\n",
    "import re\n"
   ]
  },
  {
   "cell_type": "code",
   "execution_count": 7,
   "metadata": {},
   "outputs": [
    {
     "name": "stdout",
     "output_type": "stream",
     "text": [
      "eigenvals: [ 1.00000684+0.j          0.02093335+0.j         -0.00802371+0.01373809j\n",
      " -0.00802371-0.01373809j]\n",
      "eigenvect: [[ 9.99999780e-01+0.j          2.59888345e-01+0.j\n",
      "  -2.51381001e-01-0.00342601j -2.51381001e-01+0.00342601j]\n",
      " [ 2.55905296e-05+0.j         -9.52506129e-01+0.j\n",
      "   9.48751719e-01+0.j          9.48751719e-01-0.j        ]\n",
      " [ 1.21885524e-05+0.j         -1.19397871e-01+0.j\n",
      "  -3.77112346e-02+0.12797431j -3.77112346e-02-0.12797431j]\n",
      " [ 6.62220971e-04+0.j         -1.04567060e-01+0.j\n",
      "  -6.93957208e-02-0.11853567j -6.93957208e-02+0.11853567j]]\n"
     ]
    }
   ],
   "source": [
    "from isingchat.ising import _csr_finite_log_transfer_matrix_parts_fast,csr_matrix,eigvals,_centrosym_log_transfer_matrix_parts_fast\n",
    "from scipy import linalg\n",
    "temp = 0.5\n",
    "mag_field = 0\n",
    "interactions = np.array([1.0, 0.5,0.33]) # p=1\n",
    "num_neighbors = 3\n",
    "\n",
    "nnz_elems, nnz_rows, nnz_cols = _centrosym_log_transfer_matrix_parts_fast(\n",
    "        temp, interactions, num_neighbors\n",
    ")\n",
    "\n",
    "# Normalize nonzero matrix elements.\n",
    "max_w_log_elem = np.max(nnz_elems)\n",
    "nnz_elems -= max_w_log_elem\n",
    "norm_nnz_elems = np.exp(nnz_elems)\n",
    "# Construct the sparse matrix.\n",
    "num_rows = 2 ** (num_neighbors-1)\n",
    "w_shape = (num_rows, num_rows)\n",
    "w_matrix = csr_matrix(\n",
    "    (norm_nnz_elems, (nnz_rows, nnz_cols)), shape=w_shape\n",
    ")\n",
    "# Evaluate all eigenvalue only.\n",
    "eigenval, eigenvect = linalg.eig(w_matrix.todense())\n",
    "print(\"eigenvals: {}\\neigenvect: {}\".format(eigenval,eigenvect))\n"
   ]
  },
  {
   "cell_type": "code",
   "execution_count": 48,
   "metadata": {},
   "outputs": [
    {
     "name": "stdout",
     "output_type": "stream",
     "text": [
      "[[ 0.        +0.j          0.        -0.j          0.        +0.j\n",
      "  -0.70241032+0.j         -0.70241032-0.j          0.70241032+0.j\n",
      "   0.        +0.j          0.        +0.j        ]\n",
      " [ 0.70241032+0.j          0.70241032-0.j          0.70241032+0.j\n",
      "   0.        +0.j          0.        -0.j          0.        +0.j\n",
      "   0.        +0.j          0.        +0.j        ]\n",
      " [ 0.        +0.j          0.        -0.j          0.        +0.j\n",
      "   0.        +0.j          0.        -0.j          0.        +0.j\n",
      "   1.        +0.j          0.        +0.j        ]\n",
      " [ 0.        +0.j          0.        -0.j          0.        +0.j\n",
      "   0.        +0.j          0.        -0.j          0.        +0.j\n",
      "   0.        +0.j          1.        +0.j        ]\n",
      " [ 0.        +0.j          0.        -0.j          0.        +0.j\n",
      "   0.25164949-0.43586971j  0.25164949+0.43586971j  0.50329899+0.j\n",
      "   0.        +0.j          0.        +0.j        ]\n",
      " [ 0.        +0.j          0.        -0.j          0.        +0.j\n",
      "   0.25164949+0.43586971j  0.25164949-0.43586971j  0.50329899+0.j\n",
      "   0.        +0.j          0.        +0.j        ]\n",
      " [-0.25164949-0.43586971j -0.25164949+0.43586971j  0.50329899+0.j\n",
      "   0.        +0.j          0.        -0.j          0.        +0.j\n",
      "   0.        +0.j          0.        +0.j        ]\n",
      " [-0.25164949+0.43586971j -0.25164949-0.43586971j  0.50329899+0.j\n",
      "   0.        +0.j          0.        -0.j          0.        +0.j\n",
      "   0.        +0.j          0.        +0.j        ]]\n"
     ]
    }
   ],
   "source": [
    "order_eig = np.array([eigenvect[1],eigenvect[6],\n",
    "                      eigenvect[0],eigenvect[7],                      \n",
    "                     eigenvect[2],eigenvect[4],\n",
    "                    eigenvect[3],eigenvect[5]])\n",
    "\n",
    "# order_eig = np.array([eigenvect[1],eigenvect[2],\n",
    "#                       eigenvect[0],eigenvect[3]])\n",
    "print(order_eig)"
   ]
  },
  {
   "cell_type": "code",
   "execution_count": 49,
   "metadata": {},
   "outputs": [
    {
     "name": "stdout",
     "output_type": "stream",
     "text": [
      "sigma_gen: [[ 1  0  0  0  0  0  0  0]\n",
      " [ 0  1  0  0  0  0  0  0]\n",
      " [ 0  0  1  0  0  0  0  0]\n",
      " [ 0  0  0  1  0  0  0  0]\n",
      " [ 0  0  0  0 -1  0  0  0]\n",
      " [ 0  0  0  0  0 -1  0  0]\n",
      " [ 0  0  0  0  0  0 -1  0]\n",
      " [ 0  0  0  0  0  0  0 -1]]\n"
     ]
    },
    {
     "data": {
      "text/plain": [
       "array([[-0.33333333-4.40024708e-16j,  0.66666667+3.92642560e-16j,\n",
       "         0.66666667+4.73821483e-17j,  0.        +0.00000000e+00j,\n",
       "         0.        +0.00000000e+00j,  0.        +0.00000000e+00j,\n",
       "         0.        +0.00000000e+00j,  0.        +0.00000000e+00j],\n",
       "       [ 0.66666667-3.92642560e-16j, -0.33333333+3.56757982e-16j,\n",
       "         0.66666667+6.36401542e-17j,  0.        +0.00000000e+00j,\n",
       "         0.        +0.00000000e+00j,  0.        +0.00000000e+00j,\n",
       "         0.        +0.00000000e+00j,  0.        +0.00000000e+00j],\n",
       "       [ 0.66666667-3.16106240e-16j,  0.66666667+2.60595089e-16j,\n",
       "        -0.33333333+3.89916055e-17j,  0.        +0.00000000e+00j,\n",
       "         0.        +0.00000000e+00j,  0.        +0.00000000e+00j,\n",
       "         0.        +0.00000000e+00j,  0.        +0.00000000e+00j],\n",
       "       [ 0.        +0.00000000e+00j,  0.        +0.00000000e+00j,\n",
       "         0.        +0.00000000e+00j, -0.33333333-4.48153711e-16j,\n",
       "         0.66666667+4.12269133e-16j, -0.66666667-8.12900297e-18j,\n",
       "         0.        +0.00000000e+00j,  0.        +0.00000000e+00j],\n",
       "       [ 0.        +0.00000000e+00j,  0.        +0.00000000e+00j,\n",
       "         0.        +0.00000000e+00j,  0.66666667-4.40024708e-16j,\n",
       "        -0.33333333+4.20398136e-16j, -0.66666667+8.12900297e-18j,\n",
       "         0.        +0.00000000e+00j,  0.        +0.00000000e+00j],\n",
       "       [ 0.        +0.00000000e+00j,  0.        +0.00000000e+00j,\n",
       "         0.        +0.00000000e+00j, -0.66666667+3.58561291e-16j,\n",
       "        -0.66666667-4.14438703e-16j, -0.33333333-2.79387062e-17j,\n",
       "         0.        +0.00000000e+00j,  0.        +0.00000000e+00j],\n",
       "       [ 0.        +0.00000000e+00j,  0.        +0.00000000e+00j,\n",
       "         0.        +0.00000000e+00j,  0.        +0.00000000e+00j,\n",
       "         0.        +0.00000000e+00j,  0.        +0.00000000e+00j,\n",
       "         1.        +0.00000000e+00j,  0.        +0.00000000e+00j],\n",
       "       [ 0.        +0.00000000e+00j,  0.        +0.00000000e+00j,\n",
       "         0.        +0.00000000e+00j,  0.        +0.00000000e+00j,\n",
       "         0.        +0.00000000e+00j,  0.        +0.00000000e+00j,\n",
       "         0.        +0.00000000e+00j,  1.        +0.00000000e+00j]])"
      ]
     },
     "execution_count": 49,
     "metadata": {},
     "output_type": "execute_result"
    }
   ],
   "source": [
    "sigma_z = np.array([\n",
    "   [1,0],\n",
    "    [0,-1],\n",
    "])\n",
    "identity = np.array([\n",
    "    [1,0],\n",
    "    [0,1]\n",
    "])\n",
    "sig_gen = np.kron(sigma_z,identity)\n",
    "for i in range(num_neighbors-2):\n",
    "    sig_gen = np.kron(sig_gen,identity)\n",
    "print(\"sigma_gen: {}\".format(sig_gen))\n",
    "\n",
    "# unitary_mat = np.matrix.transpose(eigenvect)\n",
    "unitary_mat = np.matrix.transpose(order_eig)\n",
    "inverse_unitary_mat = linalg.inv(unitary_mat)\n",
    "np.dot(np.dot(unitary_mat,sig_gen),inverse_unitary_mat)"
   ]
  },
  {
   "cell_type": "code",
   "execution_count": 29,
   "metadata": {},
   "outputs": [
    {
     "data": {
      "text/plain": [
       "array([[3, 2],\n",
       "       [7, 4]])"
      ]
     },
     "execution_count": 29,
     "metadata": {},
     "output_type": "execute_result"
    }
   ],
   "source": [
    "A=np.array([\n",
    "    [1,2],\n",
    "    [3,4]\n",
    "]) \n",
    "B=np.array([\n",
    "    [1,0],\n",
    "    [1,1]\n",
    "])\n",
    "np.dot(A,B)"
   ]
  },
  {
   "cell_type": "code",
   "execution_count": 20,
   "metadata": {},
   "outputs": [],
   "source": [
    "import numpy"
   ]
  },
  {
   "cell_type": "code",
   "execution_count": null,
   "metadata": {},
   "outputs": [],
   "source": []
  }
 ],
 "metadata": {
  "kernelspec": {
   "display_name": "Python 3",
   "language": "python",
   "name": "python3"
  },
  "language_info": {
   "codemirror_mode": {
    "name": "ipython",
    "version": 3
   },
   "file_extension": ".py",
   "mimetype": "text/x-python",
   "name": "python",
   "nbconvert_exporter": "python",
   "pygments_lexer": "ipython3",
   "version": "3.7.3"
  }
 },
 "nbformat": 4,
 "nbformat_minor": 4
}
