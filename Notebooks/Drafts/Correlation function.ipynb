{
 "cells": [
  {
   "cell_type": "markdown",
   "metadata": {},
   "source": [
    "# Explorer correlation function\n",
    "we calculate the correlation function with the following expression\n",
    "$$\n",
    "\t\\mathcal{G}(\\rho) = \\sum_{i=2}^{n_v} \\left(\\frac{\\lambda_i}{\\lambda_1}\\right)^\\rho  \\langle t_1 |\\hat{\\sigma}_z|t_j\\rangle \\langle t_i |\\hat{\\sigma}_z|t_1\\rangle.\n",
    "$$"
   ]
  },
  {
   "cell_type": "code",
   "execution_count": 15,
   "metadata": {},
   "outputs": [
    {
     "name": "stdout",
     "output_type": "stream",
     "text": [
      "Populating the interactive namespace from numpy and matplotlib\n"
     ]
    }
   ],
   "source": [
    "%pylab inline\n",
    "\n",
    "import h5py\n",
    "import numpy as np\n",
    "from isingchat.io import read_ising_config\n",
    "from isingchat import ising\n",
    "from matplotlib import pyplot, rcParams\n",
    "from matplotlib.axes import Axes, GridSpec\n",
    "from matplotlib.figure import Figure\n",
    "from ruamel.yaml import YAML\n",
    "from scipy import interpolate as interp\n",
    "from scipy.optimize import curve_fit\n",
    "from scipy.signal import savgol_filter\n",
    "import pandas as pd\n",
    "import json\n",
    "\n",
    "import os\n",
    "import re\n"
   ]
  },
  {
   "cell_type": "code",
   "execution_count": 16,
   "metadata": {},
   "outputs": [],
   "source": [
    "from isingchat.ising import _csr_log_transfer_matrix_parts_fast\n",
    "from isingchat.ising import z_projection_gen\n",
    "from isingchat.ising import _csr_finite_log_transfer_matrix_parts_fast,csr_matrix,eigvals,_centrosym_log_transfer_matrix_parts_fast\n",
    "from scipy import linalg\n",
    "from scipy.sparse.linalg import eigs as sparse_eigs\n",
    "import scipy\n",
    "\n",
    "def correlation_function_TL(\n",
    "    r: int,\n",
    "    temp: float,\n",
    "    mag_field: float,\n",
    "    interactions: np.ndarray,\n",
    "    num_tm_eigvals: int = None\n",
    "):\n",
    "    num_neighbors = len(interactions)\n",
    "    nnz_elems, nnz_rows, nnz_cols = _csr_log_transfer_matrix_parts_fast(\n",
    "        temp, mag_field, interactions, num_neighbors\n",
    "    )\n",
    "\n",
    "    # Normalize nonzero matrix elements.\n",
    "    max_w_log_elem = np.max(nnz_elems)\n",
    "    nnz_elems -= max_w_log_elem\n",
    "    norm_nnz_elems = np.exp(nnz_elems)\n",
    "    # Construct the sparse matrix.\n",
    "    num_rows = 2 ** num_neighbors\n",
    "    w_shape = (num_rows, num_rows)\n",
    "    w_matrix = csr_matrix(\n",
    "        (norm_nnz_elems, (nnz_rows, nnz_cols)), shape=w_shape\n",
    "    )\n",
    "    # Evaluate the largest eigenvalue, since it defines the free energy in\n",
    "    # the thermodynamic limit.\n",
    "    # noinspection PyTypeChecker\n",
    "    if num_tm_eigvals is None:\n",
    "        num_eigvals = min(num_neighbors ** 2, num_rows - 2)\n",
    "    else:\n",
    "        num_eigvals = min(num_tm_eigvals, num_rows - 2)\n",
    "    # For three or two interactions we take all eigenvalues\n",
    "    if len(interactions) <= 3:\n",
    "        w_matrix_dense = w_matrix.todense()\n",
    "        # w_all_norm_eigvals, w_all_norm_eigvect = scipy.linalg.eig(w_matrix_dense)\n",
    "        # w_norm_eigvals = w_all_norm_eigvals[0]\n",
    "        w_norm_eigvals, w_norm_eigvect = scipy.linalg.eig(w_matrix_dense)\n",
    "    else:\n",
    "        w_norm_eigvals, w_norm_eigvect = sparse_eigs(\n",
    "            w_matrix, k=num_eigvals, which=\"LM\", return_eigenvectors=False\n",
    "        )\n",
    "    eigvals_norms: np.ndarray = np.abs(w_norm_eigvals)\n",
    "    max_eigval_norm_idx = eigvals_norms.argmax()\n",
    "    max_eigval_norm = eigvals_norms[max_eigval_norm_idx]\n",
    "    max_eigvect_norm = w_norm_eigvect[max_eigval_norm_idx]\n",
    "    reduced_eigvals = (w_norm_eigvals / max_eigval_norm)**r\n",
    "    sigma_z = z_projection_gen(num_neighbors-1)# matrix extension\n",
    "    corr_function = 0\n",
    "    for ind_eig in range(len(reduced_eigvals)):\n",
    "        if ind_eig == max_eigval_norm_idx:\n",
    "            pass\n",
    "        else:\n",
    "            corr_function += (reduced_eigvals[ind_eig])*(\n",
    "                np.abs(max_eigvect_norm.dot(sigma_z.dot(w_norm_eigvect[ind_eig])))**2\n",
    "            )\n",
    "        \n",
    "    return corr_function\n",
    "\n",
    "def correlation_lenght_TL(\n",
    "    r: int,\n",
    "    temp: float,\n",
    "    mag_field: float,\n",
    "    interactions: np.ndarray,\n",
    "    num_tm_eigvals: int = None\n",
    "):\n",
    "    return -(1/r)*math.log(correlation_function_TL(r,temp,mag_field,interactions,num_tm_eigvals))\n",
    "\n",
    "\n",
    "def correlation_lenght_limit(\n",
    "    temp: float,\n",
    "    mag_field: float,\n",
    "    interactions: np.ndarray\n",
    "):\n",
    "    num_neighbors = len(interactions)\n",
    "    nnz_elems, nnz_rows, nnz_cols = _csr_log_transfer_matrix_parts_fast(\n",
    "        temp, mag_field, interactions, num_neighbors\n",
    "    )\n",
    "\n",
    "    # Normalize nonzero matrix elements.\n",
    "    max_w_log_elem = np.max(nnz_elems)\n",
    "    nnz_elems -= max_w_log_elem\n",
    "    norm_nnz_elems = np.exp(nnz_elems)\n",
    "    # Construct the sparse matrix.\n",
    "    num_rows = 2 ** num_neighbors\n",
    "    w_shape = (num_rows, num_rows)\n",
    "    w_matrix = csr_matrix(\n",
    "        (norm_nnz_elems, (nnz_rows, nnz_cols)), shape=w_shape\n",
    "    )\n",
    "    # For three or two interactions we take all eigenvalues\n",
    "    if len(interactions) <= 2:\n",
    "        w_matrix_dense = w_matrix.todense()\n",
    "        # w_all_norm_eigvals, w_all_norm_eigvect = scipy.linalg.eig(w_matrix_dense)\n",
    "        # w_norm_eigvals = w_all_norm_eigvals[0]\n",
    "        w_norm_eigvals, w_norm_eigvect = scipy.linalg.eig(w_matrix_dense)        \n",
    "    else:\n",
    "        w_norm_eigvals, w_norm_eigvect = sparse_eigs(\n",
    "            w_matrix, k=2, which=\"LM\"\n",
    "        )\n",
    "        print(w_norm_eigvals)\n",
    "    eigvals_norms: np.ndarray = np.abs(w_norm_eigvals)\n",
    "    print('before sort eigvals: {}'.format(eigvals_norms))\n",
    "    eigvals_norms[::-1].sort()\n",
    "    print('after sort eigvals: {}'.format(eigvals_norms))\n",
    "#     max_eigval_norm_idx = eigvals_norms.argmax()\n",
    "#     max_eigval_norm = eigvals_norms[max_eigval_norm_idx]\n",
    "#     max_eigvect_norm = w_norm_eigvect[max_eigval_norm_idx]\n",
    "#     reduced_eigvals = (w_norm_eigvals / max_eigval_norm)\n",
    "        \n",
    "    return 1/math.log(eigvals_norms[0]/eigvals_norms[1])"
   ]
  },
  {
   "cell_type": "code",
   "execution_count": 17,
   "metadata": {},
   "outputs": [
    {
     "data": {
      "text/plain": [
       "(0.75,\n",
       " array([1.16894424+0.j, 0.89263487+0.j]),\n",
       " array([[ 0.68117564+0.j, -0.69628214+0.j],\n",
       "        [ 0.189736  +0.j,  0.1232525 +0.j],\n",
       "        [ 0.189736  +0.j, -0.1232525 +0.j],\n",
       "        [ 0.68117564+0.j,  0.69628214+0.j]]))"
      ]
     },
     "execution_count": 17,
     "metadata": {},
     "output_type": "execute_result"
    }
   ],
   "source": [
    "temp = 2\n",
    "mag_field = 0\n",
    "interactions = np.array([1.0, 0.5]) # p=1\n",
    "# interactions = np.array([1.0]) # p=1\n",
    "eigens_TM_TL(temp,mag_field,interactions)"
   ]
  },
  {
   "cell_type": "code",
   "execution_count": 31,
   "metadata": {},
   "outputs": [],
   "source": [
    "def eigens_TM_TL(\n",
    "    temp: float,\n",
    "    mag_field: float,\n",
    "    interactions: np.ndarray,\n",
    "    num_tm_eigvals: int = None\n",
    "):\n",
    "    \"\"\"\n",
    "        Return max_w_log_elem and eigenvectors of the transfer matrix of the infinite chain\n",
    "        In case of len(interactions) > 3, the default num eigenvalues returned is min(num_neighbors ** 2, num_rows - 2)\n",
    "    \"\"\"\n",
    "    num_neighbors = len(interactions)\n",
    "    nnz_elems, nnz_rows, nnz_cols = _csr_log_transfer_matrix_parts_fast(\n",
    "        temp, mag_field, interactions, num_neighbors\n",
    "    )\n",
    "\n",
    "    # Normalize nonzero matrix elements.\n",
    "    max_w_log_elem = np.max(nnz_elems)\n",
    "    nnz_elems -= max_w_log_elem\n",
    "    norm_nnz_elems = np.exp(nnz_elems)\n",
    "    # Construct the sparse matrix.\n",
    "    num_rows = 2 ** num_neighbors\n",
    "    w_shape = (num_rows, num_rows)\n",
    "    w_matrix = csr_matrix(\n",
    "        (norm_nnz_elems, (nnz_rows, nnz_cols)), shape=w_shape\n",
    "    )\n",
    "    # Check num_tm_eigvals in order to use eigs sparse routine or dense sparse routine\n",
    "    if num_tm_eigvals is None:\n",
    "        num_eigvals = min(num_neighbors ** 2, num_rows - 2) # Defaul num_eigvals\n",
    "    else:\n",
    "        num_eigvals = num_tm_eigvals\n",
    "    if num_eigvals > num_rows - 2:\n",
    "        w_matrix_dense = w_matrix.todense()\n",
    "        # w_all_norm_eigvals, w_all_norm_eigvect = scipy.linalg.eig(w_matrix_dense)\n",
    "        # w_norm_eigvals = w_all_norm_eigvals[0]\n",
    "        w_norm_eigvals, w_norm_eigvect = scipy.linalg.eig(w_matrix_dense)\n",
    "        if num_eigvals > num_rows:\n",
    "            print('Warning: The number of eigenvalues can not be greater than num of the rows. We calculate all eigevals')\n",
    "\n",
    "            return max_w_log_elem, w_norm_eigvals, w_norm_eigvect #return all eigvals\n",
    "        else:\n",
    "            return max_w_log_elem, w_norm_eigvals[:num_eigvals], w_norm_eigvect[:,:num_eigvals]\n",
    "    else:\n",
    "        w_norm_eigvals, w_norm_eigvect = sparse_eigs(\n",
    "            w_matrix, k=num_eigvals, which=\"LM\"\n",
    "        )\n",
    "        \n",
    "        return max_w_log_elem, w_norm_eigvals, w_norm_eigvect\n",
    "    \n",
    "    \n",
    "def correlation_function_TL(\n",
    "    r: int,\n",
    "    temp: float,\n",
    "    mag_field: float,\n",
    "    interactions: np.ndarray,\n",
    "    num_tm_eigvals: int = None\n",
    "):\n",
    "    num_neighbors = len(interactions)\n",
    "    if num_tm_eigvals is None:\n",
    "        num_tm_eigvals = 2**num_neighbors # all eigenvalues\n",
    "        \n",
    "    _, w_norm_eigvals, w_norm_eigvects = eigens_TM_TL(temp,mag_field,interactions,num_tm_eigvals)\n",
    "    eigvals_norms: np.ndarray = np.abs(w_norm_eigvals)\n",
    "    max_eigval_norm_idx = eigvals_norms.argmax()\n",
    "    max_eigval_norm = eigvals_norms[max_eigval_norm_idx]\n",
    "#     print('max_eigval_norm_idx : {}'.format(max_eigval_norm_idx))\n",
    "    max_eigvect_norm = w_norm_eigvects[:,max_eigval_norm_idx]\n",
    "    reduced_eigvals = (w_norm_eigvals / max_eigval_norm)**r\n",
    "    sigma_z = z_projection_gen(num_neighbors-1)# matrix extension\n",
    "    corr_function = 0\n",
    "#     print('eigenvals: {}'.format(w_norm_eigvals))\n",
    "#     print('eigenvects: {}'.format(w_norm_eigvects))\n",
    "#     print('eigenvect: {}'.format(w_norm_eigvects[:,1]))\n",
    "#     print('eigenvects: {}'.format(w_norm_eigvects))\n",
    "#     print('max_eigenvect: {}'.format(max_eigvect_norm))\n",
    "#     print('product: {}'.format(sigma_z.dot(w_norm_eigvects[:,1])))\n",
    "    for ind_eig in range(len(reduced_eigvals)):\n",
    "        if ind_eig == max_eigval_norm_idx:\n",
    "            pass\n",
    "        else:\n",
    "            corr_function += (reduced_eigvals[ind_eig])*(\n",
    "                np.abs(max_eigvect_norm.dot(sigma_z.dot(w_norm_eigvects[:,ind_eig])))**2\n",
    "            )\n",
    "        \n",
    "    return corr_function\n",
    "    \n",
    "def correlation_lenght_limit(\n",
    "    temp: float,\n",
    "    mag_field: float,\n",
    "    interactions: np.ndarray\n",
    "):\n",
    "    _, w_norm_eigvals, _ = eigens_TM_TL(temp,mag_field,interactions,2)\n",
    "    eigvals_norms: np.ndarray = np.abs(w_norm_eigvals)\n",
    "    eigvals_norms[::-1].sort()\n",
    "        \n",
    "    return 1/abs(math.log(eigvals_norms[0]/eigvals_norms[1]))"
   ]
  },
  {
   "cell_type": "code",
   "execution_count": 19,
   "metadata": {},
   "outputs": [
    {
     "data": {
      "text/plain": [
       "(0.6141309374829983+0j)"
      ]
     },
     "execution_count": 19,
     "metadata": {},
     "output_type": "execute_result"
    }
   ],
   "source": [
    "r = 1\n",
    "temp = 2\n",
    "mag_field = 0\n",
    "interactions = np.array([1.0, 0.5]) # p=1\n",
    "# interactions = np.array([1.0]) # p=1\n",
    "# max_w_log_elem, w_norm_eigvals, w_norm_eigvect = eigens_TM_TL(temp,mag_field,interactions)\n",
    "# correlation_lenght_limit(temp,mag_field,interactions)\n",
    "correlation_function_TL(r,temp,mag_field,interactions)"
   ]
  },
  {
   "cell_type": "code",
   "execution_count": 20,
   "metadata": {},
   "outputs": [
    {
     "data": {
      "text/plain": [
       "(0.75,\n",
       " array([1.16894424+0.j, 0.89263487+0.j]),\n",
       " array([[ 0.68117564+0.j,  0.69628214+0.j],\n",
       "        [ 0.189736  +0.j, -0.1232525 +0.j],\n",
       "        [ 0.189736  +0.j,  0.1232525 +0.j],\n",
       "        [ 0.68117564+0.j, -0.69628214+0.j]]))"
      ]
     },
     "execution_count": 20,
     "metadata": {},
     "output_type": "execute_result"
    }
   ],
   "source": [
    "eigens_TM_TL(temp,mag_field,interactions,2)"
   ]
  },
  {
   "cell_type": "markdown",
   "metadata": {},
   "source": [
    "### Ploting correlation function"
   ]
  },
  {
   "cell_type": "code",
   "execution_count": 21,
   "metadata": {},
   "outputs": [
    {
     "data": {
      "text/plain": [
       "array([1.        , 0.5       , 0.33333333])"
      ]
     },
     "execution_count": 21,
     "metadata": {},
     "output_type": "execute_result"
    }
   ],
   "source": [
    "p=1\n",
    "nv=3\n",
    "1/np.arange(1,nv+1,1)**p"
   ]
  },
  {
   "cell_type": "code",
   "execution_count": 22,
   "metadata": {},
   "outputs": [
    {
     "name": "stderr",
     "output_type": "stream",
     "text": [
      "C:\\Users\\MHJGuillermo\\PycharmProjects\\Doctorado\\Ising\\isingchat\\lib\\site-packages\\matplotlib\\cbook\\__init__.py:1289: ComplexWarning: Casting complex values to real discards the imaginary part\n",
      "  return np.asarray(x, float)\n"
     ]
    },
    {
     "data": {
      "text/plain": [
       "Text(0, 0.5, '$G(\\\\rho)$')"
      ]
     },
     "execution_count": 22,
     "metadata": {},
     "output_type": "execute_result"
    },
    {
     "data": {
      "image/png": "[encoded data removed]",
      "text/plain": [
       "<Figure size 600x1350 with 1 Axes>"
      ]
     },
     "metadata": {
      "needs_background": "light"
     },
     "output_type": "display_data"
    }
   ],
   "source": [
    "temp = 15 #k_BT/J\n",
    "mag_field = 0\n",
    "p=1.1\n",
    "nv = 5\n",
    "interactions = 1/np.arange(1,nv+1,1)**p\n",
    "# interactions = np.array([1.0,0.5,0.33,0.25,0.2]) # p=1 \n",
    "# interactions = np.array([1.0]) # p=1\n",
    "\n",
    "# plots\n",
    "fig1: Figure = pyplot.figure(figsize=(4, 9), dpi=150)\n",
    "# fig1: Figure = pyplot.figure(figsize=(12*(4/9), 12), dpi=150)\n",
    "# fig1: Figure = pyplot.figure(figsize=(4, 4*(2/3)), dpi=150)\n",
    "    \n",
    "grid_spec = GridSpec(3, 1)\n",
    "\n",
    "# Specific heat subplot.\n",
    "ax: Axes = fig1.add_subplot(grid_spec[0, 0])\n",
    "    \n",
    "x_data = np.arange(0,20,1)\n",
    "# y_data = [corr_lenght_ising_original_limit_zero_h(x) for x in x_data]\n",
    "          \n",
    "# ax.plot(x_data, y_data, marker=\"o\", lw=0,color='C0',label='adjust without nv=1')\n",
    "# # ax.semilogy(x_data, y_data, marker=\"o\", lw=0,color='C0',label='adjust without nv=1')\n",
    "\n",
    "y_data = [correlation_function_TL(\n",
    "    r,\n",
    "    temp,\n",
    "    mag_field,\n",
    "    interactions\n",
    ") for r in x_data]\n",
    "\n",
    "ax.plot(x_data, y_data, marker=\"o\", lw=0,color='C1',label='adjust without nv=1')\n",
    "\n",
    "# labels configurations\n",
    "ax.xaxis.label.set_size(18)\n",
    "ax.set_xlabel(r\"$\\rho$\")\n",
    "\n",
    "ax.yaxis.label.set_size(18)\n",
    "ax.set_ylabel(r\"$G(\\rho)$\")\n",
    "\n",
    "# ax.set_ylim(0.9,1.2)\n",
    "# ax.set_xlim(0, 0.5)"
   ]
  },
  {
   "cell_type": "markdown",
   "metadata": {},
   "source": [
    "### ploting correlation_lenght_limit as function of temp"
   ]
  },
  {
   "cell_type": "code",
   "execution_count": 45,
   "metadata": {},
   "outputs": [
    {
     "data": {
      "text/plain": [
       "Text(0, 0.5, '$\\\\xi(T)$')"
      ]
     },
     "execution_count": 45,
     "metadata": {},
     "output_type": "execute_result"
    },
    {
     "data": {
      "image/png": "[encoded data removed]",
      "text/plain": [
       "<Figure size 600x1350 with 1 Axes>"
      ]
     },
     "metadata": {
      "needs_background": "light"
     },
     "output_type": "display_data"
    }
   ],
   "source": [
    "# temp = 2\n",
    "mag_field = 0\n",
    "p=1.5\n",
    "nv = 3\n",
    "interactions = 1/np.arange(1,nv+1,1)**p\n",
    "# interactions = np.array([1.0, 0.5,0.33]) # p=1\n",
    "# interactions = np.array([1.0]) # p=1\n",
    "\n",
    "# plots\n",
    "fig1: Figure = pyplot.figure(figsize=(4, 9), dpi=150)\n",
    "# fig1: Figure = pyplot.figure(figsize=(12*(4/9), 12), dpi=150)\n",
    "# fig1: Figure = pyplot.figure(figsize=(4, 4*(2/3)), dpi=150)\n",
    "    \n",
    "grid_spec = GridSpec(3, 1)\n",
    "\n",
    "# Specific heat subplot.\n",
    "ax: Axes = fig1.add_subplot(grid_spec[0, 0])\n",
    "    \n",
    "x_data = np.arange(0.1,2,0.05)\n",
    "# y_data = [corr_lenght_ising_original_limit_zero_h(x) for x in x_data]\n",
    "          \n",
    "# ax.plot(x_data, y_data, marker=\"o\", lw=0,color='C0',label='adjust without nv=1')\n",
    "# # ax.semilogy(x_data, y_data, marker=\"o\", lw=0,color='C0',label='adjust without nv=1')\n",
    "\n",
    "y_data = [correlation_lenght_limit(\n",
    "    1/temp,\n",
    "    mag_field,\n",
    "    interactions\n",
    ") for temp in x_data]\n",
    "\n",
    "ax.plot(x_data, y_data, marker=\"o\",markersize=5,mfc='none', lw=0,color='C1',label='adjust without nv=1')\n",
    "\n",
    "x_data = np.arange(0.1,2,0.1)\n",
    "y_data = [corr_lenght_ising_original_limit_zero_h(\n",
    "    1/temp\n",
    ") for temp in x_data]\n",
    "\n",
    "ax.plot(x_data, y_data, marker=\"x\",markersize=5, lw=0,color='C0',label='adjust without nv=1')\n",
    "\n",
    "# labels configurations\n",
    "ax.xaxis.label.set_size(18)\n",
    "ax.set_xlabel(r\"$k_BT/J$\")\n",
    "# ax.set_xlabel(r\"$\\beta J$\")\n",
    "\n",
    "ax.yaxis.label.set_size(18)\n",
    "ax.set_ylabel(r\"$\\xi(T)$\")"
   ]
  },
  {
   "cell_type": "markdown",
   "metadata": {},
   "source": [
    "### compare with analitic ising original model"
   ]
  },
  {
   "cell_type": "code",
   "execution_count": 33,
   "metadata": {},
   "outputs": [],
   "source": [
    "def corr_lenght_ising_original_limit(\n",
    "    T: float,\n",
    "    h: float\n",
    "):\n",
    "    return 1/(\n",
    "        math.log(\n",
    "        (math.cosh(h/T)+math.sqrt(math.sinh(h/T)**2 +math.exp(-4/T)))\n",
    "        /(math.cosh(h/T)-math.sqrt(math.sinh(h/T)**2 +math.exp(-4/T)))\n",
    "    ))\n",
    "def corr_lenght_ising_original_limit_zero_h(\n",
    "    T: float\n",
    "):\n",
    "    return -1/(math.log(math.tanh(1/T)))"
   ]
  },
  {
   "cell_type": "code",
   "execution_count": 34,
   "metadata": {},
   "outputs": [
    {
     "ename": "ZeroDivisionError",
     "evalue": "float division by zero",
     "output_type": "error",
     "traceback": [
      "\u001b[1;31m---------------------------------------------------------------------------\u001b[0m",
      "\u001b[1;31mZeroDivisionError\u001b[0m                         Traceback (most recent call last)",
      "\u001b[1;32m<ipython-input-34-7022f4eab3a1>\u001b[0m in \u001b[0;36m<module>\u001b[1;34m\u001b[0m\n\u001b[0;32m     15\u001b[0m \u001b[1;33m\u001b[0m\u001b[0m\n\u001b[0;32m     16\u001b[0m \u001b[0mx_data\u001b[0m \u001b[1;33m=\u001b[0m \u001b[0mnp\u001b[0m\u001b[1;33m.\u001b[0m\u001b[0marange\u001b[0m\u001b[1;33m(\u001b[0m\u001b[1;36m0.001\u001b[0m\u001b[1;33m,\u001b[0m\u001b[1;36m2\u001b[0m\u001b[1;33m,\u001b[0m\u001b[1;36m0.001\u001b[0m\u001b[1;33m)\u001b[0m\u001b[1;33m\u001b[0m\u001b[1;33m\u001b[0m\u001b[0m\n\u001b[1;32m---> 17\u001b[1;33m \u001b[0my_data\u001b[0m \u001b[1;33m=\u001b[0m \u001b[1;33m[\u001b[0m\u001b[0mcorr_lenght_ising_original_limit_zero_h\u001b[0m\u001b[1;33m(\u001b[0m\u001b[0mx\u001b[0m\u001b[1;33m)\u001b[0m \u001b[1;32mfor\u001b[0m \u001b[0mx\u001b[0m \u001b[1;32min\u001b[0m \u001b[0mx_data\u001b[0m\u001b[1;33m]\u001b[0m\u001b[1;33m\u001b[0m\u001b[1;33m\u001b[0m\u001b[0m\n\u001b[0m\u001b[0;32m     18\u001b[0m \u001b[1;33m\u001b[0m\u001b[0m\n\u001b[0;32m     19\u001b[0m \u001b[0max\u001b[0m\u001b[1;33m.\u001b[0m\u001b[0mplot\u001b[0m\u001b[1;33m(\u001b[0m\u001b[0mx_data\u001b[0m\u001b[1;33m,\u001b[0m \u001b[0my_data\u001b[0m\u001b[1;33m,\u001b[0m \u001b[0mmarker\u001b[0m\u001b[1;33m=\u001b[0m\u001b[1;34m\"o\"\u001b[0m\u001b[1;33m,\u001b[0m \u001b[0mlw\u001b[0m\u001b[1;33m=\u001b[0m\u001b[1;36m0\u001b[0m\u001b[1;33m,\u001b[0m\u001b[0mcolor\u001b[0m\u001b[1;33m=\u001b[0m\u001b[1;34m'C0'\u001b[0m\u001b[1;33m,\u001b[0m\u001b[0mlabel\u001b[0m\u001b[1;33m=\u001b[0m\u001b[1;34m'adjust without nv=1'\u001b[0m\u001b[1;33m)\u001b[0m\u001b[1;33m\u001b[0m\u001b[1;33m\u001b[0m\u001b[0m\n",
      "\u001b[1;32m<ipython-input-34-7022f4eab3a1>\u001b[0m in \u001b[0;36m<listcomp>\u001b[1;34m(.0)\u001b[0m\n\u001b[0;32m     15\u001b[0m \u001b[1;33m\u001b[0m\u001b[0m\n\u001b[0;32m     16\u001b[0m \u001b[0mx_data\u001b[0m \u001b[1;33m=\u001b[0m \u001b[0mnp\u001b[0m\u001b[1;33m.\u001b[0m\u001b[0marange\u001b[0m\u001b[1;33m(\u001b[0m\u001b[1;36m0.001\u001b[0m\u001b[1;33m,\u001b[0m\u001b[1;36m2\u001b[0m\u001b[1;33m,\u001b[0m\u001b[1;36m0.001\u001b[0m\u001b[1;33m)\u001b[0m\u001b[1;33m\u001b[0m\u001b[1;33m\u001b[0m\u001b[0m\n\u001b[1;32m---> 17\u001b[1;33m \u001b[0my_data\u001b[0m \u001b[1;33m=\u001b[0m \u001b[1;33m[\u001b[0m\u001b[0mcorr_lenght_ising_original_limit_zero_h\u001b[0m\u001b[1;33m(\u001b[0m\u001b[0mx\u001b[0m\u001b[1;33m)\u001b[0m \u001b[1;32mfor\u001b[0m \u001b[0mx\u001b[0m \u001b[1;32min\u001b[0m \u001b[0mx_data\u001b[0m\u001b[1;33m]\u001b[0m\u001b[1;33m\u001b[0m\u001b[1;33m\u001b[0m\u001b[0m\n\u001b[0m\u001b[0;32m     18\u001b[0m \u001b[1;33m\u001b[0m\u001b[0m\n\u001b[0;32m     19\u001b[0m \u001b[0max\u001b[0m\u001b[1;33m.\u001b[0m\u001b[0mplot\u001b[0m\u001b[1;33m(\u001b[0m\u001b[0mx_data\u001b[0m\u001b[1;33m,\u001b[0m \u001b[0my_data\u001b[0m\u001b[1;33m,\u001b[0m \u001b[0mmarker\u001b[0m\u001b[1;33m=\u001b[0m\u001b[1;34m\"o\"\u001b[0m\u001b[1;33m,\u001b[0m \u001b[0mlw\u001b[0m\u001b[1;33m=\u001b[0m\u001b[1;36m0\u001b[0m\u001b[1;33m,\u001b[0m\u001b[0mcolor\u001b[0m\u001b[1;33m=\u001b[0m\u001b[1;34m'C0'\u001b[0m\u001b[1;33m,\u001b[0m\u001b[0mlabel\u001b[0m\u001b[1;33m=\u001b[0m\u001b[1;34m'adjust without nv=1'\u001b[0m\u001b[1;33m)\u001b[0m\u001b[1;33m\u001b[0m\u001b[1;33m\u001b[0m\u001b[0m\n",
      "\u001b[1;32m<ipython-input-33-5bb0b0e02d5a>\u001b[0m in \u001b[0;36mcorr_lenght_ising_original_limit_zero_h\u001b[1;34m(T)\u001b[0m\n\u001b[0;32m     11\u001b[0m     \u001b[0mT\u001b[0m\u001b[1;33m:\u001b[0m \u001b[0mfloat\u001b[0m\u001b[1;33m\u001b[0m\u001b[1;33m\u001b[0m\u001b[0m\n\u001b[0;32m     12\u001b[0m ):\n\u001b[1;32m---> 13\u001b[1;33m     \u001b[1;32mreturn\u001b[0m \u001b[1;33m-\u001b[0m\u001b[1;36m1\u001b[0m\u001b[1;33m/\u001b[0m\u001b[1;33m(\u001b[0m\u001b[0mmath\u001b[0m\u001b[1;33m.\u001b[0m\u001b[0mlog\u001b[0m\u001b[1;33m(\u001b[0m\u001b[0mmath\u001b[0m\u001b[1;33m.\u001b[0m\u001b[0mtanh\u001b[0m\u001b[1;33m(\u001b[0m\u001b[1;36m1\u001b[0m\u001b[1;33m/\u001b[0m\u001b[0mT\u001b[0m\u001b[1;33m)\u001b[0m\u001b[1;33m)\u001b[0m\u001b[1;33m)\u001b[0m\u001b[1;33m\u001b[0m\u001b[1;33m\u001b[0m\u001b[0m\n\u001b[0m",
      "\u001b[1;31mZeroDivisionError\u001b[0m: float division by zero"
     ]
    },
    {
     "data": {
      "image/png": "[encoded data removed]",
      "text/plain": [
       "<Figure size 600x1350 with 1 Axes>"
      ]
     },
     "metadata": {
      "needs_background": "light"
     },
     "output_type": "display_data"
    }
   ],
   "source": [
    "# temp = 2\n",
    "mag_field = 0\n",
    "# interactions = np.array([1.0, 0.5]) # p=1\n",
    "interactions = np.array([1.0]) # p=1\n",
    "\n",
    "# plots\n",
    "fig1: Figure = pyplot.figure(figsize=(4, 9), dpi=150)\n",
    "# fig1: Figure = pyplot.figure(figsize=(12*(4/9), 12), dpi=150)\n",
    "# fig1: Figure = pyplot.figure(figsize=(4, 4*(2/3)), dpi=150)\n",
    "    \n",
    "grid_spec = GridSpec(3, 1)\n",
    "\n",
    "# Specific heat subplot.\n",
    "ax: Axes = fig1.add_subplot(grid_spec[0, 0])\n",
    "    \n",
    "x_data = np.arange(0.001,2,0.001)\n",
    "y_data = [corr_lenght_ising_original_limit_zero_h(x) for x in x_data]\n",
    "          \n",
    "ax.plot(x_data, y_data, marker=\"o\", lw=0,color='C0',label='adjust without nv=1')\n",
    "# ax.semilogy(x_data, y_data, marker=\"o\", lw=0,color='C0',label='adjust without nv=1')\n",
    "\n",
    "y_data = [correlation_lenght_limit(\n",
    "    1/temp,\n",
    "    mag_field,\n",
    "    interactions\n",
    ") for temp in x_data]\n",
    "\n",
    "ax.plot(x_data, y_data, marker=\"x\", lw=0,color='C1',label='adjust without nv=1')\n",
    "\n",
    "\n",
    "# labels configurations\n",
    "ax.xaxis.label.set_size(18)\n",
    "ax.set_xlabel(r\"$\\beta J$\")\n",
    "\n",
    "ax.yaxis.label.set_size(18)\n",
    "ax.set_ylabel(r\"$\\xi(T)$\")"
   ]
  },
  {
   "cell_type": "code",
   "execution_count": 35,
   "metadata": {},
   "outputs": [
    {
     "ename": "NameError",
     "evalue": "name 'num_tm_eigvals' is not defined",
     "output_type": "error",
     "traceback": [
      "\u001b[1;31m---------------------------------------------------------------------------\u001b[0m",
      "\u001b[1;31mNameError\u001b[0m                                 Traceback (most recent call last)",
      "\u001b[1;32m<ipython-input-35-c75ba48091b5>\u001b[0m in \u001b[0;36m<module>\u001b[1;34m\u001b[0m\n\u001b[0;32m     22\u001b[0m \u001b[1;31m# the thermodynamic limit.\u001b[0m\u001b[1;33m\u001b[0m\u001b[1;33m\u001b[0m\u001b[1;33m\u001b[0m\u001b[0m\n\u001b[0;32m     23\u001b[0m \u001b[1;31m# noinspection PyTypeChecker\u001b[0m\u001b[1;33m\u001b[0m\u001b[1;33m\u001b[0m\u001b[1;33m\u001b[0m\u001b[0m\n\u001b[1;32m---> 24\u001b[1;33m \u001b[1;32mif\u001b[0m \u001b[0mnum_tm_eigvals\u001b[0m \u001b[1;32mis\u001b[0m \u001b[1;32mNone\u001b[0m\u001b[1;33m:\u001b[0m\u001b[1;33m\u001b[0m\u001b[1;33m\u001b[0m\u001b[0m\n\u001b[0m\u001b[0;32m     25\u001b[0m     \u001b[0mnum_eigvals\u001b[0m \u001b[1;33m=\u001b[0m \u001b[0mmin\u001b[0m\u001b[1;33m(\u001b[0m\u001b[0mnum_neighbors\u001b[0m \u001b[1;33m**\u001b[0m \u001b[1;36m2\u001b[0m\u001b[1;33m,\u001b[0m \u001b[0mnum_rows\u001b[0m \u001b[1;33m-\u001b[0m \u001b[1;36m2\u001b[0m\u001b[1;33m)\u001b[0m\u001b[1;33m\u001b[0m\u001b[1;33m\u001b[0m\u001b[0m\n\u001b[0;32m     26\u001b[0m \u001b[1;32melse\u001b[0m\u001b[1;33m:\u001b[0m\u001b[1;33m\u001b[0m\u001b[1;33m\u001b[0m\u001b[0m\n",
      "\u001b[1;31mNameError\u001b[0m: name 'num_tm_eigvals' is not defined"
     ]
    }
   ],
   "source": [
    "temp = 1\n",
    "mag_field = 0\n",
    "# interactions = np.array([1.0,0.5,0.3333]) # p=1\n",
    "interactions = np.array([1.0]) # p=1\n",
    "num_neighbors = len(interactions)\n",
    "num_neighbors = len(interactions)\n",
    "nnz_elems, nnz_rows, nnz_cols = _csr_log_transfer_matrix_parts_fast(\n",
    "    temp, mag_field, interactions, num_neighbors\n",
    ")\n",
    "\n",
    "# Normalize nonzero matrix elements.\n",
    "max_w_log_elem = np.max(nnz_elems)\n",
    "nnz_elems -= max_w_log_elem\n",
    "norm_nnz_elems = np.exp(nnz_elems)\n",
    "# Construct the sparse matrix.\n",
    "num_rows = 2 ** num_neighbors\n",
    "w_shape = (num_rows, num_rows)\n",
    "w_matrix = csr_matrix(\n",
    "    (norm_nnz_elems, (nnz_rows, nnz_cols)), shape=w_shape\n",
    ")\n",
    "# Evaluate the largest eigenvalue, since it defines the free energy in\n",
    "# the thermodynamic limit.\n",
    "# noinspection PyTypeChecker\n",
    "if num_tm_eigvals is None:\n",
    "    num_eigvals = min(num_neighbors ** 2, num_rows - 2)\n",
    "else:\n",
    "    num_eigvals = min(num_tm_eigvals, num_rows - 2)\n",
    "# For three or two interactions we take all eigenvalues\n",
    "if len(interactions) <= 3:\n",
    "    w_matrix_dense = w_matrix.todense()\n",
    "    # w_all_norm_eigvals, w_all_norm_eigvect = scipy.linalg.eig(w_matrix_dense)\n",
    "    # w_norm_eigvals = w_all_norm_eigvals[0]\n",
    "    w_norm_eigvals, w_norm_eigvect = scipy.linalg.eig(w_matrix_dense)\n",
    "else:\n",
    "    w_norm_eigvals, w_norm_eigvect = sparse_eigs(\n",
    "        w_matrix, k=num_eigvals, which=\"LM\", return_eigenvectors=False\n",
    "    )\n",
    "print(\"eigvals: {}\".format(w_norm_eigvals))\n",
    "eigvals_norms: np.ndarray = np.abs(w_norm_eigvals)\n",
    "eigvals_norms[::-1].sort()\n",
    "#     max_eigval_norm_idx = eigvals_norms.argmax()\n",
    "#     max_eigval_norm = eigvals_norms[max_eigval_norm_idx]\n",
    "#     max_eigvect_norm = w_norm_eigvect[max_eigval_norm_idx]\n",
    "#     reduced_eigvals = (w_norm_eigvals / max_eigval_norm)**r\n",
    "print(eigvals_norms)\n",
    "# print(\"Correlation lenght with matrix calculous: {}\".format(math.log(eigvals_norms[0]/eigvals_norms[1])))\n",
    "print(\"Correlation lenght with matrix calculous: {}\".format(correlation_lenght_limit(temp,mag_field,interactions)))\n",
    "print(\"Correlation lenght ising formula: {}\".format(corr_lenght_ising_original_limit(T=temp,h=mag_field)))\n",
    "print(\"Correlation lenght ising formula 2: {}\".format(math.log(1/math.tanh(1/temp))))"
   ]
  },
  {
   "cell_type": "code",
   "execution_count": 74,
   "metadata": {},
   "outputs": [
    {
     "name": "stdout",
     "output_type": "stream",
     "text": [
      "Help on built-in function sort:\n",
      "\n",
      "sort(...) method of numpy.ndarray instance\n",
      "    a.sort(axis=-1, kind=None, order=None)\n",
      "    \n",
      "    Sort an array in-place. Refer to `numpy.sort` for full documentation.\n",
      "    \n",
      "    Parameters\n",
      "    ----------\n",
      "    axis : int, optional\n",
      "        Axis along which to sort. Default is -1, which means sort along the\n",
      "        last axis.\n",
      "    kind : {'quicksort', 'mergesort', 'heapsort', 'stable'}, optional\n",
      "        Sorting algorithm. The default is 'quicksort'. Note that both 'stable'\n",
      "        and 'mergesort' use timsort under the covers and, in general, the\n",
      "        actual implementation will vary with datatype. The 'mergesort' option\n",
      "        is retained for backwards compatibility.\n",
      "    \n",
      "        .. versionchanged:: 1.15.0\n",
      "           The 'stable' option was added.\n",
      "    \n",
      "    order : str or list of str, optional\n",
      "        When `a` is an array with fields defined, this argument specifies\n",
      "        which fields to compare first, second, etc.  A single field can\n",
      "        be specified as a string, and not all fields need be specified,\n",
      "        but unspecified fields will still be used, in the order in which\n",
      "        they come up in the dtype, to break ties.\n",
      "    \n",
      "    See Also\n",
      "    --------\n",
      "    numpy.sort : Return a sorted copy of an array.\n",
      "    numpy.argsort : Indirect sort.\n",
      "    numpy.lexsort : Indirect stable sort on multiple keys.\n",
      "    numpy.searchsorted : Find elements in sorted array.\n",
      "    numpy.partition: Partial sort.\n",
      "    \n",
      "    Notes\n",
      "    -----\n",
      "    See `numpy.sort` for notes on the different sorting algorithms.\n",
      "    \n",
      "    Examples\n",
      "    --------\n",
      "    >>> a = np.array([[1,4], [3,1]])\n",
      "    >>> a.sort(axis=1)\n",
      "    >>> a\n",
      "    array([[1, 4],\n",
      "           [1, 3]])\n",
      "    >>> a.sort(axis=0)\n",
      "    >>> a\n",
      "    array([[1, 3],\n",
      "           [1, 4]])\n",
      "    \n",
      "    Use the `order` keyword to specify a field to use when sorting a\n",
      "    structured array:\n",
      "    \n",
      "    >>> a = np.array([('a', 2), ('c', 1)], dtype=[('x', 'S1'), ('y', int)])\n",
      "    >>> a.sort(order='y')\n",
      "    >>> a\n",
      "    array([(b'c', 1), (b'a', 2)],\n",
      "          dtype=[('x', 'S1'), ('y', '<i8')])\n",
      "\n"
     ]
    }
   ],
   "source": [
    "# arr = np.array([1,4,3,5])\n",
    "# arr.sort()\n",
    "# print(arr)\n",
    "help(arr.sort)"
   ]
  },
  {
   "cell_type": "code",
   "execution_count": 55,
   "metadata": {},
   "outputs": [
    {
     "name": "stdout",
     "output_type": "stream",
     "text": [
      "eigenval: [ 1.16894424+0.j  0.89263487+0.j -0.26051431+0.j  0.1989352 +0.j]\n",
      "reduced eigenval: [1.         0.76362485 0.22286291 0.17018365]\n",
      "reduced eigenval: [1. 0. 0. 0.]\n"
     ]
    },
    {
     "data": {
      "text/plain": [
       "0.0"
      ]
     },
     "execution_count": 55,
     "metadata": {},
     "output_type": "execute_result"
    }
   ],
   "source": [
    "temp = 2\n",
    "mag_field = 0\n",
    "# interactions = np.array([1.0,0.5,0.3333]) # p=1\n",
    "interactions = np.array([1.0,0.5]) # p=1\n",
    "num_neighbors = len(interactions)\n",
    "r=10000\n",
    "num_tm_eigvals = None\n",
    "\n",
    "num_neighbors = len(interactions)\n",
    "nnz_elems, nnz_rows, nnz_cols = _csr_log_transfer_matrix_parts_fast(\n",
    "    temp, mag_field, interactions, num_neighbors\n",
    ")\n",
    "\n",
    "# Normalize nonzero matrix elements.\n",
    "max_w_log_elem = np.max(nnz_elems)\n",
    "nnz_elems -= max_w_log_elem\n",
    "norm_nnz_elems = np.exp(nnz_elems)\n",
    "# Construct the sparse matrix.\n",
    "num_rows = 2 ** num_neighbors\n",
    "w_shape = (num_rows, num_rows)\n",
    "w_matrix = csr_matrix(\n",
    "    (norm_nnz_elems, (nnz_rows, nnz_cols)), shape=w_shape\n",
    ")\n",
    "# Evaluate the largest eigenvalue, since it defines the free energy in\n",
    "# the thermodynamic limit.\n",
    "# noinspection PyTypeChecker\n",
    "if num_tm_eigvals is None:\n",
    "    num_eigvals = min(num_neighbors ** 2, num_rows - 2)\n",
    "else:\n",
    "    num_eigvals = min(num_tm_eigvals, num_rows - 2)\n",
    "# For three or two interactions we take all eigenvalues\n",
    "if len(interactions) <= 3:\n",
    "    w_matrix_dense = w_matrix.todense()\n",
    "    # w_all_norm_eigvals, w_all_norm_eigvect = scipy.linalg.eig(w_matrix_dense)\n",
    "    # w_norm_eigvals = w_all_norm_eigvals[0]\n",
    "    w_norm_eigvals, w_norm_eigvect = scipy.linalg.eig(w_matrix_dense)\n",
    "else:\n",
    "    w_norm_eigvals, w_norm_eigvect = sparse_eigs(\n",
    "        w_matrix, k=num_eigvals, which=\"LM\", return_eigenvectors=False\n",
    "    )\n",
    "eigvals_norms: np.ndarray = np.abs(w_norm_eigvals)\n",
    "print('eigenval: {}'.format(w_norm_eigvals))\n",
    "max_eigval_norm_idx = eigvals_norms.argmax()\n",
    "max_eigval_norm = eigvals_norms[max_eigval_norm_idx]\n",
    "max_eigvect_norm = w_norm_eigvect[max_eigval_norm_idx]\n",
    "reduced_eigvals = (eigvals_norms / max_eigval_norm)\n",
    "print('reduced eigenval: {}'.format(reduced_eigvals))\n",
    "reduced_eigvals = (eigvals_norms / max_eigval_norm)**r\n",
    "print('reduced eigenval: {}'.format(reduced_eigvals))\n",
    "sigma_z = z_projection_gen(num_neighbors-1)# matrix extension\n",
    "corr_function = 0\n",
    "for ind_eig in range(len(reduced_eigvals)):\n",
    "    if ind_eig == max_eigval_norm_idx:\n",
    "        pass\n",
    "    else:\n",
    "        corr_function += (reduced_eigvals[ind_eig])*(\n",
    "            np.abs(max_eigvect_norm.dot(sigma_z.dot(w_norm_eigvect[ind_eig])))**2\n",
    "        )\n",
    "corr_function"
   ]
  },
  {
   "cell_type": "code",
   "execution_count": 53,
   "metadata": {},
   "outputs": [
    {
     "data": {
      "text/plain": [
       "7.128042888195157e-30"
      ]
     },
     "execution_count": 53,
     "metadata": {},
     "output_type": "execute_result"
    }
   ],
   "source": [
    "0.99932909**100000"
   ]
  },
  {
   "cell_type": "code",
   "execution_count": 9,
   "metadata": {},
   "outputs": [
    {
     "name": "stdout",
     "output_type": "stream",
     "text": [
      "1.0\n"
     ]
    },
    {
     "data": {
      "text/plain": [
       "1.0"
      ]
     },
     "execution_count": 9,
     "metadata": {},
     "output_type": "execute_result"
    }
   ],
   "source": [
    "print(np.abs(w_norm_eigvect[1].dot(sigma_z.dot(max_eigvect_norm)))**2)\n",
    "np.abs(max_eigvect_norm.dot(sigma_z.dot(w_norm_eigvect[1])))**2"
   ]
  },
  {
   "cell_type": "code",
   "execution_count": 39,
   "metadata": {},
   "outputs": [
    {
     "name": "stderr",
     "output_type": "stream",
     "text": [
      "C:\\Users\\MHJGuillermo\\PycharmProjects\\Doctorado\\Ising\\isingchat\\lib\\site-packages\\matplotlib\\cbook\\__init__.py:1289: ComplexWarning: Casting complex values to real discards the imaginary part\n",
      "  return np.asarray(x, float)\n"
     ]
    },
    {
     "data": {
      "text/plain": [
       "Text(0, 0.5, '$\\\\mathcal{G}(\\\\rho)$')"
      ]
     },
     "execution_count": 39,
     "metadata": {},
     "output_type": "execute_result"
    },
    {
     "data": {
      "image/png": "[encoded data removed]",
      "text/plain": [
       "<Figure size 600x1350 with 1 Axes>"
      ]
     },
     "metadata": {
      "needs_background": "light"
     },
     "output_type": "display_data"
    }
   ],
   "source": [
    "temp = 2\n",
    "mag_field = 0\n",
    "interactions = np.array([1.0, 0.5]) # p=1\n",
    "# interactions = np.array([1.0]) # p=1\n",
    "num_neighbors = len(interactions)\n",
    "num_tm_eigvals = None\n",
    "\n",
    "# plots\n",
    "fig1: Figure = pyplot.figure(figsize=(4, 9), dpi=150)\n",
    "# fig1: Figure = pyplot.figure(figsize=(12*(4/9), 12), dpi=150)\n",
    "# fig1: Figure = pyplot.figure(figsize=(4, 4*(2/3)), dpi=150)\n",
    "    \n",
    "grid_spec = GridSpec(3, 1)\n",
    "\n",
    "# Specific heat subplot.\n",
    "ax: Axes = fig1.add_subplot(grid_spec[0, 0])\n",
    "    \n",
    "x_data = np.arange(0,50,1)\n",
    "y_data = [correlation_function_TL(\n",
    "    x,\n",
    "    temp,\n",
    "    mag_field,\n",
    "    interactions\n",
    ") for x in x_data]\n",
    "          \n",
    "# ax.plot(x_data, y_data, marker=\"o\", lw=0,color='C0',label='adjust without nv=1')\n",
    "ax.semilogy(x_data, y_data, marker=\"o\", lw=0,color='C0',label='adjust without nv=1')\n",
    "\n",
    "# labels configurations\n",
    "ax.xaxis.label.set_size(18)\n",
    "ax.set_xlabel(r\"$\\rho$\")\n",
    "\n",
    "ax.yaxis.label.set_size(18)\n",
    "ax.set_ylabel(r\"$\\mathcal{G}(\\rho)$\")\n",
    "\n",
    "# print(correlation_lenght_limit(\n",
    "#     temp,\n",
    "#     mag_field,\n",
    "#     interactions))"
   ]
  },
  {
   "cell_type": "code",
   "execution_count": 17,
   "metadata": {},
   "outputs": [
    {
     "name": "stderr",
     "output_type": "stream",
     "text": [
      "C:\\Users\\MHJGuillermo\\PycharmProjects\\Doctorado\\Ising\\isingchat\\lib\\site-packages\\ipykernel_launcher.py:70: RuntimeWarning: divide by zero encountered in double_scalars\n",
      "C:\\Users\\MHJGuillermo\\PycharmProjects\\Doctorado\\Ising\\isingchat\\lib\\site-packages\\ipykernel_launcher.py:70: ComplexWarning: Casting complex values to real discards the imaginary part\n"
     ]
    },
    {
     "data": {
      "text/plain": [
       "Text(0, 0.5, '$\\\\xi(\\\\rho)$')"
      ]
     },
     "execution_count": 17,
     "metadata": {},
     "output_type": "execute_result"
    },
    {
     "data": {
      "image/png": "[encoded data removed]",
      "text/plain": [
       "<Figure size 600x1350 with 1 Axes>"
      ]
     },
     "metadata": {
      "needs_background": "light"
     },
     "output_type": "display_data"
    }
   ],
   "source": [
    "# plots\n",
    "fig1: Figure = pyplot.figure(figsize=(4, 9), dpi=150)\n",
    "# fig1: Figure = pyplot.figure(figsize=(12*(4/9), 12), dpi=150)\n",
    "# fig1: Figure = pyplot.figure(figsize=(4, 4*(2/3)), dpi=150)\n",
    "    \n",
    "grid_spec = GridSpec(3, 1)\n",
    "\n",
    "# Specific heat subplot.\n",
    "ax: Axes = fig1.add_subplot(grid_spec[0, 0])\n",
    "    \n",
    "x_data = np.arange(0,10,0.1)\n",
    "y_data = [correlation_lenght_TL(\n",
    "    x,\n",
    "    temp,\n",
    "    mag_field,\n",
    "    interactions\n",
    ") for x in x_data]\n",
    "          \n",
    "ax.plot(x_data, y_data, marker=\"o\", lw=0,color='C0',label='adjust without nv=1')\n",
    "\n",
    "# labels configurations\n",
    "ax.xaxis.label.set_size(18)\n",
    "ax.set_xlabel(r\"$\\rho$\")\n",
    "ax.set_ylim([0,1])\n",
    "\n",
    "ax.yaxis.label.set_size(18)\n",
    "ax.set_ylabel(r\"$\\xi(\\rho)$\")"
   ]
  },
  {
   "cell_type": "markdown",
   "metadata": {},
   "source": [
    "### Perfect Ising case\n",
    "The formula for the correlation function of the perfect Ising chain is \n",
    "$$\n",
    "\\mathcal{G}(\\rho) = \\left(\\frac{\\cosh(\\beta h) - \\sqrt{\\sinh^2(\\beta h) + e^{-4\\beta J}}}{\\cosh(\\beta h) + \\sqrt{\\sinh^2(\\beta h) + e^{-4\\beta J}}}\\right)^\\rho \\frac{e^{-4\\beta J}}{\\sinh^2(\\beta h) + e^{-4\\beta J}}\n",
    "$$\n",
    "normalization $T=k_BT/J$, and $h=h/J$ "
   ]
  },
  {
   "cell_type": "code",
   "execution_count": 3,
   "metadata": {},
   "outputs": [],
   "source": [
    "def correlation_function_perfect_ising_TL(\n",
    "    r: int,\n",
    "    T: float,\n",
    "    h: float\n",
    "):\n",
    "    return ( \n",
    "        ( (math.cosh(h/T) - math.sqrt(math.sinh(h/T)**2 + math.exp(-4/T)) )\n",
    "            /(math.cosh(h/T) + math.sqrt(math.sinh(h/T)**2 + math.exp(-4/T))) )**r\n",
    "        )* ((math.exp(-4/T))/(math.sinh(h/T)**2+math.exp(-4/T)))"
   ]
  },
  {
   "cell_type": "code",
   "execution_count": 8,
   "metadata": {},
   "outputs": [
    {
     "name": "stderr",
     "output_type": "stream",
     "text": [
      "C:\\Users\\MHJGuillermo\\PycharmProjects\\Doctorado\\Ising\\isingchat\\lib\\site-packages\\matplotlib\\cbook\\__init__.py:1289: ComplexWarning: Casting complex values to real discards the imaginary part\n",
      "  return np.asarray(x, float)\n"
     ]
    },
    {
     "data": {
      "text/plain": [
       "Text(0, 0.5, '$\\\\mathcal{G}(\\\\rho)$')"
      ]
     },
     "execution_count": 8,
     "metadata": {},
     "output_type": "execute_result"
    },
    {
     "data": {
      "image/png": "[encoded data removed]",
      "text/plain": [
       "<Figure size 600x1350 with 1 Axes>"
      ]
     },
     "metadata": {
      "needs_background": "light"
     },
     "output_type": "display_data"
    }
   ],
   "source": [
    "temp = 1\n",
    "mag_field = 0\n",
    "interactions = np.array([1.0,0.5]) # p=1\n",
    "# plots\n",
    "fig1: Figure = pyplot.figure(figsize=(4, 9), dpi=150)\n",
    "# fig1: Figure = pyplot.figure(figsize=(12*(4/9), 12), dpi=150)\n",
    "# fig1: Figure = pyplot.figure(figsize=(4, 4*(2/3)), dpi=150)\n",
    "    \n",
    "grid_spec = GridSpec(3, 1)\n",
    "\n",
    "# Specific heat subplot.\n",
    "ax: Axes = fig1.add_subplot(grid_spec[0, 0])\n",
    "\n",
    "x_data = np.arange(0,50,1)\n",
    "y_data = [correlation_function_TL(\n",
    "    x,\n",
    "    temp,\n",
    "    mag_field,\n",
    "    interactions\n",
    ") for x in x_data]\n",
    "          \n",
    "# ax.plot(x_data, y_data, marker=\"x\", lw=0,color='C0',label='adjust without nv=1')\n",
    "ax.semilogy(x_data, y_data, marker=\"o\", lw=0,color='C0',label='adjust without nv=1')\n",
    "\n",
    "x_data = np.arange(0,50,1)\n",
    "y_data = [correlation_function_perfect_ising_TL(\n",
    "    x,\n",
    "    temp,\n",
    "    mag_field,\n",
    ") for x in x_data]\n",
    "          \n",
    "# ax.plot(x_data, y_data, marker=\"o\", lw=0,color='C1',label='adjust without nv=1')\n",
    "\n",
    "# labels configurations\n",
    "ax.xaxis.label.set_size(18)\n",
    "ax.set_xlabel(r\"$\\rho$\")\n",
    "\n",
    "ax.yaxis.label.set_size(18)\n",
    "ax.set_ylabel(r\"$\\mathcal{G}(\\rho)$\")"
   ]
  },
  {
   "cell_type": "code",
   "execution_count": null,
   "metadata": {},
   "outputs": [],
   "source": []
  }
 ],
 "metadata": {
  "kernelspec": {
   "display_name": "Python 3",
   "language": "python",
   "name": "python3"
  },
  "language_info": {
   "codemirror_mode": {
    "name": "ipython",
    "version": 3
   },
   "file_extension": ".py",
   "mimetype": "text/x-python",
   "name": "python",
   "nbconvert_exporter": "python",
   "pygments_lexer": "ipython3",
   "version": "3.7.3"
  }
 },
 "nbformat": 4,
 "nbformat_minor": 4
}
