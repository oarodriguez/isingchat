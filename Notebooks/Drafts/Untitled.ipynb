{
 "cells": [
  {
   "cell_type": "markdown",
   "metadata": {},
   "source": [
    "# Analysis correlation lenght"
   ]
  },
  {
   "cell_type": "code",
   "execution_count": 1,
   "metadata": {},
   "outputs": [],
   "source": [
    "%pylab inline\n",
    "\n",
    "from pathlib import Path\n",
    "\n",
    "import h5py\n",
    "import numpy as np\n",
    "from isingchat import style\n",
    "from isingchat.io import read_ising_config\n",
    "from matplotlib import pyplot, rcParams\n",
    "from matplotlib.axes import Axes, GridSpec\n",
    "from matplotlib.figure import Figure\n",
    "from ruamel.yaml import YAML\n",
    "from scipy import interpolate as interp\n",
    "from scipy.signal import savgol_filter\n",
    "import pandas as pd\n",
    "import json\n",
    "from rich.pretty import pprint\n",
    "\n",
    "import os\n",
    "import re\n",
    "\n",
    "yaml = YAML()"
   ]
  },
  {
   "cell_type": "markdown",
   "metadata": {},
   "source": [
    "## Getting data"
   ]
  },
  {
   "cell_type": "code",
   "execution_count": null,
   "metadata": {},
   "outputs": [],
   "source": [
    "p=1.0\n",
    "data_path = Path('C:\\\\Users\\\\MHJGuillermo\\\\PycharmProjects\\\\Doctorado\\\\Ising\\\\isingchat\\\\data\\\\cor_length\\\\regular\\\\infinite-size\\\\p_{}'.format(p)).resolve()\n",
    "file = 'p-{}_nv-2_h-0_eig-4.yml'.format(p)\n",
    "# data_path = Path('C:\\\\Users\\\\MHJGuillermo\\\\PycharmProjects\\\\Doctorado\\\\Ising\\\\isingchat\\\\data\\\\test').resolve()\n",
    "# file = 'p-2.0_nv-3_h-0.yml'.format(p)\n",
    "config_file = Path(os.path.join(data_path,file)).resolve()\n",
    "eigens_file = config_file.with_suffix(\".eigenvalues.h5\")\n",
    "# eigens_file = config_file.with_suffix(\".free-energy.h5\")\n",
    "with h5py.File(eigens_file) as h5fp:\n",
    "    data_eigenvalues = h5fp['eigens']['eigenvalues'][:]\n",
    "#     pprint(h5fp['eigens'].keys())\n",
    "#     pprint(h5fp['eigens']['max-w-matrix'][:])\n",
    "#     pprint(h5fp['eigens']['eigenvalues'][:])\n",
    "#     pprint(h5fp['eigens']['eigenvectors'][:])\n",
    "with config_file.open() as cfp:\n",
    "    config_info = yaml.load(cfp)\n",
    "config_data = read_ising_config(config_info)\n",
    "temp = config_data[\"system\"][\"temperature\"]\n",
    "mag_field = config_data[\"system\"][\"magnetic_field\"]"
   ]
  }
 ],
 "metadata": {
  "kernelspec": {
   "display_name": "Python 3",
   "language": "python",
   "name": "python3"
  },
  "language_info": {
   "codemirror_mode": {
    "name": "ipython",
    "version": 3
   },
   "file_extension": ".py",
   "mimetype": "text/x-python",
   "name": "python",
   "nbconvert_exporter": "python",
   "pygments_lexer": "ipython3",
   "version": "3.7.3"
  }
 },
 "nbformat": 4,
 "nbformat_minor": 4
}
