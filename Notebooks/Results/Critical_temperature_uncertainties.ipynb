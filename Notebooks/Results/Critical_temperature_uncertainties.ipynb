{
 "cells": [
  {
   "cell_type": "markdown",
   "metadata": {},
   "source": [
    "# Notebook for calculate the critical temperature uncertainties"
   ]
  },
  {
   "cell_type": "code",
   "execution_count": 55,
   "metadata": {},
   "outputs": [],
   "source": [
    "import os\n",
    "import numpy as np\n",
    "import time\n",
    "import pandas as pd"
   ]
  },
  {
   "cell_type": "code",
   "execution_count": 73,
   "metadata": {},
   "outputs": [],
   "source": [
    "# # infinite\n",
    "# data_path=os.path.join(\"C:\\\\Users\\\\MHJGuillermo\\\\PycharmProjects\\\\Doctorado\\\\Ising\\\\isingchat\\\\venv\\\\data\\\\regular\\\\infinite-size\\\\Extrapolation\")\n",
    "# file_all_inv_tc = 'inv_Tc_vs_inv_nv_extrapol_hurwitz_2_parms_with_nv_5plus_and_error_extrapol_values.csv'\n",
    "\n",
    "# finite\n",
    "data_path=os.path.join(\"C:\\\\Users\\\\MHJGuillermo\\\\PycharmProjects\\\\Doctorado\\\\Ising\\\\isingchat\\\\venv\\\\data\\\\regular\\\\finite-size\\\\Extrapolation\")\n",
    "file_all_inv_tc = 'finite_inv_Tc_vs_inv_nv_extrapol_gen_zeta_2_parms_with_nv_3plus_with_errors_c_extrapol_values.csv'\n",
    "\n",
    "df_all_inv_tc = pd.read_csv(os.path.join(data_path,file_all_inv_tc),index_col=0)"
   ]
  },
  {
   "cell_type": "code",
   "execution_count": 74,
   "metadata": {},
   "outputs": [],
   "source": [
    "df_all_tc = df_all_inv_tc"
   ]
  },
  {
   "cell_type": "code",
   "execution_count": 75,
   "metadata": {},
   "outputs": [],
   "source": [
    "# for P1.0\n",
    "df_all_tc[\"P1.0\"][\"infty\"]=0\n",
    "df_all_tc[\"P1.0\"][\"infty_err\"]=0\n",
    "\n",
    "COLUMNS = [\"P1.05\",\"P1.1\",\"P1.2\",\"P1.3\",\"P1.4\",\"P1.5\",\"P1.6\",\"P1.7\",\"P1.8\",\"P1.9\",\"P2.0\"]\n",
    "for col in COLUMNS:\n",
    "    inv_tc = df_all_inv_tc[col][\"infty\"]\n",
    "    inv_tc_err = df_all_inv_tc[col][\"infty_err\"]\n",
    "    df_all_tc[col][\"infty\"] = 1/inv_tc\n",
    "    df_all_tc[col][\"infty_err\"] = (inv_tc_err)/(inv_tc**2)"
   ]
  },
  {
   "cell_type": "code",
   "execution_count": 76,
   "metadata": {},
   "outputs": [
    {
     "data": {
      "text/html": [
       "<div>\n",
       "<style scoped>\n",
       "    .dataframe tbody tr th:only-of-type {\n",
       "        vertical-align: middle;\n",
       "    }\n",
       "\n",
       "    .dataframe tbody tr th {\n",
       "        vertical-align: top;\n",
       "    }\n",
       "\n",
       "    .dataframe thead th {\n",
       "        text-align: right;\n",
       "    }\n",
       "</style>\n",
       "<table border=\"1\" class=\"dataframe\">\n",
       "  <thead>\n",
       "    <tr style=\"text-align: right;\">\n",
       "      <th></th>\n",
       "      <th>P1.0</th>\n",
       "      <th>P1.05</th>\n",
       "      <th>P1.1</th>\n",
       "      <th>P1.2</th>\n",
       "      <th>P1.3</th>\n",
       "      <th>P1.4</th>\n",
       "      <th>P1.5</th>\n",
       "      <th>P1.6</th>\n",
       "      <th>P1.7</th>\n",
       "      <th>P1.8</th>\n",
       "      <th>P1.9</th>\n",
       "      <th>P2.0</th>\n",
       "    </tr>\n",
       "  </thead>\n",
       "  <tbody>\n",
       "    <tr>\n",
       "      <th>infty</th>\n",
       "      <td>0.0</td>\n",
       "      <td>39.888074</td>\n",
       "      <td>19.380756</td>\n",
       "      <td>9.289131</td>\n",
       "      <td>6.052227</td>\n",
       "      <td>4.493309</td>\n",
       "      <td>3.586741</td>\n",
       "      <td>3.007992</td>\n",
       "      <td>2.607111</td>\n",
       "      <td>2.317382</td>\n",
       "      <td>2.097615</td>\n",
       "      <td>1.92851</td>\n",
       "    </tr>\n",
       "    <tr>\n",
       "      <th>infty_err</th>\n",
       "      <td>0.0</td>\n",
       "      <td>4.250182</td>\n",
       "      <td>2.161051</td>\n",
       "      <td>1.162023</td>\n",
       "      <td>0.777267</td>\n",
       "      <td>0.585362</td>\n",
       "      <td>0.480148</td>\n",
       "      <td>0.406196</td>\n",
       "      <td>0.357252</td>\n",
       "      <td>0.357320</td>\n",
       "      <td>0.339965</td>\n",
       "      <td>0.40816</td>\n",
       "    </tr>\n",
       "  </tbody>\n",
       "</table>\n",
       "</div>"
      ],
      "text/plain": [
       "           P1.0      P1.05       P1.1      P1.2      P1.3      P1.4      P1.5  \\\n",
       "infty       0.0  39.888074  19.380756  9.289131  6.052227  4.493309  3.586741   \n",
       "infty_err   0.0   4.250182   2.161051  1.162023  0.777267  0.585362  0.480148   \n",
       "\n",
       "               P1.6      P1.7      P1.8      P1.9     P2.0  \n",
       "infty      3.007992  2.607111  2.317382  2.097615  1.92851  \n",
       "infty_err  0.406196  0.357252  0.357320  0.339965  0.40816  "
      ]
     },
     "execution_count": 76,
     "metadata": {},
     "output_type": "execute_result"
    }
   ],
   "source": [
    "df_all_tc"
   ]
  },
  {
   "cell_type": "markdown",
   "metadata": {},
   "source": [
    "## Save data"
   ]
  },
  {
   "cell_type": "code",
   "execution_count": 77,
   "metadata": {},
   "outputs": [],
   "source": [
    "# #infinte\n",
    "# save_file = \"Tc_hurwitz_2_parms_with_nv_5plus_and_error_extrapol_values.csv\"\n",
    "#finite\n",
    "save_file = \"finite_Tc_hurwitz_2_parms_with_nv_3plus_and_error_c_extrapol_values.csv\"\n",
    "\n",
    "df_all_tc.to_csv(os.path.join(data_path,save_file),index=False)"
   ]
  },
  {
   "cell_type": "code",
   "execution_count": null,
   "metadata": {},
   "outputs": [],
   "source": []
  }
 ],
 "metadata": {
  "kernelspec": {
   "display_name": "Python 3",
   "language": "python",
   "name": "python3"
  },
  "language_info": {
   "codemirror_mode": {
    "name": "ipython",
    "version": 3
   },
   "file_extension": ".py",
   "mimetype": "text/x-python",
   "name": "python",
   "nbconvert_exporter": "python",
   "pygments_lexer": "ipython3",
   "version": "3.7.3"
  }
 },
 "nbformat": 4,
 "nbformat_minor": 4
}
