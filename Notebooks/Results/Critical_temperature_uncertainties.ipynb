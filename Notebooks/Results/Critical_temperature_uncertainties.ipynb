{
 "cells": [
  {
   "cell_type": "markdown",
   "metadata": {},
   "source": [
    "# Notebook for calculate the critical temperature uncertainties"
   ]
  },
  {
   "cell_type": "code",
   "execution_count": 1,
   "metadata": {},
   "outputs": [],
   "source": [
    "import os\n",
    "import numpy as np\n",
    "import time\n",
    "import pandas as pd"
   ]
  },
  {
   "cell_type": "code",
   "execution_count": 3,
   "metadata": {},
   "outputs": [],
   "source": [
    "# # infinite\n",
    "data_path=os.path.join(\"C:\\\\Users\\\\MHJGuillermo\\\\PycharmProjects\\\\Doctorado\\\\Ising\\\\isingchat\\\\venv\\\\data\\\\regular\\\\infinite-size\\\\Extrapolation\")\n",
    "# file_all_inv_tc = 'inv_Tc_vs_inv_nv_extrapol_hurwitz_2_parms_with_nv_5plus_and_error_extrapol_values.csv'\n",
    "file_all_inv_tc = \"inv_Tc_vs_inv_nv_extrapol_hurwitz_2_parms_with_nv_5plus_and_error_v30nv_extrapol_values.csv\"\n",
    "\n",
    "# finite\n",
    "# data_path=os.path.join(\"C:\\\\Users\\\\MHJGuillermo\\\\PycharmProjects\\\\Doctorado\\\\Ising\\\\isingchat\\\\venv\\\\data\\\\regular\\\\finite-size\\\\Extrapolation\")\n",
    "# file_all_inv_tc = 'finite_inv_Tc_vs_inv_nv_extrapol_gen_zeta_2_parms_with_nv_3plus_with_errors_c_extrapol_values.csv'\n",
    "\n",
    "df_all_inv_tc = pd.read_csv(os.path.join(data_path,file_all_inv_tc),index_col=0)"
   ]
  },
  {
   "cell_type": "code",
   "execution_count": 4,
   "metadata": {},
   "outputs": [],
   "source": [
    "df_all_tc = df_all_inv_tc"
   ]
  },
  {
   "cell_type": "code",
   "execution_count": 5,
   "metadata": {},
   "outputs": [],
   "source": [
    "# for P1.0\n",
    "df_all_tc[\"P1.0\"][\"infty\"]=0\n",
    "df_all_tc[\"P1.0\"][\"infty_err\"]=0\n",
    "\n",
    "COLUMNS = [\"P1.05\",\"P1.1\",\"P1.2\",\"P1.3\",\"P1.4\",\"P1.5\",\"P1.6\",\"P1.7\",\"P1.8\",\"P1.9\",\"P2.0\"]\n",
    "for col in COLUMNS:\n",
    "    inv_tc = df_all_inv_tc[col][\"infty\"]\n",
    "    inv_tc_err = df_all_inv_tc[col][\"infty_err\"]\n",
    "    df_all_tc[col][\"infty\"] = 1/inv_tc\n",
    "    df_all_tc[col][\"infty_err\"] = (inv_tc_err)/(inv_tc**2)"
   ]
  },
  {
   "cell_type": "code",
   "execution_count": 6,
   "metadata": {},
   "outputs": [
    {
     "data": {
      "text/html": [
       "<div>\n",
       "<style scoped>\n",
       "    .dataframe tbody tr th:only-of-type {\n",
       "        vertical-align: middle;\n",
       "    }\n",
       "\n",
       "    .dataframe tbody tr th {\n",
       "        vertical-align: top;\n",
       "    }\n",
       "\n",
       "    .dataframe thead th {\n",
       "        text-align: right;\n",
       "    }\n",
       "</style>\n",
       "<table border=\"1\" class=\"dataframe\">\n",
       "  <thead>\n",
       "    <tr style=\"text-align: right;\">\n",
       "      <th></th>\n",
       "      <th>P1.0</th>\n",
       "      <th>P1.05</th>\n",
       "      <th>P1.1</th>\n",
       "      <th>P1.2</th>\n",
       "      <th>P1.3</th>\n",
       "      <th>P1.4</th>\n",
       "      <th>P1.5</th>\n",
       "      <th>P1.6</th>\n",
       "      <th>P1.7</th>\n",
       "      <th>P1.8</th>\n",
       "      <th>P1.9</th>\n",
       "      <th>P2.0</th>\n",
       "    </tr>\n",
       "  </thead>\n",
       "  <tbody>\n",
       "    <tr>\n",
       "      <th>infty</th>\n",
       "      <td>0.0</td>\n",
       "      <td>41.346820</td>\n",
       "      <td>20.177709</td>\n",
       "      <td>9.782906</td>\n",
       "      <td>6.344906</td>\n",
       "      <td>4.67720</td>\n",
       "      <td>3.688079</td>\n",
       "      <td>3.043394</td>\n",
       "      <td>2.593641</td>\n",
       "      <td>2.265474</td>\n",
       "      <td>2.017718</td>\n",
       "      <td>1.827098</td>\n",
       "    </tr>\n",
       "    <tr>\n",
       "      <th>infty_err</th>\n",
       "      <td>0.0</td>\n",
       "      <td>3.179544</td>\n",
       "      <td>1.742576</td>\n",
       "      <td>0.959563</td>\n",
       "      <td>0.710281</td>\n",
       "      <td>0.57393</td>\n",
       "      <td>0.472259</td>\n",
       "      <td>0.394800</td>\n",
       "      <td>0.334518</td>\n",
       "      <td>0.275011</td>\n",
       "      <td>0.211613</td>\n",
       "      <td>0.156810</td>\n",
       "    </tr>\n",
       "  </tbody>\n",
       "</table>\n",
       "</div>"
      ],
      "text/plain": [
       "           P1.0      P1.05       P1.1      P1.2      P1.3     P1.4      P1.5  \\\n",
       "infty       0.0  41.346820  20.177709  9.782906  6.344906  4.67720  3.688079   \n",
       "infty_err   0.0   3.179544   1.742576  0.959563  0.710281  0.57393  0.472259   \n",
       "\n",
       "               P1.6      P1.7      P1.8      P1.9      P2.0  \n",
       "infty      3.043394  2.593641  2.265474  2.017718  1.827098  \n",
       "infty_err  0.394800  0.334518  0.275011  0.211613  0.156810  "
      ]
     },
     "execution_count": 6,
     "metadata": {},
     "output_type": "execute_result"
    }
   ],
   "source": [
    "df_all_tc"
   ]
  },
  {
   "cell_type": "markdown",
   "metadata": {},
   "source": [
    "## Save data"
   ]
  },
  {
   "cell_type": "code",
   "execution_count": 7,
   "metadata": {},
   "outputs": [],
   "source": [
    "# #infinte\n",
    "save_file = \"Tc_hurwitz_2_parms_with_nv_5plus_and_error_v30nv_extrapol_values.csv\"\n",
    "#finite\n",
    "# save_file = \"finite_Tc_hurwitz_2_parms_with_nv_3plus_and_error_c_extrapol_values.csv\"\n",
    "\n",
    "df_all_tc.to_csv(os.path.join(data_path,save_file),index=False)"
   ]
  },
  {
   "cell_type": "code",
   "execution_count": null,
   "metadata": {},
   "outputs": [],
   "source": []
  }
 ],
 "metadata": {
  "kernelspec": {
   "display_name": "Python 3",
   "language": "python",
   "name": "python3"
  },
  "language_info": {
   "codemirror_mode": {
    "name": "ipython",
    "version": 3
   },
   "file_extension": ".py",
   "mimetype": "text/x-python",
   "name": "python",
   "nbconvert_exporter": "python",
   "pygments_lexer": "ipython3",
   "version": "3.7.3"
  }
 },
 "nbformat": 4,
 "nbformat_minor": 4
}
