{
 "cells": [
  {
   "cell_type": "markdown",
   "metadata": {},
   "source": [
    "# Correlation function for any neighboirs\n",
    "This jupyter notebook calculate the two spin correlation function for a one-dimensional Ising model."
   ]
  },
  {
   "cell_type": "code",
   "execution_count": 2,
   "metadata": {},
   "outputs": [],
   "source": [
    "# math \n",
    "import numpy as np\n",
    "import scipy\n",
    "from scipy.sparse import csr_matrix, coo_matrix\n",
    "from scipy.linalg import eig as get_eigs\n",
    "import math\n",
    "\n",
    "# plots\n",
    "import sys\n",
    "sys.path.append('C:\\\\Users\\\\MHJGuillermo\\\\PycharmProjects\\\\Doctorado\\\\Ising\\\\Varios_vecinos\\\\venv\\\\src')\n",
    "import style\n",
    "import matplotlib.pyplot as plt"
   ]
  },
  {
   "cell_type": "markdown",
   "metadata": {},
   "source": [
    "### Definitions"
   ]
  },
  {
   "cell_type": "code",
   "execution_count": 3,
   "metadata": {},
   "outputs": [],
   "source": [
    "nv = 2 # number of neighbors\n",
    "p = 1.5 # exponent of interactions 1/J^p\n",
    "magnetic_field = 1\n",
    "Tem = 1\n",
    "listJ = 1/np.arange(1,nv+1,1)**p"
   ]
  },
  {
   "cell_type": "code",
   "execution_count": 4,
   "metadata": {},
   "outputs": [
    {
     "data": {
      "text/plain": [
       "array([1.        , 0.35355339])"
      ]
     },
     "execution_count": 4,
     "metadata": {},
     "output_type": "execute_result"
    }
   ],
   "source": [
    "listJ"
   ]
  },
  {
   "cell_type": "markdown",
   "metadata": {},
   "source": [
    "## Matrix definition\n",
    "In this section we define the matrix"
   ]
  },
  {
   "cell_type": "code",
   "execution_count": 5,
   "metadata": {},
   "outputs": [],
   "source": [
    "row = []\n",
    "col = []\n",
    "data = []\n",
    "matrix_range = 2**nv\n",
    "for i in range(matrix_range):\n",
    "    row.append(i)\n",
    "    col.append(i)\n",
    "    if i < int(matrix_range/2):\n",
    "        data.append(1)\n",
    "    else:\n",
    "        data.append(-1)\n",
    "pauli_matrix_z = coo_matrix((data, (row, col)), shape=(matrix_range, matrix_range))"
   ]
  },
  {
   "cell_type": "code",
   "execution_count": 6,
   "metadata": {},
   "outputs": [
    {
     "data": {
      "text/plain": [
       "array([[ 1,  0,  0,  0],\n",
       "       [ 0,  1,  0,  0],\n",
       "       [ 0,  0, -1,  0],\n",
       "       [ 0,  0,  0, -1]])"
      ]
     },
     "execution_count": 6,
     "metadata": {},
     "output_type": "execute_result"
    }
   ],
   "source": [
    "pauli_matrix_z.toarray()"
   ]
  },
  {
   "cell_type": "markdown",
   "metadata": {},
   "source": [
    "Import function to spin proyections"
   ]
  },
  {
   "cell_type": "code",
   "execution_count": 7,
   "metadata": {},
   "outputs": [],
   "source": [
    "def digiters_binary_number(num: int,len_padding: int = None):\n",
    "    \"\"\" Return a list of digiter corresponding of the binary representation of a decimal number\n",
    "    \n",
    "    Args:\n",
    "        num: An integer in decimal that want to covert in binary.\n",
    "        len_padding: An integer to represent the length of the pading. If it is not specify there are not padding.\n",
    "\n",
    "    Returns:\n",
    "        A numpy array with the list of digiters correspongin to the binary number representation of the num padding\n",
    "        with ceros at left\n",
    "\n",
    "    Raises:\n",
    "        ValueError: Occur when len_padding is smaller than the lenght of the binary number\n",
    "    \"\"\"\n",
    "    try:\n",
    "        list_digiter_binary = []\n",
    "        binary_number = np.array([int(i) for i in list('{0:0b}'.format(num))])\n",
    "        if len_padding == None:\n",
    "            \n",
    "            return binary_number\n",
    "        else:\n",
    "            padding = len_padding - len(binary_number)\n",
    "            list_digiter_binary = np.pad(binary_number,(padding,0),'constant')\n",
    "    \n",
    "            return list_digiter_binary\n",
    "    except ValueError as exc:\n",
    "        print(\"Error: len_padding is smaller than the len of the binary number.\")\n",
    "        return exc"
   ]
  },
  {
   "cell_type": "code",
   "execution_count": 8,
   "metadata": {},
   "outputs": [],
   "source": [
    "list_proyections = np.array([digiters_binary_number(i,nv) for i in range(matrix_range)])\n",
    "list_proyections = list_proyections*(-2)+1"
   ]
  },
  {
   "cell_type": "code",
   "execution_count": 9,
   "metadata": {},
   "outputs": [
    {
     "data": {
      "text/plain": [
       "array([[ 1,  1],\n",
       "       [ 1, -1],\n",
       "       [-1,  1],\n",
       "       [-1, -1]])"
      ]
     },
     "execution_count": 9,
     "metadata": {},
     "output_type": "execute_result"
    }
   ],
   "source": [
    "list_proyections"
   ]
  },
  {
   "cell_type": "code",
   "execution_count": 12,
   "metadata": {},
   "outputs": [],
   "source": [
    "row = []\n",
    "col = []\n",
    "data = []\n",
    "for i in range(matrix_range):\n",
    "    for j in range(matrix_range):\n",
    "        isNonCero = True\n",
    "        if nv > 1:\n",
    "            for sigma in range(1,nv):\n",
    "                isNonCero = isNonCero and list_proyections[i][sigma] == list_proyections[j][sigma-1]\n",
    "            if isNonCero:\n",
    "                row.append(i)\n",
    "                col.append(j)\n",
    "                val = math.exp(magnetic_field/Tem*list_proyections[i][0])\n",
    "                for el in range(nv):\n",
    "                    val = val*math.exp(listJ[el]/Tem*list_proyections[i][0]*list_proyections[j][el])\n",
    "                data.append(val)\n",
    "        else:\n",
    "            row.append(i)\n",
    "            col.append(j)\n",
    "            val = math.exp(h/Tem*list_proyections[i][0])\n",
    "            for el in range(nv):\n",
    "                val = val*math.exp((listJ[el]/Tem)*list_proyections[i][0]*list_proyections[j][el])\n",
    "            data.append(val)\n",
    "\n",
    "W = coo_matrix((data, (row, col)), shape=(matrix_range, matrix_range))\n",
    "# W = (W/W.max())"
   ]
  },
  {
   "cell_type": "code",
   "execution_count": 13,
   "metadata": {},
   "outputs": [
    {
     "name": "stdout",
     "output_type": "stream",
     "text": [
      "[[10.52289533  5.18851023  0.          0.        ]\n",
      " [ 0.          0.          1.42411902  0.7021885 ]\n",
      " [ 0.09503088  0.19273355  0.          0.        ]\n",
      " [ 0.          0.          0.7021885   1.42411902]]\n"
     ]
    }
   ],
   "source": [
    "print(W.toarray())"
   ]
  },
  {
   "cell_type": "code",
   "execution_count": 14,
   "metadata": {},
   "outputs": [],
   "source": [
    "# result = pauli_matrix_z*W*pauli_matrix_z\n",
    "# result.toarray()"
   ]
  },
  {
   "cell_type": "markdown",
   "metadata": {},
   "source": [
    "### Cálculo de los eignevectores y eigenvalores de la matriz "
   ]
  },
  {
   "cell_type": "markdown",
   "metadata": {},
   "source": [
    "#### Thermodynamic limit"
   ]
  },
  {
   "cell_type": "code",
   "execution_count": 15,
   "metadata": {},
   "outputs": [],
   "source": [
    "# from scipy.sparse.linalg import eigs\n",
    "# eigs(W.toarray(), k=1, which=\"LM\")\n",
    "W_eigenvalues, W_eigenvectors = get_eigs(W.toarray())\n",
    "change_basis = np.linalg.inv(W_eigenvectors)\n",
    "W_eigenvectors = np.transpose(W_eigenvectors)"
   ]
  },
  {
   "cell_type": "code",
   "execution_count": 16,
   "metadata": {},
   "outputs": [],
   "source": [
    "# print(W_eigenvectors[0],W_eigenvectors[1])\n",
    "# print(W_eigenvalues)"
   ]
  },
  {
   "cell_type": "code",
   "execution_count": 17,
   "metadata": {},
   "outputs": [],
   "source": [
    "# # W = np.array([np.array([math.exp(jota/tem+h),math.exp(-jota/tem)]),\n",
    "# #             np.array([math.exp(-jota/tem),math.exp(jota/tem-h)])])\n",
    "# # W_eigenvalues, W_eigenvectors = get_eigs(W)\n",
    "# # W_eigenvectors = np.transpose(W_eigenvectors)\n",
    "# A = np.array([np.array([math.exp(jota/tem+h),math.exp(-jota/tem)]),\n",
    "#             np.array([math.exp(-jota/tem),math.exp(jota/tem-h)])])\n",
    "# print(A)\n",
    "# A_eigenvalues, A_eigenvectors = get_eigs(A)\n",
    "# print('eigenvectors',A_eigenvectors)\n",
    "# print('eigenvalues',A_eigenvalues)\n",
    "# print(np.array([math.cos(theta_funct(1, 1, 1)/2),math.sin(theta_funct(1, 1, 1)/2)]))"
   ]
  },
  {
   "cell_type": "markdown",
   "metadata": {},
   "source": [
    "#### Change basis to eigenvectors basis"
   ]
  },
  {
   "cell_type": "code",
   "execution_count": 18,
   "metadata": {},
   "outputs": [],
   "source": [
    "# change_basis = np.linalg.inv(np.transpose(W_eigenvectors))\n",
    "# print(change_basis)\n",
    "# print(np.matmul(np.transpose(W_eigenvectors),change_basis))"
   ]
  },
  {
   "cell_type": "code",
   "execution_count": 19,
   "metadata": {},
   "outputs": [],
   "source": [
    "### descoment here if matrix is symetric\n",
    "# def correlation_function(eigenvectors: np.ndarray,\n",
    "#                          eigenvalues: np.ndarray,\n",
    "#                          r: int):\n",
    "#     cor_funct = 0\n",
    "#     max_eigenval = max(eigenvalues)\n",
    "#     max_eigenvec = eigenvectors[eigenvalues.argmax()]\n",
    "#     for eigenvec,eigenval in zip(eigenvectors,eigenvalues): \n",
    "#         res = np.matmul(eigenvec,pauli_matrix_z.toarray())\n",
    "#         res = np.matmul(res,max_eigenvec)\n",
    "#         cor_funct = cor_funct + ((eigenval/max_eigenval)**r)*(abs(res)**2)\n",
    "    \n",
    "#     return cor_funct\n",
    "\n",
    "### coment here if matrix is symetric\n",
    "def correlation_function(eigenvectors: np.ndarray,\n",
    "                         eigenvalues: np.ndarray,\n",
    "                         r: int):\n",
    "    cor_funct = 0\n",
    "    max_eigenval = max(eigenvalues)\n",
    "    max_eigenvec = eigenvectors[eigenvalues.argmax()]\n",
    "    linear_coef = np.matmul(change_basis,np.matmul(pauli_matrix_z.toarray(),max_eigenvec))\n",
    "    for eigenvec,eigenval,l_coef in zip(eigenvectors,eigenvalues,linear_coef): \n",
    "        res = np.matmul(max_eigenvec,pauli_matrix_z.toarray())\n",
    "        res = np.matmul(res,eigenvec)\n",
    "        cor_funct = cor_funct + ((eigenval/max_eigenval)**r)*res*l_coef\n",
    "    \n",
    "    return cor_funct\n"
   ]
  },
  {
   "cell_type": "code",
   "execution_count": 20,
   "metadata": {},
   "outputs": [],
   "source": [
    "# max_eigenvec = W_eigenvectors[W_eigenvalues.argmax()]\n",
    "# linear_coef = np.matmul(change_basis,np.matmul(pauli_matrix_z.toarray(),max_eigenvec))\n",
    "# print('linear coef: ',linear_coef)\n",
    "# vec_res = np.array([0,0])\n",
    "# for a,eigenvec in zip(linear_coef,W_eigenvectors):\n",
    "#     vec_res = vec_res + a*eigenvec\n",
    "# print('vec_res: ',vec_res)\n",
    "# print('vec_original',np.matmul(pauli_matrix_z.toarray(),max_eigenvec))"
   ]
  },
  {
   "cell_type": "code",
   "execution_count": 21,
   "metadata": {},
   "outputs": [
    {
     "name": "stderr",
     "output_type": "stream",
     "text": [
      "c:\\users\\mhjguillermo\\appdata\\local\\programs\\python\\python37\\lib\\site-packages\\numpy\\core\\numeric.py:538: ComplexWarning: Casting complex values to real discards the imaginary part\n",
      "  return array(a, dtype, copy=False, order=order)\n"
     ]
    },
    {
     "data": {
      "text/plain": [
       "Text(0, 0.5, 'C(r)')"
      ]
     },
     "execution_count": 21,
     "metadata": {},
     "output_type": "execute_result"
    },
    {
     "data": {
      "image/png": "[encoded data removed]",
      "text/plain": [
       "<Figure size 432x288 with 1 Axes>"
      ]
     },
     "metadata": {
      "needs_background": "light"
     },
     "output_type": "display_data"
    }
   ],
   "source": [
    "x = np.arange(0,30,1)\n",
    "y = []\n",
    "for r in x:\n",
    "    y.append(correlation_function(W_eigenvectors,W_eigenvalues,r))\n",
    "plt.plot(x, y, 'o', color='black')\n",
    "plt.rc('text', usetex=True)\n",
    "plt.rc('font', family='serif')\n",
    "# text_figure = '$k_BT/J={}$, $h/J={}$'.format(tem,magnetic_field)\n",
    "# plt.text(10, 0.3, text_figure,style='italic',\n",
    "#         bbox={'facecolor': 'white', 'alpha': 0.5, 'pad': 10})\n",
    "plt.title('Correlation function')\n",
    "plt.xlabel('r')\n",
    "plt.ylabel('C(r)')"
   ]
  },
  {
   "cell_type": "code",
   "execution_count": null,
   "metadata": {},
   "outputs": [],
   "source": []
  }
 ],
 "metadata": {
  "kernelspec": {
   "display_name": "Python 3",
   "language": "python",
   "name": "python3"
  },
  "language_info": {
   "codemirror_mode": {
    "name": "ipython",
    "version": 3
   },
   "file_extension": ".py",
   "mimetype": "text/x-python",
   "name": "python",
   "nbconvert_exporter": "python",
   "pygments_lexer": "ipython3",
   "version": "3.7.3"
  }
 },
 "nbformat": 4,
 "nbformat_minor": 4
}
