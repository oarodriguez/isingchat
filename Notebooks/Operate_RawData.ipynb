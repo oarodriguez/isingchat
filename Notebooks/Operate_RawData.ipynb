{
 "cells": [
  {
   "cell_type": "markdown",
   "metadata": {},
   "source": [
    "## Analysis of Raw data\n",
    "This notebook is for the analysis of Ising model with many interactions"
   ]
  },
  {
   "cell_type": "code",
   "execution_count": 1,
   "metadata": {},
   "outputs": [],
   "source": [
    "# packages\n",
    "import numpy as np\n",
    "import pandas as pd\n",
    "import sys\n",
    "import os\n",
    "import glob\n",
    "import math"
   ]
  },
  {
   "cell_type": "code",
   "execution_count": null,
   "metadata": {},
   "outputs": [],
   "source": [
    "# style.use(\"default\")\n",
    "# rcParams[\"text.usetex\"] = False"
   ]
  },
  {
   "cell_type": "code",
   "execution_count": 11,
   "metadata": {},
   "outputs": [],
   "source": [
    "# imports\n",
    "path_import = \"C:\\\\Users\\\\MHJGuillermo\\\\Documents\\\\Doctorado\\\\Ising\\\\Data\\\\VariosVecinos\"\n",
    "file_path = \"RawData_Tpoints_100_Hpoints_100_nv_3_p_2_J1_1._J2_0.25_J3_0.111111_all.csv\"\n",
    "# file_path = \"SpecificHeatMaxvsT_p_5.csv\""
   ]
  },
  {
   "cell_type": "code",
   "execution_count": 12,
   "metadata": {},
   "outputs": [],
   "source": [
    "df = pd.read_csv(os.path.join(path_import,file_path))"
   ]
  },
  {
   "cell_type": "code",
   "execution_count": 13,
   "metadata": {},
   "outputs": [],
   "source": [
    "def convert_to_real_number(string):\n",
    "    list_eigen=[]\n",
    "    eigen=string.replace(\"{\",\"\")\n",
    "    eigen=eigen.replace(\"}\",\"\")\n",
    "    eigen=eigen.split(',')\n",
    "    for value in eigen:\n",
    "        if \" + \" in value:\n",
    "            number = value.split(\" + \")[0]\n",
    "        else:\n",
    "            number = value.split(\" - \")[0]\n",
    "        number =number.replace(\"*^\",\"E\")\n",
    "        list_eigen.append(float(number))\n",
    "    return list_eigen"
   ]
  },
  {
   "cell_type": "code",
   "execution_count": 14,
   "metadata": {},
   "outputs": [],
   "source": [
    "df['EigenVal'] = df['Eigenvalues'].map(convert_to_real_number)"
   ]
  },
  {
   "cell_type": "code",
   "execution_count": 15,
   "metadata": {},
   "outputs": [
    {
     "data": {
      "text/html": [
       "<div>\n",
       "<style scoped>\n",
       "    .dataframe tbody tr th:only-of-type {\n",
       "        vertical-align: middle;\n",
       "    }\n",
       "\n",
       "    .dataframe tbody tr th {\n",
       "        vertical-align: top;\n",
       "    }\n",
       "\n",
       "    .dataframe thead th {\n",
       "        text-align: right;\n",
       "    }\n",
       "</style>\n",
       "<table border=\"1\" class=\"dataframe\">\n",
       "  <thead>\n",
       "    <tr style=\"text-align: right;\">\n",
       "      <th></th>\n",
       "      <th>Tem</th>\n",
       "      <th>h</th>\n",
       "      <th>wmax</th>\n",
       "      <th>λMax</th>\n",
       "      <th>Eigenvalues</th>\n",
       "      <th>FHelm</th>\n",
       "      <th>FHelmTL</th>\n",
       "      <th>EigenVal</th>\n",
       "    </tr>\n",
       "  </thead>\n",
       "  <tbody>\n",
       "    <tr>\n",
       "      <th>0</th>\n",
       "      <td>0.03</td>\n",
       "      <td>0.000</td>\n",
       "      <td>5.059429e+19</td>\n",
       "      <td>1.0</td>\n",
       "      <td>{1., 1., -1.8366674966636892*^-26, 1.836667496...</td>\n",
       "      <td>-1.363710</td>\n",
       "      <td>-1.361111</td>\n",
       "      <td>[1.0, 1.0, -1.8366674966636892e-26, 1.83666749...</td>\n",
       "    </tr>\n",
       "    <tr>\n",
       "      <th>1</th>\n",
       "      <td>0.03</td>\n",
       "      <td>0.003</td>\n",
       "      <td>5.591534e+19</td>\n",
       "      <td>1.0</td>\n",
       "      <td>{0.9999999999999999, 0.8187307530779822, 1.006...</td>\n",
       "      <td>-1.364801</td>\n",
       "      <td>-1.364111</td>\n",
       "      <td>[0.9999999999999999, 0.8187307530779822, 1.006...</td>\n",
       "    </tr>\n",
       "    <tr>\n",
       "      <th>2</th>\n",
       "      <td>0.03</td>\n",
       "      <td>0.006</td>\n",
       "      <td>6.179600e+19</td>\n",
       "      <td>1.0</td>\n",
       "      <td>{1., 0.6703200460356393, -8.237630105656797*^-...</td>\n",
       "      <td>-1.367261</td>\n",
       "      <td>-1.367111</td>\n",
       "      <td>[1.0, 0.6703200460356393, -8.237630105656797e-...</td>\n",
       "    </tr>\n",
       "    <tr>\n",
       "      <th>3</th>\n",
       "      <td>0.03</td>\n",
       "      <td>0.009</td>\n",
       "      <td>6.829515e+19</td>\n",
       "      <td>1.0</td>\n",
       "      <td>{1., 0.5488116360940266, 6.744267614799188*^-2...</td>\n",
       "      <td>-1.370142</td>\n",
       "      <td>-1.370111</td>\n",
       "      <td>[1.0, 0.5488116360940266, 6.744267614799188e-2...</td>\n",
       "    </tr>\n",
       "    <tr>\n",
       "      <th>4</th>\n",
       "      <td>0.03</td>\n",
       "      <td>0.012</td>\n",
       "      <td>7.547781e+19</td>\n",
       "      <td>1.0</td>\n",
       "      <td>{1., 0.4493289641172218, 5.52172291894926*^-22...</td>\n",
       "      <td>-1.373117</td>\n",
       "      <td>-1.373111</td>\n",
       "      <td>[1.0, 0.4493289641172218, 5.52172291894926e-22...</td>\n",
       "    </tr>\n",
       "  </tbody>\n",
       "</table>\n",
       "</div>"
      ],
      "text/plain": [
       "    Tem      h          wmax  λMax  \\\n",
       "0  0.03  0.000  5.059429e+19   1.0   \n",
       "1  0.03  0.003  5.591534e+19   1.0   \n",
       "2  0.03  0.006  6.179600e+19   1.0   \n",
       "3  0.03  0.009  6.829515e+19   1.0   \n",
       "4  0.03  0.012  7.547781e+19   1.0   \n",
       "\n",
       "                                         Eigenvalues     FHelm   FHelmTL  \\\n",
       "0  {1., 1., -1.8366674966636892*^-26, 1.836667496... -1.363710 -1.361111   \n",
       "1  {0.9999999999999999, 0.8187307530779822, 1.006... -1.364801 -1.364111   \n",
       "2  {1., 0.6703200460356393, -8.237630105656797*^-... -1.367261 -1.367111   \n",
       "3  {1., 0.5488116360940266, 6.744267614799188*^-2... -1.370142 -1.370111   \n",
       "4  {1., 0.4493289641172218, 5.52172291894926*^-22... -1.373117 -1.373111   \n",
       "\n",
       "                                            EigenVal  \n",
       "0  [1.0, 1.0, -1.8366674966636892e-26, 1.83666749...  \n",
       "1  [0.9999999999999999, 0.8187307530779822, 1.006...  \n",
       "2  [1.0, 0.6703200460356393, -8.237630105656797e-...  \n",
       "3  [1.0, 0.5488116360940266, 6.744267614799188e-2...  \n",
       "4  [1.0, 0.4493289641172218, 5.52172291894926e-22...  "
      ]
     },
     "execution_count": 15,
     "metadata": {},
     "output_type": "execute_result"
    }
   ],
   "source": [
    "df.head()"
   ]
  },
  {
   "cell_type": "code",
   "execution_count": 29,
   "metadata": {},
   "outputs": [],
   "source": [
    "def calculous_free_energy(tem,wmax,eigenVal):\n",
    "    free_energy = 0\n",
    "    particle_number = 8\n",
    "    partition_funct = 0\n",
    "    for val in eigenVal:\n",
    "        partition_funct += (val)**particle_number\n",
    "    free_energy = -tem * (math.log(partition_funct) + math.log(wmax))\n",
    "    \n",
    "    return free_energy"
   ]
  },
  {
   "cell_type": "code",
   "execution_count": 26,
   "metadata": {},
   "outputs": [
    {
     "data": {
      "text/plain": [
       "[1.0,\n",
       " 1.0,\n",
       " -1.8366674966636892e-26,\n",
       " 1.8366674966557328e-26,\n",
       " -4.200112446566255e-28,\n",
       " -4.200112446566255e-28,\n",
       " 0.0,\n",
       " 0.0]"
      ]
     },
     "execution_count": 26,
     "metadata": {},
     "output_type": "execute_result"
    }
   ],
   "source": [
    "df.iloc[0]['EigenVal']"
   ]
  },
  {
   "cell_type": "code",
   "execution_count": 31,
   "metadata": {},
   "outputs": [],
   "source": [
    "# df['FreeEnergyNum'] = \n",
    "df['FHelm8'] = df.apply(lambda row: calculous_free_energy(row['Tem'],row['wmax'],row['EigenVal']), axis = 1)"
   ]
  },
  {
   "cell_type": "code",
   "execution_count": 52,
   "metadata": {},
   "outputs": [
    {
     "data": {
      "text/html": [
       "<div>\n",
       "<style scoped>\n",
       "    .dataframe tbody tr th:only-of-type {\n",
       "        vertical-align: middle;\n",
       "    }\n",
       "\n",
       "    .dataframe tbody tr th {\n",
       "        vertical-align: top;\n",
       "    }\n",
       "\n",
       "    .dataframe thead th {\n",
       "        text-align: right;\n",
       "    }\n",
       "</style>\n",
       "<table border=\"1\" class=\"dataframe\">\n",
       "  <thead>\n",
       "    <tr style=\"text-align: right;\">\n",
       "      <th></th>\n",
       "      <th>Tem</th>\n",
       "      <th>h</th>\n",
       "      <th>wmax</th>\n",
       "      <th>λMax</th>\n",
       "      <th>Eigenvalues</th>\n",
       "      <th>FHelm</th>\n",
       "      <th>FHelmTL</th>\n",
       "      <th>EigenVal</th>\n",
       "      <th>FHelm8</th>\n",
       "    </tr>\n",
       "  </thead>\n",
       "  <tbody>\n",
       "    <tr>\n",
       "      <th>9995</th>\n",
       "      <td>3.0</td>\n",
       "      <td>0.285</td>\n",
       "      <td>1.731008</td>\n",
       "      <td>1.257601</td>\n",
       "      <td>{1.2576008536506351 + 0.*I, 0.7200578020833657...</td>\n",
       "      <td>-2.338035</td>\n",
       "      <td>-2.333729</td>\n",
       "      <td>[1.2576008536506351, 0.7200578020833657, -0.14...</td>\n",
       "      <td>-7.181506</td>\n",
       "    </tr>\n",
       "    <tr>\n",
       "      <th>9996</th>\n",
       "      <td>3.0</td>\n",
       "      <td>0.288</td>\n",
       "      <td>1.732740</td>\n",
       "      <td>1.256683</td>\n",
       "      <td>{1.2566827794240596 + 0.*I, 0.7191945853568011...</td>\n",
       "      <td>-2.338829</td>\n",
       "      <td>-2.334538</td>\n",
       "      <td>[1.2566827794240596, 0.7191945853568011, -0.14...</td>\n",
       "      <td>-7.166850</td>\n",
       "    </tr>\n",
       "    <tr>\n",
       "      <th>9997</th>\n",
       "      <td>3.0</td>\n",
       "      <td>0.291</td>\n",
       "      <td>1.734473</td>\n",
       "      <td>1.255769</td>\n",
       "      <td>{1.255768641591151 + 0.*I, 0.7183310672681585 ...</td>\n",
       "      <td>-2.339629</td>\n",
       "      <td>-2.335355</td>\n",
       "      <td>[1.255768641591151, 0.7183310672681585, -0.146...</td>\n",
       "      <td>-7.152257</td>\n",
       "    </tr>\n",
       "    <tr>\n",
       "      <th>9998</th>\n",
       "      <td>3.0</td>\n",
       "      <td>0.294</td>\n",
       "      <td>1.736208</td>\n",
       "      <td>1.254858</td>\n",
       "      <td>{1.2548584245178942 + 0.*I, 0.7174672561056432...</td>\n",
       "      <td>-2.340438</td>\n",
       "      <td>-2.336179</td>\n",
       "      <td>[1.2548584245178942, 0.7174672561056432, -0.14...</td>\n",
       "      <td>-7.137725</td>\n",
       "    </tr>\n",
       "    <tr>\n",
       "      <th>9999</th>\n",
       "      <td>3.0</td>\n",
       "      <td>0.297</td>\n",
       "      <td>1.737946</td>\n",
       "      <td>1.253952</td>\n",
       "      <td>{1.2539521125815059 + 0.*I, 0.7166031601608589...</td>\n",
       "      <td>-2.341254</td>\n",
       "      <td>-2.337012</td>\n",
       "      <td>[1.2539521125815059, 0.7166031601608589, -0.14...</td>\n",
       "      <td>-7.123254</td>\n",
       "    </tr>\n",
       "  </tbody>\n",
       "</table>\n",
       "</div>"
      ],
      "text/plain": [
       "      Tem      h      wmax      λMax  \\\n",
       "9995  3.0  0.285  1.731008  1.257601   \n",
       "9996  3.0  0.288  1.732740  1.256683   \n",
       "9997  3.0  0.291  1.734473  1.255769   \n",
       "9998  3.0  0.294  1.736208  1.254858   \n",
       "9999  3.0  0.297  1.737946  1.253952   \n",
       "\n",
       "                                            Eigenvalues     FHelm   FHelmTL  \\\n",
       "9995  {1.2576008536506351 + 0.*I, 0.7200578020833657... -2.338035 -2.333729   \n",
       "9996  {1.2566827794240596 + 0.*I, 0.7191945853568011... -2.338829 -2.334538   \n",
       "9997  {1.255768641591151 + 0.*I, 0.7183310672681585 ... -2.339629 -2.335355   \n",
       "9998  {1.2548584245178942 + 0.*I, 0.7174672561056432... -2.340438 -2.336179   \n",
       "9999  {1.2539521125815059 + 0.*I, 0.7166031601608589... -2.341254 -2.337012   \n",
       "\n",
       "                                               EigenVal    FHelm8  \n",
       "9995  [1.2576008536506351, 0.7200578020833657, -0.14... -7.181506  \n",
       "9996  [1.2566827794240596, 0.7191945853568011, -0.14... -7.166850  \n",
       "9997  [1.255768641591151, 0.7183310672681585, -0.146... -7.152257  \n",
       "9998  [1.2548584245178942, 0.7174672561056432, -0.14... -7.137725  \n",
       "9999  [1.2539521125815059, 0.7166031601608589, -0.14... -7.123254  "
      ]
     },
     "execution_count": 52,
     "metadata": {},
     "output_type": "execute_result"
    }
   ],
   "source": [
    "df.tail()"
   ]
  },
  {
   "cell_type": "code",
   "execution_count": 36,
   "metadata": {},
   "outputs": [
    {
     "data": {
      "text/plain": [
       "<matplotlib.axes._subplots.AxesSubplot at 0x23d51a4b048>"
      ]
     },
     "execution_count": 36,
     "metadata": {},
     "output_type": "execute_result"
    },
    {
     "data": {
      "image/png": "[encoded data removed]",
      "text/plain": [
       "<Figure size 432x288 with 1 Axes>"
      ]
     },
     "metadata": {
      "needs_background": "light"
     },
     "output_type": "display_data"
    }
   ],
   "source": [
    "df.loc[df['h']==0].plot(x='Tem',y='FHelm8')"
   ]
  },
  {
   "cell_type": "code",
   "execution_count": 38,
   "metadata": {},
   "outputs": [],
   "source": [
    "def calculous_free_energy_tl(tem,wmax,lambda_max):\n",
    "    return -tem *(math.log(lambda_max) + math.log(wmax))"
   ]
  },
  {
   "cell_type": "markdown",
   "metadata": {},
   "source": [
    "# Interpolation"
   ]
  },
  {
   "cell_type": "code",
   "execution_count": 40,
   "metadata": {},
   "outputs": [],
   "source": [
    "    from scipy.interpolate import interp1d"
   ]
  },
  {
   "cell_type": "code",
   "execution_count": 43,
   "metadata": {},
   "outputs": [],
   "source": [
    "df_free_energy = df.loc[df['h'] == 0][['Tem','FHelm']]"
   ]
  },
  {
   "cell_type": "code",
   "execution_count": 48,
   "metadata": {},
   "outputs": [],
   "source": [
    "x = df_free_energy['Tem'].values\n",
    "y = df_free_energy['FHelm'].values\n",
    "free_energy_interpolate = interp1d(x,y)"
   ]
  },
  {
   "cell_type": "code",
   "execution_count": 59,
   "metadata": {},
   "outputs": [
    {
     "data": {
      "image/png": "[encoded data removed]",
      "text/plain": [
       "<Figure size 432x288 with 1 Axes>"
      ]
     },
     "metadata": {
      "needs_background": "light"
     },
     "output_type": "display_data"
    }
   ],
   "source": [
    "xnew = np.linspace(0.03, 3, num=500, endpoint=False)\n",
    "import matplotlib.pyplot as plt\n",
    "plt.plot(x,y,'o',xnew,free_energy_interpolate(xnew), '-' )\n",
    "plt.legend(['data','linear'], loc='best')\n",
    "plt.show()"
   ]
  },
  {
   "cell_type": "code",
   "execution_count": 62,
   "metadata": {},
   "outputs": [],
   "source": [
    "from scipy.misc import derivative\n",
    "def specific_heat(tem):\n",
    "    return -tem*derivative(free_energy_interpolate,tem,n=2,dx=1e-3)"
   ]
  },
  {
   "cell_type": "code",
   "execution_count": 65,
   "metadata": {},
   "outputs": [
    {
     "data": {
      "image/png": "[encoded data removed]",
      "text/plain": [
       "<Figure size 432x288 with 1 Axes>"
      ]
     },
     "metadata": {
      "needs_background": "light"
     },
     "output_type": "display_data"
    }
   ],
   "source": [
    "xnew = np.linspace(0.031, 2.99, num=500, endpoint=False)\n",
    "import matplotlib.pyplot as plt\n",
    "plt.plot(xnew,specific_heat(xnew), '-' )\n",
    "plt.legend(['specific_heat'], loc='best')\n",
    "plt.show()"
   ]
  },
  {
   "cell_type": "code",
   "execution_count": 2,
   "metadata": {},
   "outputs": [
    {
     "data": {
      "text/plain": [
       "array([1.        , 0.25      , 0.11111111, 0.0625    , 0.04      ,\n",
       "       0.02777778, 0.02040816, 0.015625  , 0.01234568, 0.01      ])"
      ]
     },
     "execution_count": 2,
     "metadata": {},
     "output_type": "execute_result"
    }
   ],
   "source": [
    "1/np.arange(1,11,1)**2"
   ]
  },
  {
   "cell_type": "code",
   "execution_count": 4,
   "metadata": {},
   "outputs": [
    {
     "data": {
      "text/plain": [
       "512"
      ]
     },
     "execution_count": 4,
     "metadata": {},
     "output_type": "execute_result"
    }
   ],
   "source": [
    "2**9"
   ]
  },
  {
   "cell_type": "code",
   "execution_count": null,
   "metadata": {},
   "outputs": [],
   "source": []
  }
 ],
 "metadata": {
  "kernelspec": {
   "display_name": "Python 3",
   "language": "python",
   "name": "python3"
  },
  "language_info": {
   "codemirror_mode": {
    "name": "ipython",
    "version": 3
   },
   "file_extension": ".py",
   "mimetype": "text/x-python",
   "name": "python",
   "nbconvert_exporter": "python",
   "pygments_lexer": "ipython3",
   "version": "3.7.3"
  }
 },
 "nbformat": 4,
 "nbformat_minor": 4
}
