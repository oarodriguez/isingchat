{
 "cells": [
  {
   "cell_type": "markdown",
   "metadata": {},
   "source": [
    "# Notebook to process uncertainty for inverse of temperature"
   ]
  },
  {
   "cell_type": "code",
   "execution_count": 10,
   "metadata": {},
   "outputs": [],
   "source": [
    "import os\n",
    "import numpy as np\n",
    "import time\n",
    "import pandas as pd"
   ]
  },
  {
   "cell_type": "code",
   "execution_count": 16,
   "metadata": {},
   "outputs": [
    {
     "name": "stdout",
     "output_type": "stream",
     "text": [
      "Writing ratio_0.5\\unitcell-2_ratio-0.5_all_inv_Tmax_uncertainty.csv file\n",
      "Writing ratio_0.75\\unitcell-2_ratio-0.75_all_inv_Tmax_uncertainty.csv file\n",
      "Writing ratio_1.25\\unitcell-2_ratio-1.25_all_inv_Tmax_uncertainty.csv file\n",
      "Writing ratio_1.5\\unitcell-2_ratio-1.5_all_inv_Tmax_uncertainty.csv file\n",
      "Writing ratio_1.75\\unitcell-2_ratio-1.75_all_inv_Tmax_uncertainty.csv file\n",
      "Writing ratio_2\\unitcell-2_ratio-2_all_inv_Tmax_uncertainty.csv file\n"
     ]
    },
    {
     "name": "stderr",
     "output_type": "stream",
     "text": [
      "C:\\Users\\MHJGuillermo\\PycharmProjects\\Doctorado\\Ising\\isingchat\\lib\\site-packages\\ipykernel_launcher.py:32: SettingWithCopyWarning: \n",
      "A value is trying to be set on a copy of a slice from a DataFrame.\n",
      "Try using .loc[row_indexer,col_indexer] = value instead\n",
      "\n",
      "See the caveats in the documentation: https://pandas.pydata.org/pandas-docs/stable/user_guide/indexing.html#returning-a-view-versus-a-copy\n"
     ]
    }
   ],
   "source": [
    "ratios = [0.5,0.75,1.25,1.5,1.75,2]\n",
    "for ratio in ratios:\n",
    "    #infinite\n",
    "    data_path=\"C:\\\\Users\\\\MHJGuillermo\\\\PycharmProjects\\\\Doctorado\\\\Ising\\\\isingchat\\\\data\\\\imperfect\\\\infinite-size\\\\unitcell_2\"\n",
    "    file_all_tc = 'ratio_{}\\\\unitcell-2_ratio-{}_all_Tmax.csv'.format(ratio,ratio)\n",
    "    # #finite\n",
    "    # data_path=os.path.join(\"C:\\\\Users\\\\MHJGuillermo\\\\PycharmProjects\\\\Doctorado\\\\Ising\\\\isingchat\\\\venv\\\\data\\\\regular\\\\finite-size\")\n",
    "    # file_all_tc = 'finite_all_Tc.csv'\n",
    "\n",
    "    df_all_tc = pd.read_csv(os.path.join(data_path,file_all_tc))\n",
    "\n",
    "    # infinite\n",
    "    file_all_tc_uncert = 'unitcell-2_all_Tmax_uncertainty.csv'\n",
    "    # # finite\n",
    "    # file_all_tc_uncert = 'finite_all_Tc_uncert.csv'\n",
    "    df_all_tc_uncert= pd.read_csv(os.path.join(data_path,file_all_tc_uncert))\n",
    "\n",
    "    COLUMNS = ['P1.0',\n",
    "    #            'P1.05',\n",
    "               'P1.1',\n",
    "    #            'P1.2',\n",
    "    #            'P1.3',\n",
    "    #            'P1.4',\n",
    "               'P1.5',\n",
    "    #            'P1.6',\n",
    "    #            'P1.7',\n",
    "    #            'P1.8',\n",
    "               'P1.9',\n",
    "               'P2.0']\n",
    "    df_all_inv_tc_uncert=df_all_tc[['nv']]\n",
    "    for col in COLUMNS:\n",
    "        df_all_inv_tc_uncert[col] = (df_all_tc_uncert[col]/(df_all_tc[col]**2))\n",
    "    # Save data\n",
    "    #infinite\n",
    "    save_file = 'ratio_{}\\\\unitcell-2_ratio-{}_all_inv_Tmax_uncertainty.csv'.format(ratio,ratio)\n",
    "    # #finite\n",
    "    # save_file='finite_all_inv_Tc_uncertainty.csv'\n",
    "\n",
    "    df_all_inv_tc_uncert.to_csv(os.path.join(data_path,save_file),index=False)\n",
    "    print(\"Writing {} file\".format(save_file))"
   ]
  }
 ],
 "metadata": {
  "kernelspec": {
   "display_name": "Python 3",
   "language": "python",
   "name": "python3"
  },
  "language_info": {
   "codemirror_mode": {
    "name": "ipython",
    "version": 3
   },
   "file_extension": ".py",
   "mimetype": "text/x-python",
   "name": "python",
   "nbconvert_exporter": "python",
   "pygments_lexer": "ipython3",
   "version": "3.7.3"
  }
 },
 "nbformat": 4,
 "nbformat_minor": 4
}
