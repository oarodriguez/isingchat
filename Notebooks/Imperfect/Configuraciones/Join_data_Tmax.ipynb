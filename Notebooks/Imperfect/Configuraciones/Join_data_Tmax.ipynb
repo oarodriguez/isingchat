{
 "cells": [
  {
   "cell_type": "markdown",
   "metadata": {},
   "source": [
    "# Join T_max data in one file"
   ]
  },
  {
   "cell_type": "code",
   "execution_count": 1,
   "metadata": {},
   "outputs": [],
   "source": [
    "import os\n",
    "import pandas as pd\n",
    "import numpy as np\n",
    "\n",
    "# Global vars\n",
    "DATA_PATH=\"C:\\\\Users\\\\MHJGuillermo\\\\PycharmProjects\\\\Doctorado\\\\Ising\\\\isingchat\\\\data\\\\imperfect\\\\infinite-size\\\\unitcell_2\""
   ]
  },
  {
   "cell_type": "code",
   "execution_count": 2,
   "metadata": {},
   "outputs": [
    {
     "name": "stdout",
     "output_type": "stream",
     "text": [
      "update P1.0\n",
      "update P1.1\n",
      "update P1.5\n",
      "update P1.9\n",
      "update P2.0\n",
      "Writing C:\\Users\\MHJGuillermo\\PycharmProjects\\Doctorado\\Ising\\isingchat\\data\\imperfect\\infinite-size\\unitcell_2\\ratio_0.05\\unitcell-2_ratio-0.05_all_Tmax.csv file.\n",
      "Writing C:\\Users\\MHJGuillermo\\PycharmProjects\\Doctorado\\Ising\\isingchat\\data\\imperfect\\infinite-size\\unitcell_2\\ratio_0.05\\unitcell-2_ratio-0.05_all_max_Cv.csv file.\n",
      "Writing C:\\Users\\MHJGuillermo\\PycharmProjects\\Doctorado\\Ising\\isingchat\\data\\imperfect\\infinite-size\\unitcell_2\\ratio_0.05\\unitcell-2_ratio-0.05_all_inv_Tmax.csv file.\n",
      "update P1.0\n",
      "update P1.1\n",
      "update P1.5\n",
      "update P1.9\n",
      "update P2.0\n",
      "Writing C:\\Users\\MHJGuillermo\\PycharmProjects\\Doctorado\\Ising\\isingchat\\data\\imperfect\\infinite-size\\unitcell_2\\ratio_0.1\\unitcell-2_ratio-0.1_all_Tmax.csv file.\n",
      "Writing C:\\Users\\MHJGuillermo\\PycharmProjects\\Doctorado\\Ising\\isingchat\\data\\imperfect\\infinite-size\\unitcell_2\\ratio_0.1\\unitcell-2_ratio-0.1_all_max_Cv.csv file.\n",
      "Writing C:\\Users\\MHJGuillermo\\PycharmProjects\\Doctorado\\Ising\\isingchat\\data\\imperfect\\infinite-size\\unitcell_2\\ratio_0.1\\unitcell-2_ratio-0.1_all_inv_Tmax.csv file.\n",
      "update P1.0\n",
      "update P1.1\n",
      "update P1.5\n",
      "update P1.9\n",
      "update P2.0\n",
      "Writing C:\\Users\\MHJGuillermo\\PycharmProjects\\Doctorado\\Ising\\isingchat\\data\\imperfect\\infinite-size\\unitcell_2\\ratio_0.25\\unitcell-2_ratio-0.25_all_Tmax.csv file.\n",
      "Writing C:\\Users\\MHJGuillermo\\PycharmProjects\\Doctorado\\Ising\\isingchat\\data\\imperfect\\infinite-size\\unitcell_2\\ratio_0.25\\unitcell-2_ratio-0.25_all_max_Cv.csv file.\n",
      "Writing C:\\Users\\MHJGuillermo\\PycharmProjects\\Doctorado\\Ising\\isingchat\\data\\imperfect\\infinite-size\\unitcell_2\\ratio_0.25\\unitcell-2_ratio-0.25_all_inv_Tmax.csv file.\n"
     ]
    }
   ],
   "source": [
    "ratios = [0.05,0.1,0.25]\n",
    "list_exp_p = [1.0,1.1,1.5,1.9,2.0]\n",
    "for ratio in ratios:\n",
    "    ratio_path = os.path.join(DATA_PATH,\"ratio_{}\".format(ratio))\n",
    "    file_ratio_Tmax = os.path.join(ratio_path,'unitcell-2_ratio-{}_all_Tmax.csv'.format(ratio))\n",
    "    if os.path.isfile(file_ratio_Tmax):\n",
    "        df_Tmax = pd.read_csv(file_ratio_Tmax)\n",
    "    else:\n",
    "        df_Tmax = pd.DataFrame(columns=[\"nv\",\"P1.0\",\"P1.05\",\"P1.1\",\"P1.2\",\"P1.3\",\"P1.4\",\"P1.5\",\"P1.6\",\"P1.7\",\"P1.8\",\"P1.9\",\"P2.0\"])\n",
    "        df_Tmax[\"nv\"] = np.arange(2,30) \n",
    "    file_ratio_Cvmax = os.path.join(ratio_path,'unitcell-2_ratio-{}_all_max_Cv.csv'.format(ratio))\n",
    "    if os.path.isfile(file_ratio_Cvmax):\n",
    "        df_Cvmax = pd.read_csv(file_ratio_Cvmax)\n",
    "    else:\n",
    "        df_Cvmax = df_Tmax.copy()\n",
    "    for exp_p in list_exp_p:\n",
    "        exp_path = os.path.join(DATA_PATH,\"ratio_{}/p_{}\".format(ratio,exp_p))\n",
    "        file_exp_max = os.path.join(exp_path,'exp_p-{}_max_cv.csv'.format(exp_p))\n",
    "        if os.path.isfile(file_exp_max):\n",
    "            df = pd.read_csv(file_exp_max,index_col=0)\n",
    "            insert_Tmax = df.loc['temp_at_max_Cv'].to_dict()\n",
    "            df_Tmax[\"P{}\".format(exp_p)] = df_Tmax[\"nv\"].apply(lambda x: insert_Tmax.get(str(x)))\n",
    "            insert_Cvmax = df.loc['max_Cv'].to_dict()\n",
    "            df_Cvmax[\"P{}\".format(exp_p)] = df_Cvmax[\"nv\"].apply(lambda x: insert_Cvmax.get(str(x)))\n",
    "#             df_inv_Tmax[\"P{}\".format(exp_p)] = df_inv_Tmax[\"1/nv\"].apply(lambda x: insert_inv_Tmax.get(str(x)))\n",
    "            print(\"update P{}\".format(exp_p))\n",
    "        else: \n",
    "            print(\"There is not {} file.\".format(file_exp_max))\n",
    "    print(\"Writing {} file.\".format(file_ratio_Tmax))\n",
    "    df_Tmax.to_csv(file_ratio_Tmax,index=False)\n",
    "    print(\"Writing {} file.\".format(file_ratio_Cvmax))\n",
    "    df_Cvmax.to_csv(file_ratio_Cvmax,index=False)\n",
    "    file_ratio_inv_Tmax = os.path.join(ratio_path,'unitcell-2_ratio-{}_all_inv_Tmax.csv'.format(ratio))\n",
    "    df_inv_Tmax = 1/df_Tmax\n",
    "    df_inv_Tmax.rename(columns = {'nv': '1/nv'}, inplace = True)\n",
    "    print(\"Writing {} file.\".format(file_ratio_inv_Tmax))\n",
    "    df_inv_Tmax.to_csv(file_ratio_inv_Tmax,index=False)\n"
   ]
  }
 ],
 "metadata": {
  "kernelspec": {
   "display_name": "Python 3",
   "language": "python",
   "name": "python3"
  },
  "language_info": {
   "codemirror_mode": {
    "name": "ipython",
    "version": 3
   },
   "file_extension": ".py",
   "mimetype": "text/x-python",
   "name": "python",
   "nbconvert_exporter": "python",
   "pygments_lexer": "ipython3",
   "version": "3.7.3"
  }
 },
 "nbformat": 4,
 "nbformat_minor": 4
}
