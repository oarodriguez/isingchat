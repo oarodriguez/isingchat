{
 "cells": [
  {
   "cell_type": "markdown",
   "metadata": {},
   "source": [
    "# Join T_c data in one file"
   ]
  },
  {
   "cell_type": "code",
   "execution_count": 1,
   "metadata": {},
   "outputs": [],
   "source": [
    "import os\n",
    "import pandas as pd\n",
    "import numpy as np\n",
    "\n",
    "# Global vars\n",
    "DATA_PATH=\"C:\\\\Users\\\\MHJGuillermo\\\\PycharmProjects\\\\Doctorado\\\\Ising\\\\isingchat\\\\data\\\\imperfect\\\\infinite-size\\\\unitcell_2\""
   ]
  },
  {
   "cell_type": "code",
   "execution_count": 26,
   "metadata": {},
   "outputs": [
    {
     "name": "stdout",
     "output_type": "stream",
     "text": [
      "Writing C:\\Users\\MHJGuillermo\\PycharmProjects\\Doctorado\\Ising\\isingchat\\data\\imperfect\\infinite-size\\unitcell_2\\Extrapolation_Tc_hurwitz_2_parms_with_nv_5plus_and_error_v30nv_extrapol_values.csv file.\n"
     ]
    }
   ],
   "source": [
    "ratios = [0.25,0.5,0.75,1.25,1.5,1.75,2]\n",
    "list_exp_p = [1.0,1.1,1.5,1.9,2.0]\n",
    "df_Tc = pd.DataFrame(columns=[\"ratio\",\"P1.0\",\"P1.1\",\"P1.5\",\"P1.9\",\"P2.0\"])\n",
    "for ratio in ratios:\n",
    "    ratio_path = os.path.join(DATA_PATH,\"ratio_{}\\\\Extrapolation\".format(ratio))\n",
    "    file_ratio_Tc = os.path.join(ratio_path,'inv_Tc_vs_inv_nv_extrapol_hurwitz_2_parms_with_nv_5plus_and_error_v30nv_extrapol_values.csv')\n",
    "    if not os.path.isfile(file_ratio_Tc):\n",
    "        print('There is no data for file: {}'.format(file_ratio_Tc))\n",
    "        pass\n",
    "    df_Tmax = pd.read_csv(file_ratio_Tc)\n",
    "    df_ratio_Tc = pd.read_csv(file_ratio_Tc,index_col=0)\n",
    "    insert = df_ratio_Tc.loc['infty']\n",
    "    insert['ratio'] = ratio\n",
    "    df_Tc = df_Tc.append(insert)\n",
    "\n",
    "file_Tc = os.path.join(DATA_PATH,\n",
    "                       \"Extrapolation_Tc_hurwitz_2_parms_with_nv_5plus_and_error_v30nv_extrapol_values.csv\")\n",
    "print(\"Writing {} file.\".format(file_Tc))\n",
    "# df_inv_Tmax.to_csv(file_ratio_inv_Tmax,index=False)\n",
    "df_Tc.to_csv(file_Tc,index=False)"
   ]
  },
  {
   "cell_type": "code",
   "execution_count": 27,
   "metadata": {},
   "outputs": [
    {
     "data": {
      "text/html": [
       "<div>\n",
       "<style scoped>\n",
       "    .dataframe tbody tr th:only-of-type {\n",
       "        vertical-align: middle;\n",
       "    }\n",
       "\n",
       "    .dataframe tbody tr th {\n",
       "        vertical-align: top;\n",
       "    }\n",
       "\n",
       "    .dataframe thead th {\n",
       "        text-align: right;\n",
       "    }\n",
       "</style>\n",
       "<table border=\"1\" class=\"dataframe\">\n",
       "  <thead>\n",
       "    <tr style=\"text-align: right;\">\n",
       "      <th></th>\n",
       "      <th>ratio</th>\n",
       "      <th>P1.0</th>\n",
       "      <th>P1.1</th>\n",
       "      <th>P1.5</th>\n",
       "      <th>P1.9</th>\n",
       "      <th>P2.0</th>\n",
       "    </tr>\n",
       "  </thead>\n",
       "  <tbody>\n",
       "    <tr>\n",
       "      <th>infty</th>\n",
       "      <td>0.25</td>\n",
       "      <td>0.0</td>\n",
       "      <td>0.032292</td>\n",
       "      <td>0.165543</td>\n",
       "      <td>0.288555</td>\n",
       "      <td>0.316429</td>\n",
       "    </tr>\n",
       "    <tr>\n",
       "      <th>infty</th>\n",
       "      <td>0.50</td>\n",
       "      <td>0.0</td>\n",
       "      <td>0.039723</td>\n",
       "      <td>0.205729</td>\n",
       "      <td>0.361800</td>\n",
       "      <td>0.397833</td>\n",
       "    </tr>\n",
       "    <tr>\n",
       "      <th>infty</th>\n",
       "      <td>0.75</td>\n",
       "      <td>0.0</td>\n",
       "      <td>0.047148</td>\n",
       "      <td>0.245805</td>\n",
       "      <td>0.432844</td>\n",
       "      <td>0.475563</td>\n",
       "    </tr>\n",
       "    <tr>\n",
       "      <th>infty</th>\n",
       "      <td>1.25</td>\n",
       "      <td>0.0</td>\n",
       "      <td>0.062141</td>\n",
       "      <td>0.324645</td>\n",
       "      <td>0.562750</td>\n",
       "      <td>0.613110</td>\n",
       "    </tr>\n",
       "    <tr>\n",
       "      <th>infty</th>\n",
       "      <td>1.50</td>\n",
       "      <td>0.0</td>\n",
       "      <td>0.069693</td>\n",
       "      <td>0.361055</td>\n",
       "      <td>0.617879</td>\n",
       "      <td>0.671017</td>\n",
       "    </tr>\n",
       "    <tr>\n",
       "      <th>infty</th>\n",
       "      <td>1.75</td>\n",
       "      <td>0.0</td>\n",
       "      <td>0.077176</td>\n",
       "      <td>0.398090</td>\n",
       "      <td>0.670503</td>\n",
       "      <td>0.726401</td>\n",
       "    </tr>\n",
       "    <tr>\n",
       "      <th>infty</th>\n",
       "      <td>2.00</td>\n",
       "      <td>0.0</td>\n",
       "      <td>0.084895</td>\n",
       "      <td>0.433653</td>\n",
       "      <td>0.717286</td>\n",
       "      <td>0.772694</td>\n",
       "    </tr>\n",
       "  </tbody>\n",
       "</table>\n",
       "</div>"
      ],
      "text/plain": [
       "       ratio  P1.0      P1.1      P1.5      P1.9      P2.0\n",
       "infty   0.25   0.0  0.032292  0.165543  0.288555  0.316429\n",
       "infty   0.50   0.0  0.039723  0.205729  0.361800  0.397833\n",
       "infty   0.75   0.0  0.047148  0.245805  0.432844  0.475563\n",
       "infty   1.25   0.0  0.062141  0.324645  0.562750  0.613110\n",
       "infty   1.50   0.0  0.069693  0.361055  0.617879  0.671017\n",
       "infty   1.75   0.0  0.077176  0.398090  0.670503  0.726401\n",
       "infty   2.00   0.0  0.084895  0.433653  0.717286  0.772694"
      ]
     },
     "execution_count": 27,
     "metadata": {},
     "output_type": "execute_result"
    }
   ],
   "source": [
    "df_Tc"
   ]
  },
  {
   "cell_type": "code",
   "execution_count": null,
   "metadata": {},
   "outputs": [],
   "source": []
  }
 ],
 "metadata": {
  "kernelspec": {
   "display_name": "Python 3",
   "language": "python",
   "name": "python3"
  },
  "language_info": {
   "codemirror_mode": {
    "name": "ipython",
    "version": 3
   },
   "file_extension": ".py",
   "mimetype": "text/x-python",
   "name": "python",
   "nbconvert_exporter": "python",
   "pygments_lexer": "ipython3",
   "version": "3.7.3"
  }
 },
 "nbformat": 4,
 "nbformat_minor": 4
}
