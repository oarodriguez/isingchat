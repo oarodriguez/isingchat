{
 "cells": [
  {
   "cell_type": "markdown",
   "metadata": {},
   "source": [
    "## Create .yaml file to get the missing data"
   ]
  },
  {
   "cell_type": "code",
   "execution_count": 1,
   "metadata": {},
   "outputs": [],
   "source": [
    "import os\n",
    "import numpy as np\n",
    "import time\n",
    "import pandas as pd\n",
    "from pathlib import Path\n",
    "\n",
    "BASE_PATH = \"C:\\\\Users\\\\MHJGuillermo\\\\PycharmProjects\\\\Doctorado\\\\Ising\\\\isingchat\\\\venv\"\n",
    "DATA_PATH = Path(os.path.join(BASE_PATH,\"data\\\\regular\\\\finite-size\\\\\")).resolve()"
   ]
  },
  {
   "cell_type": "markdown",
   "metadata": {},
   "source": [
    "### Finding the critical temperature using extrapol"
   ]
  },
  {
   "cell_type": "code",
   "execution_count": 13,
   "metadata": {},
   "outputs": [],
   "source": [
    "def serie_divergente(n: int,p: float, z: float=1, a: float=1):\n",
    "    res = 0\n",
    "    for i in np.arange(0,n,1):\n",
    "        res = res + z**i/((i+a)**p)\n",
    "    return res\n",
    "\n",
    "\n",
    "def model_function(x: float,p,coefs):\n",
    "    \"\"\"J/k_BT model, x = nv\"\"\"\n",
    "    a1,a2 = coefs\n",
    "    return a1*(1/serie_divergente(x,p,z=1,a=a2))"
   ]
  },
  {
   "cell_type": "code",
   "execution_count": 3,
   "metadata": {},
   "outputs": [],
   "source": [
    "## get points for finite\n",
    "# get points of Cv_mx\n",
    "data_path = Path(\"../../data/regular/finite-size\").resolve()\n",
    "file_all_tc = 'finite_all_inv_Tc.csv'\n",
    "df_inv_all_tc_finite = pd.read_csv(os.path.join(data_path,file_all_tc))\n",
    "# get params of model\n",
    "file_params = \"finite_inv_Tc_vs_inv_nv_extrapol_gen_zeta_2_parms_with_nv_3plus_params_curves.csv\"\n",
    "df_params_finite = pd.read_csv(os.path.join(data_path,\"Extrapolation\",file_params),index_col=0)\n",
    "# get extrapol val\n",
    "file_extrapol_val = \"finite_inv_Tc_vs_inv_nv_extrapol_gen_zeta_2_parms_with_nv_3plus_extrapol_values.csv\"\n",
    "df_extrapol_val_finite = pd.read_csv(os.path.join(data_path,\"Extrapolation\",file_extrapol_val),index_col=0)"
   ]
  },
  {
   "cell_type": "code",
   "execution_count": 15,
   "metadata": {},
   "outputs": [
    {
     "name": "stdout",
     "output_type": "stream",
     "text": [
      "The directory C:\\Users\\MHJGuillermo\\PycharmProjects\\Doctorado\\Ising\\isingchat\\venv\\data\\regular\\finite-size\\p_1.0 has been created before\n",
      "coefs: [0.45867517 2.59767024]\n",
      "extrapol_temp: 3.973879824937135\n",
      "saving file C:\\Users\\MHJGuillermo\\PycharmProjects\\Doctorado\\Ising\\isingchat\\venv\\data\\regular\\finite-size\\p_1.0\\p-1.0_nv-11_h-0_eig-2048.yml\n",
      "coefs: [0.45867517 2.59767024]\n",
      "extrapol_temp: 4.134215535799181\n",
      "saving file C:\\Users\\MHJGuillermo\\PycharmProjects\\Doctorado\\Ising\\isingchat\\venv\\data\\regular\\finite-size\\p_1.0\\p-1.0_nv-12_h-0_eig-4096.yml\n",
      "The directory C:\\Users\\MHJGuillermo\\PycharmProjects\\Doctorado\\Ising\\isingchat\\venv\\data\\regular\\finite-size\\p_1.05 has been created before\n",
      "coefs: [0.46397066 2.40751578]\n",
      "extrapol_temp: 3.781753639288378\n",
      "saving file C:\\Users\\MHJGuillermo\\PycharmProjects\\Doctorado\\Ising\\isingchat\\venv\\data\\regular\\finite-size\\p_1.05\\p-1.05_nv-11_h-0_eig-2048.yml\n",
      "coefs: [0.46397066 2.40751578]\n",
      "extrapol_temp: 3.922940325601259\n",
      "saving file C:\\Users\\MHJGuillermo\\PycharmProjects\\Doctorado\\Ising\\isingchat\\venv\\data\\regular\\finite-size\\p_1.05\\p-1.05_nv-12_h-0_eig-4096.yml\n",
      "The directory C:\\Users\\MHJGuillermo\\PycharmProjects\\Doctorado\\Ising\\isingchat\\venv\\data\\regular\\finite-size\\p_1.1 has been created before\n",
      "coefs: [0.46898029 2.24871015]\n",
      "extrapol_temp: 3.604733624599819\n",
      "saving file C:\\Users\\MHJGuillermo\\PycharmProjects\\Doctorado\\Ising\\isingchat\\venv\\data\\regular\\finite-size\\p_1.1\\p-1.1_nv-11_h-0_eig-2048.yml\n",
      "coefs: [0.46898029 2.24871015]\n",
      "extrapol_temp: 3.729028852282576\n",
      "saving file C:\\Users\\MHJGuillermo\\PycharmProjects\\Doctorado\\Ising\\isingchat\\venv\\data\\regular\\finite-size\\p_1.1\\p-1.1_nv-12_h-0_eig-4096.yml\n",
      "The directory C:\\Users\\MHJGuillermo\\PycharmProjects\\Doctorado\\Ising\\isingchat\\venv\\data\\regular\\finite-size\\p_1.2 has been created before\n",
      "coefs: [0.48219396 1.98043759]\n",
      "extrapol_temp: 3.2877703387759176\n",
      "saving file C:\\Users\\MHJGuillermo\\PycharmProjects\\Doctorado\\Ising\\isingchat\\venv\\data\\regular\\finite-size\\p_1.2\\p-1.2_nv-11_h-0_eig-2048.yml\n",
      "coefs: [0.48219396 1.98043759]\n",
      "extrapol_temp: 3.3834525135854725\n",
      "saving file C:\\Users\\MHJGuillermo\\PycharmProjects\\Doctorado\\Ising\\isingchat\\venv\\data\\regular\\finite-size\\p_1.2\\p-1.2_nv-12_h-0_eig-4096.yml\n",
      "The directory C:\\Users\\MHJGuillermo\\PycharmProjects\\Doctorado\\Ising\\isingchat\\venv\\data\\regular\\finite-size\\p_1.3 has been created before\n",
      "coefs: [0.49798834 1.7728709 ]\n",
      "extrapol_temp: 3.015819123147319\n",
      "saving file C:\\Users\\MHJGuillermo\\PycharmProjects\\Doctorado\\Ising\\isingchat\\venv\\data\\regular\\finite-size\\p_1.3\\p-1.3_nv-11_h-0_eig-2048.yml\n",
      "coefs: [0.49798834 1.7728709 ]\n",
      "extrapol_temp: 3.0890350803334305\n",
      "saving file C:\\Users\\MHJGuillermo\\PycharmProjects\\Doctorado\\Ising\\isingchat\\venv\\data\\regular\\finite-size\\p_1.3\\p-1.3_nv-12_h-0_eig-4096.yml\n",
      "The directory C:\\Users\\MHJGuillermo\\PycharmProjects\\Doctorado\\Ising\\isingchat\\venv\\data\\regular\\finite-size\\p_1.4 has been created before\n",
      "coefs: [0.51980531 1.59899473]\n",
      "extrapol_temp: 2.7804000688617054\n",
      "saving file C:\\Users\\MHJGuillermo\\PycharmProjects\\Doctorado\\Ising\\isingchat\\venv\\data\\regular\\finite-size\\p_1.4\\p-1.4_nv-11_h-0_eig-2048.yml\n",
      "coefs: [0.51980531 1.59899473]\n",
      "extrapol_temp: 2.835822941973376\n",
      "saving file C:\\Users\\MHJGuillermo\\PycharmProjects\\Doctorado\\Ising\\isingchat\\venv\\data\\regular\\finite-size\\p_1.4\\p-1.4_nv-12_h-0_eig-4096.yml\n",
      "The directory C:\\Users\\MHJGuillermo\\PycharmProjects\\Doctorado\\Ising\\isingchat\\venv\\data\\regular\\finite-size\\p_1.5 has been created before\n",
      "coefs: [0.55377281 1.4382114 ]\n",
      "extrapol_temp: 2.5757836276116084\n",
      "saving file C:\\Users\\MHJGuillermo\\PycharmProjects\\Doctorado\\Ising\\isingchat\\venv\\data\\regular\\finite-size\\p_1.5\\p-1.5_nv-11_h-0_eig-2048.yml\n",
      "coefs: [0.55377281 1.4382114 ]\n",
      "extrapol_temp: 2.616948945305479\n",
      "saving file C:\\Users\\MHJGuillermo\\PycharmProjects\\Doctorado\\Ising\\isingchat\\venv\\data\\regular\\finite-size\\p_1.5\\p-1.5_nv-12_h-0_eig-4096.yml\n",
      "The directory C:\\Users\\MHJGuillermo\\PycharmProjects\\Doctorado\\Ising\\isingchat\\venv\\data\\regular\\finite-size\\p_1.6 has been created before\n",
      "coefs: [0.60053322 1.29647654]\n",
      "extrapol_temp: 2.398279299977168\n",
      "saving file C:\\Users\\MHJGuillermo\\PycharmProjects\\Doctorado\\Ising\\isingchat\\venv\\data\\regular\\finite-size\\p_1.6\\p-1.6_nv-11_h-0_eig-2048.yml\n",
      "coefs: [0.60053322 1.29647654]\n",
      "extrapol_temp: 2.4283271820526613\n",
      "saving file C:\\Users\\MHJGuillermo\\PycharmProjects\\Doctorado\\Ising\\isingchat\\venv\\data\\regular\\finite-size\\p_1.6\\p-1.6_nv-12_h-0_eig-4096.yml\n",
      "The directory C:\\Users\\MHJGuillermo\\PycharmProjects\\Doctorado\\Ising\\isingchat\\venv\\data\\regular\\finite-size\\p_1.7 has been created before\n",
      "coefs: [0.67625747 1.15358712]\n",
      "extrapol_temp: 2.242281848065253\n",
      "saving file C:\\Users\\MHJGuillermo\\PycharmProjects\\Doctorado\\Ising\\isingchat\\venv\\data\\regular\\finite-size\\p_1.7\\p-1.7_nv-11_h-0_eig-2048.yml\n",
      "coefs: [0.67625747 1.15358712]\n",
      "extrapol_temp: 2.263460109715404\n",
      "saving file C:\\Users\\MHJGuillermo\\PycharmProjects\\Doctorado\\Ising\\isingchat\\venv\\data\\regular\\finite-size\\p_1.7\\p-1.7_nv-12_h-0_eig-4096.yml\n",
      "The directory C:\\Users\\MHJGuillermo\\PycharmProjects\\Doctorado\\Ising\\isingchat\\venv\\data\\regular\\finite-size\\p_1.8 has been created before\n",
      "coefs: [0.79955956 1.00951604]\n",
      "extrapol_temp: 2.1063594688422285\n",
      "saving file C:\\Users\\MHJGuillermo\\PycharmProjects\\Doctorado\\Ising\\isingchat\\venv\\data\\regular\\finite-size\\p_1.8\\p-1.8_nv-11_h-0_eig-2048.yml\n",
      "coefs: [0.79955956 1.00951604]\n",
      "extrapol_temp: 2.1206156520410575\n",
      "saving file C:\\Users\\MHJGuillermo\\PycharmProjects\\Doctorado\\Ising\\isingchat\\venv\\data\\regular\\finite-size\\p_1.8\\p-1.8_nv-12_h-0_eig-4096.yml\n",
      "The directory C:\\Users\\MHJGuillermo\\PycharmProjects\\Doctorado\\Ising\\isingchat\\venv\\data\\regular\\finite-size\\p_1.9 has been created before\n",
      "coefs: [1.03487996 0.85042608]\n",
      "extrapol_temp: 1.9856758902348706\n",
      "saving file C:\\Users\\MHJGuillermo\\PycharmProjects\\Doctorado\\Ising\\isingchat\\venv\\data\\regular\\finite-size\\p_1.9\\p-1.9_nv-11_h-0_eig-2048.yml\n",
      "coefs: [1.03487996 0.85042608]\n",
      "extrapol_temp: 1.9944866931991405\n",
      "saving file C:\\Users\\MHJGuillermo\\PycharmProjects\\Doctorado\\Ising\\isingchat\\venv\\data\\regular\\finite-size\\p_1.9\\p-1.9_nv-12_h-0_eig-4096.yml\n",
      "The directory C:\\Users\\MHJGuillermo\\PycharmProjects\\Doctorado\\Ising\\isingchat\\venv\\data\\regular\\finite-size\\p_2.0 has been created before\n",
      "coefs: [1.56251774 0.67159779]\n",
      "extrapol_temp: 1.880544456036702\n",
      "saving file C:\\Users\\MHJGuillermo\\PycharmProjects\\Doctorado\\Ising\\isingchat\\venv\\data\\regular\\finite-size\\p_2.0\\p-2.0_nv-11_h-0_eig-2048.yml\n",
      "coefs: [1.56251774 0.67159779]\n",
      "extrapol_temp: 1.8852424712392777\n",
      "saving file C:\\Users\\MHJGuillermo\\PycharmProjects\\Doctorado\\Ising\\isingchat\\venv\\data\\regular\\finite-size\\p_2.0\\p-2.0_nv-12_h-0_eig-4096.yml\n",
      "Sucess generate all files\n"
     ]
    }
   ],
   "source": [
    "list_exp_p = [1.0,1.05,1.1,1.2,1.3,1.4,1.5,1.6,1.7,1.8,1.9,2.0]\n",
    "min_nv = 11\n",
    "max_nv = 12\n",
    "for exp_p in list_exp_p:\n",
    "    path_file = os.path.join(DATA_PATH,\"p_{}\".format(exp_p))\n",
    "    try:\n",
    "        os.mkdir(path_file)\n",
    "    except FileExistsError:\n",
    "        print('The directory {} has been created before'.format(path_file))\n",
    "    for nv in range(min_nv,max_nv+1,1):\n",
    "        column = 'P'+str(exp_p)\n",
    "        # get coefs adjusted\n",
    "        coefs = df_params_finite[column].values\n",
    "        print('coefs: {}'.format(coefs))\n",
    "        extrapol_temp = 1/model_function(nv,exp_p,coefs)\n",
    "        print('extrapol_temp: {}'.format(extrapol_temp))\n",
    "        min_temp = extrapol_temp - 1\n",
    "        max_temp = extrapol_temp + 1\n",
    "        num_samples = 128\n",
    "        incert = 1/32\n",
    "        listJ=1/np.arange(1,nv+1,1)**exp_p\n",
    "        eigs = 2**nv\n",
    "        file_name = \"p-{}_nv-{}_h-0_eig-{}.yml\".format(exp_p,nv,eigs)\n",
    "        print(\"saving file {}\".format(os.path.join(path_file,file_name)))\n",
    "        f = open(os.path.join(path_file,file_name),\"w+\")\n",
    "        f.write(\"# Arbitrary metadata\\n\")\n",
    "        f.write(\"metadata:\\n  description: Ising chain with exp_p={} and {} nearest neighbors\\n\".format(exp_p,nv))\n",
    "        f.write(\"\\nsystem:\\n  params:\\n    interactions: {}\\n\".format(listJ.tolist()))\n",
    "        f.write(\"\\n    temperature:\\n      min: {}\\n      max: {}\\n      num_samples: {}\\n\".format(min_temp,max_temp,num_samples))\n",
    "        f.write(\"\\n    magnetic_field: 0\\n\")\n",
    "        f.write(\"\\n  finite: True\")\n",
    "        f.write(\"\\n  num_tm_eigvals: {}\".format(eigs))\n",
    "#         f.write(\"\\nexec:\\n  parallel: {}\".format(parallel))\n",
    "        f.close()\n",
    "print('Sucess generate all files')"
   ]
  },
  {
   "cell_type": "code",
   "execution_count": 23,
   "metadata": {},
   "outputs": [
    {
     "name": "stdout",
     "output_type": "stream",
     "text": [
      "True\n"
     ]
    }
   ],
   "source": [
    "print( not os.path.exists(os.path.join(path_file,file_name)))"
   ]
  },
  {
   "cell_type": "code",
   "execution_count": 7,
   "metadata": {},
   "outputs": [
    {
     "name": "stdout",
     "output_type": "stream",
     "text": [
      "[1.0, 0.4665164957684037, 0.29865281994692067, 0.21763764082403103, 0.1702679845041569, 0.13932646701298948, 0.11759589342757772, 0.10153154954452942, 0.08919350686224783, 0.07943282347242814, 0.07152667656334291, 0.06499809515869194, 0.059519916389315516, 0.05486042411858822, 0.05085101371884506, 0.04736614270344992, 0.044310452642649344, 0.04161024226667093, 0.03920767043037826, 0.03705672245534738]\n"
     ]
    }
   ],
   "source": [
    "listJ = 1/np.arange(1,20+1,1)**1.1\n",
    "listJ\n",
    "print(listJ.tolist())\n",
    "#print(\"[{}]\".format(','.join([num for num in listJ])))"
   ]
  },
  {
   "cell_type": "code",
   "execution_count": 8,
   "metadata": {},
   "outputs": [
    {
     "name": "stdout",
     "output_type": "stream",
     "text": [
      "[1.0, 0.4665164957684037, 0.29865281994692067, 0.21763764082403103, 0.1702679845041569, 0.13932646701298948, 0.11759589342757772, 0.10153154954452942, 0.08919350686224783, 0.07943282347242814, 0.07152667656334291, 0.06499809515869194, 0.059519916389315516, 0.05486042411858822, 0.05085101371884506, 0.04736614270344992, 0.044310452642649344, 0.04161024226667093, 0.03920767043037826, 0.03705672245534738]\n"
     ]
    }
   ],
   "source": [
    "print([num for num in listJ])"
   ]
  },
  {
   "cell_type": "code",
   "execution_count": null,
   "metadata": {},
   "outputs": [],
   "source": []
  }
 ],
 "metadata": {
  "kernelspec": {
   "display_name": "Python 3",
   "language": "python",
   "name": "python3"
  },
  "language_info": {
   "codemirror_mode": {
    "name": "ipython",
    "version": 3
   },
   "file_extension": ".py",
   "mimetype": "text/x-python",
   "name": "python",
   "nbconvert_exporter": "python",
   "pygments_lexer": "ipython3",
   "version": "3.7.3"
  }
 },
 "nbformat": 4,
 "nbformat_minor": 4
}
