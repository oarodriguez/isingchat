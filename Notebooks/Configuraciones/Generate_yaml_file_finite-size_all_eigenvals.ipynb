{
 "cells": [
  {
   "cell_type": "markdown",
   "metadata": {},
   "source": [
    "## Create .yaml file to get the missing data"
   ]
  },
  {
   "cell_type": "code",
   "execution_count": 1,
   "metadata": {},
   "outputs": [],
   "source": [
    "import os\n",
    "import numpy as np\n",
    "import time\n",
    "import pandas as pd\n",
    "from pathlib import Path\n",
    "\n",
    "BASE_PATH = \"C:\\\\Users\\\\MHJGuillermo\\\\PycharmProjects\\\\Doctorado\\\\Ising\\\\isingchat\\\\venv\"\n",
    "DATA_PATH = Path(os.path.join(BASE_PATH,\"data\\\\regular\\\\finite-size\\\\\")).resolve()"
   ]
  },
  {
   "cell_type": "code",
   "execution_count": 2,
   "metadata": {},
   "outputs": [
    {
     "name": "stdout",
     "output_type": "stream",
     "text": [
      "saving file C:\\Users\\MHJGuillermo\\PycharmProjects\\Doctorado\\Ising\\isingchat\\venv\\data\\regular\\finite-size\\p_1.05\\p-1.05_nv-2_h-0_eig-4.yml\n",
      "saving file C:\\Users\\MHJGuillermo\\PycharmProjects\\Doctorado\\Ising\\isingchat\\venv\\data\\regular\\finite-size\\p_1.05\\p-1.05_nv-3_h-0_eig-8.yml\n",
      "saving file C:\\Users\\MHJGuillermo\\PycharmProjects\\Doctorado\\Ising\\isingchat\\venv\\data\\regular\\finite-size\\p_1.05\\p-1.05_nv-4_h-0_eig-16.yml\n",
      "saving file C:\\Users\\MHJGuillermo\\PycharmProjects\\Doctorado\\Ising\\isingchat\\venv\\data\\regular\\finite-size\\p_1.05\\p-1.05_nv-5_h-0_eig-32.yml\n",
      "saving file C:\\Users\\MHJGuillermo\\PycharmProjects\\Doctorado\\Ising\\isingchat\\venv\\data\\regular\\finite-size\\p_1.05\\p-1.05_nv-6_h-0_eig-64.yml\n",
      "saving file C:\\Users\\MHJGuillermo\\PycharmProjects\\Doctorado\\Ising\\isingchat\\venv\\data\\regular\\finite-size\\p_1.05\\p-1.05_nv-7_h-0_eig-128.yml\n",
      "saving file C:\\Users\\MHJGuillermo\\PycharmProjects\\Doctorado\\Ising\\isingchat\\venv\\data\\regular\\finite-size\\p_1.05\\p-1.05_nv-8_h-0_eig-256.yml\n",
      "saving file C:\\Users\\MHJGuillermo\\PycharmProjects\\Doctorado\\Ising\\isingchat\\venv\\data\\regular\\finite-size\\p_1.05\\p-1.05_nv-9_h-0_eig-512.yml\n",
      "saving file C:\\Users\\MHJGuillermo\\PycharmProjects\\Doctorado\\Ising\\isingchat\\venv\\data\\regular\\finite-size\\p_1.05\\p-1.05_nv-10_h-0_eig-1024.yml\n",
      "Sucess generate all files\n"
     ]
    }
   ],
   "source": [
    "list_exp_p = [1.05]\n",
    "min_nv = 2\n",
    "max_nv = 10\n",
    "for exp_p in list_exp_p:\n",
    "    path_file = os.path.join(DATA_PATH,\"p_{}\".format(exp_p))\n",
    "    try:\n",
    "        os.mkdir(path_file)\n",
    "    except FileExistsError:\n",
    "        print('The directory {} has been created before'.format(path_file))\n",
    "    for nv in range(min_nv,max_nv+1,1):        \n",
    "        if nv <= 10:\n",
    "            min_temp = 0.5\n",
    "            max_temp = 4\n",
    "            num_samples = 512\n",
    "            incert = 1/128\n",
    "            parallel = False\n",
    "        elif nv <= 20 : \n",
    "            min_temp = 1\n",
    "            max_temp = 3\n",
    "            num_samples = 256\n",
    "            incert = 1/128\n",
    "            parallel = False\n",
    "        elif (nv <= 22 and nv > 20):\n",
    "            min_temp = 1.5\n",
    "            max_temp = 2.5\n",
    "            num_samples = 128\n",
    "            incert = 1/64\n",
    "            parallel = True\n",
    "        elif nv == 23:\n",
    "            min_temp = 1.5\n",
    "            max_temp = 2.5\n",
    "            num_samples = 64\n",
    "            incert = 1/64\n",
    "            parallel = True\n",
    "        else:\n",
    "            min_temp = 1.5\n",
    "            max_temp = 2\n",
    "            num_samples = 32\n",
    "            incert = 1/32\n",
    "            parallel = True    \n",
    "        listJ=1/np.arange(1,nv+1,1)**exp_p\n",
    "        eigs = 2**nv\n",
    "        file_name = \"p-{}_nv-{}_h-0_eig-{}.yml\".format(exp_p,nv,eigs)\n",
    "        print(\"saving file {}\".format(os.path.join(path_file,file_name)))\n",
    "        f = open(os.path.join(path_file,file_name),\"w+\")\n",
    "        f.write(\"# Arbitrary metadata\\n\")\n",
    "        f.write(\"metadata:\\n  description: Ising chain with exp_p={} and {} nearest neighbors\\n\".format(exp_p,nv))\n",
    "        f.write(\"\\nsystem:\\n  params:\\n    interactions: {}\\n\".format(listJ.tolist()))\n",
    "        f.write(\"\\n    temperature:\\n      min: {}\\n      max: {}\\n      num_samples: {}\\n\".format(min_temp,max_temp,num_samples))\n",
    "        f.write(\"\\n    magnetic_field: 0\\n\")\n",
    "        f.write(\"\\n  finite: True\")\n",
    "        f.write(\"\\n  num_tm_eigvals: {}\".format(eigs))\n",
    "        f.write(\"\\nexec:\\n  parallel: {}\".format(parallel))\n",
    "        f.close()\n",
    "print('Sucess generate all files')"
   ]
  },
  {
   "cell_type": "code",
   "execution_count": 23,
   "metadata": {},
   "outputs": [
    {
     "name": "stdout",
     "output_type": "stream",
     "text": [
      "True\n"
     ]
    }
   ],
   "source": [
    "print( not os.path.exists(os.path.join(path_file,file_name)))"
   ]
  },
  {
   "cell_type": "code",
   "execution_count": 7,
   "metadata": {},
   "outputs": [
    {
     "name": "stdout",
     "output_type": "stream",
     "text": [
      "[1.0, 0.4665164957684037, 0.29865281994692067, 0.21763764082403103, 0.1702679845041569, 0.13932646701298948, 0.11759589342757772, 0.10153154954452942, 0.08919350686224783, 0.07943282347242814, 0.07152667656334291, 0.06499809515869194, 0.059519916389315516, 0.05486042411858822, 0.05085101371884506, 0.04736614270344992, 0.044310452642649344, 0.04161024226667093, 0.03920767043037826, 0.03705672245534738]\n"
     ]
    }
   ],
   "source": [
    "listJ = 1/np.arange(1,20+1,1)**1.1\n",
    "listJ\n",
    "print(listJ.tolist())\n",
    "#print(\"[{}]\".format(','.join([num for num in listJ])))"
   ]
  },
  {
   "cell_type": "code",
   "execution_count": 8,
   "metadata": {},
   "outputs": [
    {
     "name": "stdout",
     "output_type": "stream",
     "text": [
      "[1.0, 0.4665164957684037, 0.29865281994692067, 0.21763764082403103, 0.1702679845041569, 0.13932646701298948, 0.11759589342757772, 0.10153154954452942, 0.08919350686224783, 0.07943282347242814, 0.07152667656334291, 0.06499809515869194, 0.059519916389315516, 0.05486042411858822, 0.05085101371884506, 0.04736614270344992, 0.044310452642649344, 0.04161024226667093, 0.03920767043037826, 0.03705672245534738]\n"
     ]
    }
   ],
   "source": [
    "print([num for num in listJ])"
   ]
  },
  {
   "cell_type": "code",
   "execution_count": null,
   "metadata": {},
   "outputs": [],
   "source": []
  }
 ],
 "metadata": {
  "kernelspec": {
   "display_name": "Python 3",
   "language": "python",
   "name": "python3"
  },
  "language_info": {
   "codemirror_mode": {
    "name": "ipython",
    "version": 3
   },
   "file_extension": ".py",
   "mimetype": "text/x-python",
   "name": "python",
   "nbconvert_exporter": "python",
   "pygments_lexer": "ipython3",
   "version": "3.7.3"
  }
 },
 "nbformat": 4,
 "nbformat_minor": 4
}
