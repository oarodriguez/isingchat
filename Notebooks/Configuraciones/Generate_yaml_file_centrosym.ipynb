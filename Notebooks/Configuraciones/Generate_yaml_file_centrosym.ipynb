{
 "cells": [
  {
   "cell_type": "markdown",
   "metadata": {},
   "source": [
    "## Create .yaml file to get the missing data"
   ]
  },
  {
   "cell_type": "code",
   "execution_count": 2,
   "metadata": {},
   "outputs": [],
   "source": [
    "import os\n",
    "import numpy as np\n",
    "import time"
   ]
  },
  {
   "cell_type": "code",
   "execution_count": 5,
   "metadata": {},
   "outputs": [
    {
     "name": "stdout",
     "output_type": "stream",
     "text": [
      "The directory C:\\Users\\MHJGuillermo\\PycharmProjects\\Doctorado\\Ising\\isingchat\\venv\\Notebooks\\Configuraciones\\../../data/regular/infinite-size/centrosym/p_2.0 has been created before\n",
      "Sucess generate all files\n"
     ]
    }
   ],
   "source": [
    "#get path\n",
    "import sys\n",
    "sys.path.append('C:\\\\Users\\\\MHJGuillermo\\\\PycharmProjects\\\\Doctorado\\\\Ising\\\\Varios_vecinos\\\\venv\\\\src')\n",
    "\n",
    "list_alpha = [2.0]\n",
    "list_nv = [26,27,28,29,31]\n",
    "for alpha in list_alpha:\n",
    "    path_file = os.path.join(os.getcwd(),\"../../data/regular/infinite-size/centrosym/p_{}\".format(alpha))\n",
    "    try:\n",
    "        os.mkdir(path_file)\n",
    "    except FileExistsError:\n",
    "        print('The directory {} has been created before'.format(path_file))\n",
    "    # Define flags\n",
    "    is_parallel = False\n",
    "    for nv in list_nv:\n",
    "        file_name = \"p-{}_nv-{}_h-0.yml\".format(alpha,nv)\n",
    "#         if nv % 12 == 0:\n",
    "#             is_parallel = True\n",
    "        min_temp = 1.70 \n",
    "        max_temp = 1.80\n",
    "        num_samples = 8\n",
    "        if nv <= 29:\n",
    "            num_samples = 16\n",
    "            is_parallel = True\n",
    "        f = open(os.path.join(path_file,file_name),\"w+\")\n",
    "        f.write(\"# Arbitrary metadata\\n\")\n",
    "        f.write(\"metadata:\\n  description: Ising chain with alpha={} and {} nearest neighbors\\n\".format(alpha,nv))\n",
    "        listJ=1/np.arange(1,nv+1,1)**alpha\n",
    "        f.write(\"\\nsystem:\\n  params:\\n    interactions: {}\\n\".format(listJ.tolist()))\n",
    "        f.write(\"\\n    temperature:\\n      min: {}\\n      max: {}\\n      num_samples: {}\\n\".format(min_temp,max_temp,num_samples))\n",
    "        f.write(\"\\n    magnetic_field: 0\\n\")\n",
    "        f.write(\"\\nexec:\\n  parallel: {}\".format(is_parallel))\n",
    "        f.write(\"\\n\\nuse_centrosymmetric: True\")\n",
    "        f.close()\n",
    "print('Sucess generate all files')"
   ]
  },
  {
   "cell_type": "code",
   "execution_count": 4,
   "metadata": {},
   "outputs": [
    {
     "name": "stdout",
     "output_type": "stream",
     "text": [
      "[1.0, 0.25, 0.1111111111111111, 0.0625, 0.04, 0.027777777777777776, 0.02040816326530612, 0.015625, 0.012345679012345678, 0.01, 0.008264462809917356, 0.006944444444444444, 0.005917159763313609, 0.00510204081632653, 0.0044444444444444444, 0.00390625, 0.0034602076124567475, 0.0030864197530864196, 0.002770083102493075, 0.0025]\n"
     ]
    }
   ],
   "source": [
    "listJ = 1/np.arange(1,20+1,1)**2.0\n",
    "listJ\n",
    "print(listJ.tolist())\n",
    "#print(\"[{}]\".format(','.join([num for num in listJ])))"
   ]
  },
  {
   "cell_type": "code",
   "execution_count": 8,
   "metadata": {},
   "outputs": [
    {
     "name": "stdout",
     "output_type": "stream",
     "text": [
      "[1.0, 0.4665164957684037, 0.29865281994692067, 0.21763764082403103, 0.1702679845041569, 0.13932646701298948, 0.11759589342757772, 0.10153154954452942, 0.08919350686224783, 0.07943282347242814, 0.07152667656334291, 0.06499809515869194, 0.059519916389315516, 0.05486042411858822, 0.05085101371884506, 0.04736614270344992, 0.044310452642649344, 0.04161024226667093, 0.03920767043037826, 0.03705672245534738]\n"
     ]
    }
   ],
   "source": [
    "print([num for num in listJ])"
   ]
  },
  {
   "cell_type": "code",
   "execution_count": null,
   "metadata": {},
   "outputs": [],
   "source": []
  }
 ],
 "metadata": {
  "kernelspec": {
   "display_name": "Python 3",
   "language": "python",
   "name": "python3"
  },
  "language_info": {
   "codemirror_mode": {
    "name": "ipython",
    "version": 3
   },
   "file_extension": ".py",
   "mimetype": "text/x-python",
   "name": "python",
   "nbconvert_exporter": "python",
   "pygments_lexer": "ipython3",
   "version": "3.7.3"
  }
 },
 "nbformat": 4,
 "nbformat_minor": 4
}
