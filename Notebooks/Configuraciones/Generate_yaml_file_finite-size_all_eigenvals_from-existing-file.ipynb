{
 "cells": [
  {
   "cell_type": "markdown",
   "metadata": {},
   "source": [
    "## Create .yaml file to get the missing data"
   ]
  },
  {
   "cell_type": "code",
   "execution_count": 1,
   "metadata": {},
   "outputs": [],
   "source": [
    "import os\n",
    "import numpy as np\n",
    "import time\n",
    "import pandas as pd\n",
    "from pathlib import Path\n",
    "\n",
    "BASE_PATH = \"C:\\\\Users\\\\MHJGuillermo\\\\PycharmProjects\\\\Doctorado\\\\Ising\\\\isingchat\\\\venv\"\n",
    "DATA_PATH = Path(os.path.join(BASE_PATH,\"data\\\\regular\\\\finite-size\\\\\")).resolve()"
   ]
  },
  {
   "cell_type": "code",
   "execution_count": 2,
   "metadata": {},
   "outputs": [
    {
     "name": "stdout",
     "output_type": "stream",
     "text": [
      "saving file C:\\Users\\MHJGuillermo\\PycharmProjects\\Doctorado\\Ising\\isingchat\\venv\\data\\regular\\finite-size\\p_2.0\\p-2.0_nv-10_h-0_eig-1024.yml\n",
      "saving file C:\\Users\\MHJGuillermo\\PycharmProjects\\Doctorado\\Ising\\isingchat\\venv\\data\\regular\\finite-size\\p_2.0\\p-2.0_nv-11_h-0_eig-2048.yml\n",
      "saving file C:\\Users\\MHJGuillermo\\PycharmProjects\\Doctorado\\Ising\\isingchat\\venv\\data\\regular\\finite-size\\p_2.0\\p-2.0_nv-12_h-0_eig-4096.yml\n",
      "saving file C:\\Users\\MHJGuillermo\\PycharmProjects\\Doctorado\\Ising\\isingchat\\venv\\data\\regular\\finite-size\\p_2.0\\p-2.0_nv-13_h-0_eig-8192.yml\n",
      "saving file C:\\Users\\MHJGuillermo\\PycharmProjects\\Doctorado\\Ising\\isingchat\\venv\\data\\regular\\finite-size\\p_2.0\\p-2.0_nv-14_h-0_eig-16384.yml\n",
      "saving file C:\\Users\\MHJGuillermo\\PycharmProjects\\Doctorado\\Ising\\isingchat\\venv\\data\\regular\\finite-size\\p_2.0\\p-2.0_nv-15_h-0_eig-32768.yml\n",
      "saving file C:\\Users\\MHJGuillermo\\PycharmProjects\\Doctorado\\Ising\\isingchat\\venv\\data\\regular\\finite-size\\p_2.0\\p-2.0_nv-16_h-0_eig-65536.yml\n",
      "saving file C:\\Users\\MHJGuillermo\\PycharmProjects\\Doctorado\\Ising\\isingchat\\venv\\data\\regular\\finite-size\\p_2.0\\p-2.0_nv-17_h-0_eig-131072.yml\n",
      "saving file C:\\Users\\MHJGuillermo\\PycharmProjects\\Doctorado\\Ising\\isingchat\\venv\\data\\regular\\finite-size\\p_2.0\\p-2.0_nv-18_h-0_eig-262144.yml\n",
      "saving file C:\\Users\\MHJGuillermo\\PycharmProjects\\Doctorado\\Ising\\isingchat\\venv\\data\\regular\\finite-size\\p_2.0\\p-2.0_nv-19_h-0_eig-524288.yml\n",
      "saving file C:\\Users\\MHJGuillermo\\PycharmProjects\\Doctorado\\Ising\\isingchat\\venv\\data\\regular\\finite-size\\p_2.0\\p-2.0_nv-20_h-0_eig-1048576.yml\n",
      "Sucess generate all files\n"
     ]
    }
   ],
   "source": [
    "list_exp_p = [2.0]\n",
    "min_nv = 10\n",
    "max_nv = 20\n",
    "for exp_p in list_exp_p:\n",
    "    path_file = os.path.join(DATA_PATH,\"p_{}\".format(exp_p))\n",
    "    for nv in range(min_nv,max_nv+1,1):   \n",
    "        eigs = 2**nv\n",
    "        # --- Get original file --- #\n",
    "        original_file = \"p-{}_nv-{}_h-0.yml\".format(exp_p,nv)\n",
    "        f_old = open(os.path.join(path_file,original_file),\"r\")\n",
    "        str_file = f_old.read()\n",
    "        insert_index = str_file.find('exec')\n",
    "        insert_str = str_file[:insert_index] + '\\n  num_tm_eigvals: {}\\n\\n'.format(eigs) + str_file[insert_index:]\n",
    "        f_old.close()\n",
    "        # --- Save file --- #\n",
    "        file_name = \"p-{}_nv-{}_h-0_eig-{}.yml\".format(exp_p,nv,eigs)\n",
    "        print(\"saving file {}\".format(os.path.join(path_file,file_name)))\n",
    "        f = open(os.path.join(path_file,file_name),\"w+\")\n",
    "        f.write(insert_str)\n",
    "        f.close()\n",
    "print('Sucess generate all files')"
   ]
  },
  {
   "cell_type": "code",
   "execution_count": 23,
   "metadata": {},
   "outputs": [
    {
     "name": "stdout",
     "output_type": "stream",
     "text": [
      "True\n"
     ]
    }
   ],
   "source": [
    "print( not os.path.exists(os.path.join(path_file,file_name)))"
   ]
  },
  {
   "cell_type": "code",
   "execution_count": 7,
   "metadata": {},
   "outputs": [
    {
     "name": "stdout",
     "output_type": "stream",
     "text": [
      "[1.0, 0.4665164957684037, 0.29865281994692067, 0.21763764082403103, 0.1702679845041569, 0.13932646701298948, 0.11759589342757772, 0.10153154954452942, 0.08919350686224783, 0.07943282347242814, 0.07152667656334291, 0.06499809515869194, 0.059519916389315516, 0.05486042411858822, 0.05085101371884506, 0.04736614270344992, 0.044310452642649344, 0.04161024226667093, 0.03920767043037826, 0.03705672245534738]\n"
     ]
    }
   ],
   "source": [
    "listJ = 1/np.arange(1,20+1,1)**1.1\n",
    "listJ\n",
    "print(listJ.tolist())\n",
    "#print(\"[{}]\".format(','.join([num for num in listJ])))"
   ]
  },
  {
   "cell_type": "code",
   "execution_count": 8,
   "metadata": {},
   "outputs": [
    {
     "name": "stdout",
     "output_type": "stream",
     "text": [
      "[1.0, 0.4665164957684037, 0.29865281994692067, 0.21763764082403103, 0.1702679845041569, 0.13932646701298948, 0.11759589342757772, 0.10153154954452942, 0.08919350686224783, 0.07943282347242814, 0.07152667656334291, 0.06499809515869194, 0.059519916389315516, 0.05486042411858822, 0.05085101371884506, 0.04736614270344992, 0.044310452642649344, 0.04161024226667093, 0.03920767043037826, 0.03705672245534738]\n"
     ]
    }
   ],
   "source": [
    "print([num for num in listJ])"
   ]
  },
  {
   "cell_type": "code",
   "execution_count": null,
   "metadata": {},
   "outputs": [],
   "source": []
  }
 ],
 "metadata": {
  "kernelspec": {
   "display_name": "Python 3",
   "language": "python",
   "name": "python3"
  },
  "language_info": {
   "codemirror_mode": {
    "name": "ipython",
    "version": 3
   },
   "file_extension": ".py",
   "mimetype": "text/x-python",
   "name": "python",
   "nbconvert_exporter": "python",
   "pygments_lexer": "ipython3",
   "version": "3.7.3"
  }
 },
 "nbformat": 4,
 "nbformat_minor": 4
}
