{
 "cells": [
  {
   "cell_type": "markdown",
   "metadata": {},
   "source": [
    "## Create .yaml file to calculate correlation length with centrosym property"
   ]
  },
  {
   "cell_type": "code",
   "execution_count": 1,
   "metadata": {},
   "outputs": [],
   "source": [
    "import os\n",
    "import numpy as np\n",
    "import time"
   ]
  },
  {
   "cell_type": "code",
   "execution_count": 2,
   "metadata": {},
   "outputs": [
    {
     "name": "stdout",
     "output_type": "stream",
     "text": [
      "The directory C:\\Users\\MHJGuillermo\\PycharmProjects\\Doctorado\\Ising\\isingchat\\data\\cor_length/regular/infinite-size/centrosym/p_1.2 has been created before\n",
      "Sucess generate all files\n"
     ]
    }
   ],
   "source": [
    "#get path\n",
    "import sys\n",
    "sys.path.append('C:\\\\Users\\\\MHJGuillermo\\\\PycharmProjects\\\\Doctorado\\\\Ising\\\\isingchat\\\\src')\n",
    "DATA_PATH = 'C:\\\\Users\\\\MHJGuillermo\\\\PycharmProjects\\\\Doctorado\\\\Ising\\\\isingchat\\\\data'\n",
    "use_centrosymmetric = True\n",
    "is_inverse_temp = True\n",
    "\n",
    "list_alpha = [2.0,1.9,1.8,1.7,1.6,1.5,1.4,1.3,1.2,1.1,1.05,1.0]\n",
    "# list_alpha = [1.0]\n",
    "list_nv = [2,3,4,5,6,7,8,9,10,11,12,13,14,15,16,17,18,19,20,21,22,23,24,25]\n",
    "for alpha in list_alpha:\n",
    "    if use_centrosymmetric:\n",
    "        path_file = os.path.join(DATA_PATH,\"cor_length/regular/infinite-size/centrosym/p_{}\".format(alpha))\n",
    "    else:\n",
    "        path_file = os.path.join(DATA_PATH,\"cor_length/regular/infinite-size/p_{}\".format(alpha))\n",
    "    try:\n",
    "        os.mkdir(path_file)\n",
    "    except FileExistsError:\n",
    "        print('The directory {} has been created before'.format(path_file))\n",
    "    # Define flags\n",
    "    is_parallel = False\n",
    "    for nv in list_nv:\n",
    "        if is_inverse_temp:\n",
    "            file_name = \"p-{}_nv-{}_h-0_inv-temp.yml\".format(alpha,nv)\n",
    "        else:\n",
    "            file_name = \"p-{}_nv-{}_h-0.yml\".format(alpha,nv)\n",
    "        if nv <= 15:\n",
    "            min_temp = 0.001\n",
    "            max_temp = 0.6\n",
    "            num_samples = 512\n",
    "        elif nv < 20:\n",
    "            min_temp = 0.001\n",
    "            max_temp = 0.6\n",
    "            num_samples = 256\n",
    "        elif nv < 22:\n",
    "            min_temp = 0.001\n",
    "            max_temp = 0.6\n",
    "            num_samples = 128\n",
    "        elif nv < 23:\n",
    "            min_temp = 0.001\n",
    "            max_temp = 0.6\n",
    "            num_samples = 64\n",
    "        elif nv < 25:\n",
    "            min_temp = 0.001\n",
    "            max_temp = 0.6\n",
    "            num_samples = 32\n",
    "        else:\n",
    "            min_temp = 0.001\n",
    "            max_temp = 0.6\n",
    "            num_samples = 16\n",
    "        f = open(os.path.join(path_file,file_name),\"w+\")\n",
    "        f.write(\"# Arbitrary metadata\\n\")\n",
    "        f.write(\"metadata:\\n  description: Ising chain with alpha={} and {} nearest neighbors\\n\".format(alpha,nv))\n",
    "        listJ=1/np.arange(1,nv+1,1)**alpha\n",
    "        f.write(\"\\nsystem:\\n  params:\\n    interactions: {}\\n\".format(listJ.tolist()))\n",
    "        if is_inverse_temp:\n",
    "            f.write(\"\\n    inv_temperature:\\n      min: {}\\n      max: {}\\n      num_samples: {}\\n\".format(min_temp,max_temp,num_samples))\n",
    "        else:\n",
    "            f.write(\"\\n    temperature:\\n      min: {}\\n      max: {}\\n      num_samples: {}\\n\".format(min_temp,max_temp,num_samples))\n",
    "        f.write(\"\\n    magnetic_field: 0\\n\")\n",
    "        f.write(\"\\nexec:\\n  parallel: {}\".format(is_parallel))\n",
    "        if use_centrosymmetric:\n",
    "            f.write(\"\\n\\nuse_centrosymmetric: True\")\n",
    "        f.close()\n",
    "print('Sucess generate all files')"
   ]
  },
  {
   "cell_type": "code",
   "execution_count": 4,
   "metadata": {},
   "outputs": [
    {
     "name": "stdout",
     "output_type": "stream",
     "text": [
      "[1.0, 0.25, 0.1111111111111111, 0.0625, 0.04, 0.027777777777777776, 0.02040816326530612, 0.015625, 0.012345679012345678, 0.01, 0.008264462809917356, 0.006944444444444444, 0.005917159763313609, 0.00510204081632653, 0.0044444444444444444, 0.00390625, 0.0034602076124567475, 0.0030864197530864196, 0.002770083102493075, 0.0025]\n"
     ]
    }
   ],
   "source": [
    "listJ = 1/np.arange(1,20+1,1)**2.0\n",
    "listJ\n",
    "print(listJ.tolist())\n",
    "#print(\"[{}]\".format(','.join([num for num in listJ])))"
   ]
  }
 ],
 "metadata": {
  "kernelspec": {
   "display_name": "Python 3",
   "language": "python",
   "name": "python3"
  },
  "language_info": {
   "codemirror_mode": {
    "name": "ipython",
    "version": 3
   },
   "file_extension": ".py",
   "mimetype": "text/x-python",
   "name": "python",
   "nbconvert_exporter": "python",
   "pygments_lexer": "ipython3",
   "version": "3.7.3"
  }
 },
 "nbformat": 4,
 "nbformat_minor": 4
}
