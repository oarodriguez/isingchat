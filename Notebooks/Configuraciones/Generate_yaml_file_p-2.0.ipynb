{
 "cells": [
  {
   "cell_type": "markdown",
   "metadata": {},
   "source": [
    "## Create .yaml file to get the missing data"
   ]
  },
  {
   "cell_type": "code",
   "execution_count": 8,
   "metadata": {},
   "outputs": [],
   "source": [
    "import os\n",
    "import numpy as np\n",
    "import time\n",
    "import pandas as pd\n",
    "from pathlib import Path\n",
    "\n",
    "BASE_PATH = \"C:\\\\Users\\\\MHJGuillermo\\\\PycharmProjects\\\\Doctorado\\\\Ising\\\\Varios_vecinos\\\\venv\"\n",
    "DATA_PATH = Path(os.path.join(BASE_PATH,\"data/\")).resolve()"
   ]
  },
  {
   "cell_type": "markdown",
   "metadata": {},
   "source": [
    "### Get model to extrapol values"
   ]
  },
  {
   "cell_type": "code",
   "execution_count": 32,
   "metadata": {},
   "outputs": [],
   "source": [
    "def model_function(x: float,a1,a2,a3):\n",
    "    return 1/np.sqrt(-np.log(a1+a2*x+a3*x**2))\n",
    "\n",
    "def get_extrapol_function(model_function,a1,a2,a3):\n",
    "    def extrapol_funct(x):\n",
    "        return model_function(x,a1,a2,a3)\n",
    "    return extrapol_funct\n",
    "\n",
    "def extrapol_funct_p1(x):\n",
    "    a1 = 0.8941331066741727\n",
    "    a2 = 0.8347580777184751\n",
    "    return a1*np.sqrt(-np.log(1-a2*x))    \n"
   ]
  },
  {
   "cell_type": "code",
   "execution_count": 9,
   "metadata": {},
   "outputs": [],
   "source": [
    "file_params = \"inv_Tc_vs_inv_nv_sqrt_and_log_3_parms_params_curves.csv\"\n",
    "df_params = pd.read_csv(os.path.join(DATA_PATH,\"Extrapolation\",file_params),index_col=0)"
   ]
  },
  {
   "cell_type": "code",
   "execution_count": 33,
   "metadata": {},
   "outputs": [
    {
     "name": "stdout",
     "output_type": "stream",
     "text": [
      "The directory C:\\Users\\MHJGuillermo\\PycharmProjects\\Doctorado\\Ising\\Varios_vecinos\\venv\\data\\h-0\\alpha_1.0 has been created before\n",
      "The directory C:\\Users\\MHJGuillermo\\PycharmProjects\\Doctorado\\Ising\\Varios_vecinos\\venv\\data\\h-0\\alpha_1.1 has been created before\n",
      "The directory C:\\Users\\MHJGuillermo\\PycharmProjects\\Doctorado\\Ising\\Varios_vecinos\\venv\\data\\h-0\\alpha_1.2 has been created before\n",
      "The directory C:\\Users\\MHJGuillermo\\PycharmProjects\\Doctorado\\Ising\\Varios_vecinos\\venv\\data\\h-0\\alpha_1.3 has been created before\n",
      "The directory C:\\Users\\MHJGuillermo\\PycharmProjects\\Doctorado\\Ising\\Varios_vecinos\\venv\\data\\h-0\\alpha_1.4 has been created before\n",
      "The directory C:\\Users\\MHJGuillermo\\PycharmProjects\\Doctorado\\Ising\\Varios_vecinos\\venv\\data\\h-0\\alpha_1.5 has been created before\n",
      "The directory C:\\Users\\MHJGuillermo\\PycharmProjects\\Doctorado\\Ising\\Varios_vecinos\\venv\\data\\h-0\\alpha_1.6 has been created before\n",
      "The directory C:\\Users\\MHJGuillermo\\PycharmProjects\\Doctorado\\Ising\\Varios_vecinos\\venv\\data\\h-0\\alpha_1.7 has been created before\n",
      "The directory C:\\Users\\MHJGuillermo\\PycharmProjects\\Doctorado\\Ising\\Varios_vecinos\\venv\\data\\h-0\\alpha_1.8 has been created before\n",
      "The directory C:\\Users\\MHJGuillermo\\PycharmProjects\\Doctorado\\Ising\\Varios_vecinos\\venv\\data\\h-0\\alpha_1.9 has been created before\n",
      "The directory C:\\Users\\MHJGuillermo\\PycharmProjects\\Doctorado\\Ising\\Varios_vecinos\\venv\\data\\h-0\\alpha_2.0 has been created before\n",
      "Sucess generate all files\n"
     ]
    }
   ],
   "source": [
    "list_alpha = [1.0,1.1,1.2,1.3,1.4,1.5,1.6,1.7,1.8,1.9,2.0]\n",
    "min_nv = 16\n",
    "max_nv = 25\n",
    "for alpha in list_alpha:\n",
    "    path_file = os.path.join(DATA_PATH,\"h-0\\\\alpha_{}\".format(alpha))\n",
    "    try:\n",
    "        os.mkdir(path_file)\n",
    "    except FileExistsError:\n",
    "        print('The directory {} has been created before'.format(path_file))\n",
    "    for nv in range(min_nv,max_nv+1,1):\n",
    "        if alpha == 1.0:\n",
    "            temp_val_extrapol = 1/extrapol_funct_p1(1/nv)\n",
    "        else:            \n",
    "            # get params\n",
    "            column = \"P\" + str(alpha)\n",
    "            (a1,a2,a3) = df_params[column].values\n",
    "            # get model\n",
    "            extrapol_funct = get_extrapol_function(model_function, a1, a2, a3)\n",
    "            temp_val_extrapol = extrapol_funct(1/nv)\n",
    "        \n",
    "        incert = 1/32\n",
    "        num_samples = 32\n",
    "        parallel = True\n",
    "        if nv <= 20 : \n",
    "            num_samples = 256\n",
    "            incert = 1/128\n",
    "        elif (nv <= 22 and nv > 20):\n",
    "            num_samples = 128\n",
    "            incert = 1/64\n",
    "        elif nv == 23:\n",
    "            num_samples = 64\n",
    "        else:\n",
    "            num_samples = 32\n",
    "            \n",
    "        min_temp = temp_val_extrapol - (1/2)*(incert*num_samples)\n",
    "        max_temp = temp_val_extrapol + (1/2)*(incert*num_samples)\n",
    "        file_name = \"alpha-{}_nv-{}_h-0.yml\".format(alpha,nv)\n",
    "#         if os.path.exists(os.path.join(path_file,file_name)):\n",
    "#             print(\"File {} already exists.\".format(file_name))\n",
    "#         else:\n",
    "        f = open(os.path.join(path_file,file_name),\"w+\")\n",
    "        f.write(\"# Arbitrary metadata\\n\")\n",
    "        f.write(\"metadata:\\n  description: Ising chain with alpha={} and {} nearest neighbors\\n\".format(alpha,nv))\n",
    "        listJ=1/np.arange(1,nv+1,1)**alpha\n",
    "        f.write(\"\\nsystem:\\n  params:\\n    interactions: {}\\n\".format(listJ.tolist()))\n",
    "        f.write(\"\\n    temperature:\\n      min: {}\\n      max: {}\\n      num_samples: {}\\n\".format(min_temp,max_temp,num_samples))\n",
    "        f.write(\"\\n    magnetic_field: 0\\n\")\n",
    "        f.write(\"\\nexec:\\n  parallel: {}\".format(parallel))\n",
    "        f.close()\n",
    "print('Sucess generate all files')"
   ]
  },
  {
   "cell_type": "code",
   "execution_count": 23,
   "metadata": {},
   "outputs": [
    {
     "name": "stdout",
     "output_type": "stream",
     "text": [
      "True\n"
     ]
    }
   ],
   "source": [
    "print( not os.path.exists(os.path.join(path_file,file_name)))"
   ]
  },
  {
   "cell_type": "code",
   "execution_count": 7,
   "metadata": {},
   "outputs": [
    {
     "name": "stdout",
     "output_type": "stream",
     "text": [
      "[1.0, 0.4665164957684037, 0.29865281994692067, 0.21763764082403103, 0.1702679845041569, 0.13932646701298948, 0.11759589342757772, 0.10153154954452942, 0.08919350686224783, 0.07943282347242814, 0.07152667656334291, 0.06499809515869194, 0.059519916389315516, 0.05486042411858822, 0.05085101371884506, 0.04736614270344992, 0.044310452642649344, 0.04161024226667093, 0.03920767043037826, 0.03705672245534738]\n"
     ]
    }
   ],
   "source": [
    "listJ = 1/np.arange(1,20+1,1)**1.1\n",
    "listJ\n",
    "print(listJ.tolist())\n",
    "#print(\"[{}]\".format(','.join([num for num in listJ])))"
   ]
  },
  {
   "cell_type": "code",
   "execution_count": 8,
   "metadata": {},
   "outputs": [
    {
     "name": "stdout",
     "output_type": "stream",
     "text": [
      "[1.0, 0.4665164957684037, 0.29865281994692067, 0.21763764082403103, 0.1702679845041569, 0.13932646701298948, 0.11759589342757772, 0.10153154954452942, 0.08919350686224783, 0.07943282347242814, 0.07152667656334291, 0.06499809515869194, 0.059519916389315516, 0.05486042411858822, 0.05085101371884506, 0.04736614270344992, 0.044310452642649344, 0.04161024226667093, 0.03920767043037826, 0.03705672245534738]\n"
     ]
    }
   ],
   "source": [
    "print([num for num in listJ])"
   ]
  },
  {
   "cell_type": "code",
   "execution_count": null,
   "metadata": {},
   "outputs": [],
   "source": []
  }
 ],
 "metadata": {
  "kernelspec": {
   "display_name": "Python 3",
   "language": "python",
   "name": "python3"
  },
  "language_info": {
   "codemirror_mode": {
    "name": "ipython",
    "version": 3
   },
   "file_extension": ".py",
   "mimetype": "text/x-python",
   "name": "python",
   "nbconvert_exporter": "python",
   "pygments_lexer": "ipython3",
   "version": "3.7.3"
  }
 },
 "nbformat": 4,
 "nbformat_minor": 4
}
