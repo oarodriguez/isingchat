{
 "cells": [
  {
   "cell_type": "markdown",
   "metadata": {},
   "source": [
    "# Convert h5 in csv"
   ]
  },
  {
   "cell_type": "code",
   "execution_count": 28,
   "metadata": {},
   "outputs": [],
   "source": [
    "import pandas as pd\n",
    "from pathlib import Path\n",
    "\n",
    "import h5py\n",
    "import numpy as np\n",
    "from isingchat import style\n",
    "from isingchat.io import read_ising_config\n",
    "from matplotlib import pyplot, rcParams\n",
    "from matplotlib.axes import Axes, GridSpec\n",
    "from matplotlib.figure import Figure\n",
    "from ruamel.yaml import YAML\n",
    "from scipy import interpolate as interp\n",
    "from scipy.signal import savgol_filter\n",
    "import pandas as pd\n",
    "import json\n",
    "\n",
    "import os\n",
    "import re\n",
    "\n",
    "import os\n",
    "import re\n",
    "\n",
    "yaml = YAML()\n"
   ]
  },
  {
   "cell_type": "code",
   "execution_count": 57,
   "metadata": {},
   "outputs": [],
   "source": [
    "data_path = Path('C:\\\\Users\\\\MHJGuillermo\\\\PycharmProjects\\\\Doctorado\\\\Ising\\\\isingchat\\\\data\\\\cor_length\\\\regular\\\\infinite-size\\\\centrosym')\n",
    "p=1.2\n",
    "nv=10\n",
    "\n",
    "file = 'p_{}\\\\p-{}_nv-{}_h-0_inv-temp.yml'.format(p,p,nv)\n",
    "\n",
    "config_file = Path(os.path.join(data_path,file)).resolve()\n",
    "cor_length_file = config_file.with_suffix(\".cor-length.h5\")"
   ]
  },
  {
   "cell_type": "code",
   "execution_count": 58,
   "metadata": {},
   "outputs": [],
   "source": [
    "with h5py.File(str(cor_length_file)) as h5fp:\n",
    "    cor_length = h5fp[\"correlation-length\"][:]\n",
    "\n",
    "with config_file.open() as cfp:\n",
    "    config_info = yaml.load(cfp)\n",
    "config_data = read_ising_config(config_info)"
   ]
  },
  {
   "cell_type": "code",
   "execution_count": 59,
   "metadata": {},
   "outputs": [],
   "source": [
    "temp = config_data[\"system\"][\"inv_temperature\"]"
   ]
  },
  {
   "cell_type": "code",
   "execution_count": 60,
   "metadata": {},
   "outputs": [
    {
     "data": {
      "text/plain": [
       "0      0.001000\n",
       "1      0.002172\n",
       "2      0.003344\n",
       "3      0.004517\n",
       "4      0.005689\n",
       "         ...   \n",
       "507    0.595311\n",
       "508    0.596483\n",
       "509    0.597656\n",
       "510    0.598828\n",
       "511    0.600000\n",
       "Length: 512, dtype: float64"
      ]
     },
     "execution_count": 60,
     "metadata": {},
     "output_type": "execute_result"
    }
   ],
   "source": [
    "pd.Series(temp)"
   ]
  },
  {
   "cell_type": "code",
   "execution_count": 61,
   "metadata": {},
   "outputs": [],
   "source": [
    "export_df=pd.DataFrame({\"inv_temp\":temp,\"cor_length\":np.resize(cor_length,(1,512))[0]})"
   ]
  },
  {
   "cell_type": "code",
   "execution_count": 62,
   "metadata": {},
   "outputs": [],
   "source": [
    "export_df.to_csv('C:\\\\Users\\\\MHJGuillermo\\\\PycharmProjects\\\\Doctorado\\\\Ising\\\\isingchat\\\\data\\\\cor_length\\\\regular\\\\infinite-size\\\\MASOLIS\\cor_length_p-{}_nv-{}.csv'.format(p,nv))"
   ]
  }
 ],
 "metadata": {
  "kernelspec": {
   "display_name": "Python 3",
   "language": "python",
   "name": "python3"
  },
  "language_info": {
   "codemirror_mode": {
    "name": "ipython",
    "version": 3
   },
   "file_extension": ".py",
   "mimetype": "text/x-python",
   "name": "python",
   "nbconvert_exporter": "python",
   "pygments_lexer": "ipython3",
   "version": "3.7.3"
  }
 },
 "nbformat": 4,
 "nbformat_minor": 4
}
